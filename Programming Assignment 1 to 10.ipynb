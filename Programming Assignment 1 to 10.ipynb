{
 "cells": [
  {
   "cell_type": "markdown",
   "id": "760e7a4d",
   "metadata": {},
   "source": [
    "# Part- 1\n"
   ]
  },
  {
   "cell_type": "markdown",
   "id": "2c6c6e67",
   "metadata": {},
   "source": [
    "1)Write a Python program to print \"Hello Python\"?\n",
    "\n",
    "--> print (\"Hello Python\")"
   ]
  },
  {
   "cell_type": "markdown",
   "id": "06061888",
   "metadata": {},
   "source": [
    "2)Write a Python program to do arithmetical operations addition and division.?\n",
    "\n",
    "---> \n",
    "\n",
    "def addition(*args):\n",
    "    output_sum=0\n",
    "    for item in args:\n",
    "        output_sum+=item\n",
    "    return output_sum\n",
    "def division(a,b):\n",
    "    return a/b\n",
    "\n",
    "addition(5,6)\n",
    "\n",
    "division(5,10)\n"
   ]
  },
  {
   "cell_type": "markdown",
   "id": "e1680017",
   "metadata": {},
   "source": [
    "3)Write a Python program to find the area of a triangle?\n",
    "\n",
    "--->\n",
    "\n",
    "a = float(input('Enter first side: '))  \n",
    "b = float(input('Enter second side: '))  \n",
    "c = float(input('Enter third side: '))  \n",
    "\n",
    "s = (a + b + c) / 2  \n",
    "\n",
    "area = (s*(s-a)*(s-b)*(s-c)) ** 0.5  \n",
    "print('The area of the triangle is %0.2f' %area)   "
   ]
  },
  {
   "cell_type": "markdown",
   "id": "9b988b86",
   "metadata": {},
   "source": [
    "4)Write a Python program to swap two variables?\n",
    "\n",
    "--->\n",
    "def swap(a,b):\n",
    "    a,b = b,a\n",
    "    return a,b\n",
    "i = int(input(\"Enter first value: \"))\n",
    "j = int(input(\"Enter second value: \"))\n",
    "swap(i,j)"
   ]
  },
  {
   "cell_type": "markdown",
   "id": "dfda687f",
   "metadata": {},
   "source": [
    "5)Write a Python program to generate a random number?\n",
    "\n",
    "--> import random\n",
    "print(random.randint(0,9))"
   ]
  },
  {
   "cell_type": "markdown",
   "id": "931cf1f4",
   "metadata": {},
   "source": []
  },
  {
   "cell_type": "markdown",
   "id": "73527ff8",
   "metadata": {},
   "source": [
    "# Part- 2"
   ]
  },
  {
   "cell_type": "markdown",
   "id": "176491ed",
   "metadata": {},
   "source": [
    "1)Write a Python program to convert kilometers to miles?\n",
    "\n",
    "--> \n",
    "def km_to_miles(a):\n",
    "    conv_fac = 0.621371\n",
    "    miles = a * conv_fac\n",
    "    print('%0.2f kilometers is equal to %0.2f miles' %(a,miles))\n",
    "distance = float(input(\"Enter the distance:\"))\n",
    "km_to_miles(distance)"
   ]
  },
  {
   "cell_type": "markdown",
   "id": "ab9b802d",
   "metadata": {},
   "source": [
    "2)Write a Python program to convert Celsius to Fahrenheit?\n",
    "-->\n",
    "def celsius_to_farenheit(celsius):\n",
    "    farenheit = (celsius*1.8)+32\n",
    "    print(\"Temperature in farenheit is:\",farenheit)\n",
    "temprature = float(input(\"Enter the temperature in celcius: \"))\n",
    "celsius_to_farenheit(temprature)"
   ]
  },
  {
   "cell_type": "markdown",
   "id": "ab0fd705",
   "metadata": {},
   "source": [
    "3)Write a Python program to display calendar?\n",
    "\n",
    "---> import calendar\n",
    "yy = int(input(\"Enter year: \"))\n",
    "mm = int(input(\"Enter month: \"))\n",
    "print(calendar.month(yy, mm))"
   ]
  },
  {
   "cell_type": "markdown",
   "id": "ce28c2d9",
   "metadata": {},
   "source": [
    "4) Write a Python program to solve quadratic equation?\n",
    "-->\n",
    "#The quadratic equation is ax**2 + bx + c = 0\n",
    "import cmath\n",
    "\n",
    "a = 1\n",
    "b = 5\n",
    "c = 4\n",
    "\n",
    "d = (b**2) - (4*a*c)\n",
    "\n",
    "sol1 = (-b-cmath.sqrt(d))/(2*a)\n",
    "sol2 = (-b+cmath.sqrt(d))/(2*a)\n",
    "\n",
    "print('The solution are {0} and {1}'.format(sol1,sol2))\n"
   ]
  },
  {
   "cell_type": "markdown",
   "id": "d5cb55cf",
   "metadata": {},
   "source": [
    "5)Write a Python program to swap two variables without temp variable?\n",
    "\n",
    "---> \n",
    "a = int(input(\"Enter first number: \"))\n",
    "b = int(input(\"Enter second number: \"))\n",
    "print(\"Before swapping values of a and b are : {0} and {1}\".format(a,b))\n",
    "a,b = b,a\n",
    "print(\"After swapping values of a and b are : {0} and {1}\".format(a,b))\n"
   ]
  },
  {
   "cell_type": "markdown",
   "id": "412db108",
   "metadata": {},
   "source": []
  },
  {
   "cell_type": "markdown",
   "id": "c72d2c42",
   "metadata": {},
   "source": [
    "# Part -3"
   ]
  },
  {
   "cell_type": "markdown",
   "id": "ee574bcf",
   "metadata": {},
   "source": [
    "1)Write a Python Program to Check if a Number is Positive, Negative or Zero?\n",
    "\n",
    "--> \n",
    "\n",
    "def num_check(num):\n",
    "    if num > 0:\n",
    "        print(\"Positive number\")\n",
    "    elif num == 0:\n",
    "       print(\"Zero\")\n",
    "    else:\n",
    "       print(\"Negative number\")\n",
    "number = float(input(\"Enter a number: \"))\n",
    "num_check(number)"
   ]
  },
  {
   "cell_type": "markdown",
   "id": "51d451b5",
   "metadata": {},
   "source": [
    "2)Write a Python Program to Check if a Number is Odd or Even?\n",
    "\n",
    "---> \n",
    "def even_odd(num):\n",
    "    if (num % 2) == 0:\n",
    "       print(\"{0} is Even\".format(num))\n",
    "    else:\n",
    "       print(\"{0} is Odd\".format(num))\n",
    "number = int(input(\"Enter a number: \"))\n",
    "even_odd(number)\n",
    "\n"
   ]
  },
  {
   "cell_type": "markdown",
   "id": "b362c748",
   "metadata": {},
   "source": [
    "3)Write a Python Program to Check Leap Year?\n",
    "--->\n",
    "\n",
    "def leap_year(year):\n",
    "    if (year % 4) == 0:\n",
    "        if (year % 100) == 0:\n",
    "            if (year % 400) == 0:\n",
    "               print(\"{0} is a leap year\".format(year))\n",
    "            else:\n",
    "               print(\"{0} is not a leap year\".format(year))\n",
    "        else:\n",
    "           print(\"{0} is a leap year\".format(year))\n",
    "    else:\n",
    "       print(\"{0} is not a leap year\".format(year))\n",
    "year = int(input(\"Enter a year: \"))\n",
    "leap_year(year)\n"
   ]
  },
  {
   "cell_type": "markdown",
   "id": "d9bcc074",
   "metadata": {},
   "source": [
    "4)Write a Python Program to Check Prime Number?\n",
    "--->\n",
    "def prime_check(num):\n",
    "    if num > 1:\n",
    "        for i in range(2,num):\n",
    "           if (num % i) == 0:\n",
    "               print(num,\"is not a prime number\")\n",
    "               print(i,\"times\",num//i,\"is\",num)\n",
    "               break\n",
    "        else:\n",
    "           print(num,\"is a prime number\")\n",
    "    else:\n",
    "       print(num,\"is not a prime number\")\n",
    "number = int(input(\"Enter a number: \"))\n",
    "prime_check(number)"
   ]
  },
  {
   "cell_type": "markdown",
   "id": "a433c87a",
   "metadata": {},
   "source": [
    "5)Write a Python Program to Print all Prime Numbers in an Interval of 1-10000?\n",
    "\n",
    "--->\n",
    "def prime_check_interval(lower,upper):\n",
    "    print(\"Prime numbers between\", lower, \"and\", upper, \"are:\")\n",
    "    for num in range(lower, upper + 1):\n",
    "       if num > 1:\n",
    "           for i in range(2, num):\n",
    "               if (num % i) == 0:\n",
    "                   break\n",
    "           else:\n",
    "            print(num)\n",
    "lower_number = int(input(\"Enter a lower range number: \"))\n",
    "upper_number = int(input(\"Enter an upper range number: \"))\n",
    "prime_check_interval(lower_number, upper_number)\n"
   ]
  },
  {
   "cell_type": "markdown",
   "id": "09b9b435",
   "metadata": {},
   "source": []
  },
  {
   "cell_type": "markdown",
   "id": "bfdc0546",
   "metadata": {},
   "source": [
    "# Part-4"
   ]
  },
  {
   "cell_type": "markdown",
   "id": "bec897e6",
   "metadata": {},
   "source": [
    "1)Write a Python Program to Find the Factorial of a Number?\n",
    "\n",
    "-->\n",
    "def factorial(num):\n",
    "    factorial = 1\n",
    "    if num < 0:\n",
    "       print(\"Sorry, factorial does not exist for negative numbers\")\n",
    "    elif num == 0:\n",
    "       print(\"The factorial of 0 is 1\")\n",
    "    else:\n",
    "       for i in range(1,num + 1):\n",
    "           factorial = factorial*i\n",
    "       print(\"The factorial of\",num,\"is\",factorial)\n",
    "num = int(input(\"Enter a number: \"))\n",
    "factorial(num)\n"
   ]
  },
  {
   "cell_type": "markdown",
   "id": "2ded8be1",
   "metadata": {},
   "source": [
    "2)Write a Python Program to Display the multiplication Table?\n",
    "\n",
    "--->\n",
    "def multiplication_table(num):\n",
    "    for i in range(1, 11):\n",
    "       print(num, 'x', i, '=', num*i)\n",
    "number = int(input(\"Display multiplication table of: \"))\n",
    "multiplication_table(number)"
   ]
  },
  {
   "cell_type": "markdown",
   "id": "fbfa94bd",
   "metadata": {},
   "source": [
    "3)Write a Python Program to Print the Fibonacci sequence?\n",
    "-->\n",
    "def fibonacci(nterms):\n",
    "    n1, n2 = 0, 1\n",
    "    count = 0\n",
    "    if nterms <= 0:\n",
    "        print(\"Please enter a positive integer\")\n",
    "    elif nterms == 1:\n",
    "       print(\"Fibonacci sequence upto\",nterms,\":\")\n",
    "       print(n1)\n",
    "    else:\n",
    "       print(\"Fibonacci sequence:\")\n",
    "       while count < nterms:\n",
    "           print(n1)\n",
    "           nth = n1 + n2\n",
    "       # update values\n",
    "           n1 = n2\n",
    "           n2 = nth\n",
    "           count += 1\n",
    "nterms = int(input(\"How many terms: \"))\n",
    "fibonacci(nterms)"
   ]
  },
  {
   "cell_type": "markdown",
   "id": "9e706656",
   "metadata": {},
   "source": [
    "4)Write a Python Program to Check Armstrong Number?\n",
    "\n",
    "-->\n",
    "def armstrong(num):\n",
    "    order = len(str(num))\n",
    "    sum = 0\n",
    "    temp = num\n",
    "    while temp > 0:\n",
    "        digit = temp % 10\n",
    "        sum += digit ** order\n",
    "        temp //= 10\n",
    "\n",
    "\n",
    "    if num == sum:\n",
    "       print(num,\"is an Armstrong number\")\n",
    "    else:\n",
    "       print(num,\"is not an Armstrong number\")\n",
    "    \n",
    "num = int(input(\"Enter a number: \"))\n",
    "armstrong(num)\n",
    "\n"
   ]
  },
  {
   "cell_type": "markdown",
   "id": "1e099c2c",
   "metadata": {},
   "source": [
    "5)Write a Python Program to Find Armstrong Number in an Interval?\n",
    "\n",
    "--->\n",
    "def armstrong_interval(lower,upper):\n",
    "    print(\"Armstrong numbers between\", lower, \"and\", upper, \"are:\")\n",
    "    for num in range(lower, upper + 1):\n",
    "        order = len(str(num))\n",
    "        sum = 0\n",
    "        temp = num\n",
    "        while temp > 0:\n",
    "            digit = temp % 10\n",
    "            sum += digit ** order\n",
    "            temp //= 10\n",
    "\n",
    "        if num == sum:\n",
    "           print(num)\n",
    "lower_number = int(input(\"Enter a lower range number: \"))\n",
    "upper_number = int(input(\"Enter an upper range number: \"))\n",
    "armstrong_interval(lower_number,upper_number)"
   ]
  },
  {
   "cell_type": "markdown",
   "id": "2e34e3a2",
   "metadata": {},
   "source": [
    "6)Write a Python Program to Find the Sum of Natural Numbers?\n",
    "\n",
    "-->\n",
    "def natural_sum(num):\n",
    "    if num < 0:\n",
    "       print(\"Enter a positive number\")\n",
    "    else:\n",
    "       sum = 0\n",
    "       \n",
    "       while(num > 0):\n",
    "           sum += num\n",
    "           num -= 1\n",
    "       print(\"The sum is\", sum)\n",
    "num = int(input(\"Enter a number: \"))\n",
    "natural_sum(num)\n"
   ]
  },
  {
   "cell_type": "markdown",
   "id": "b27e6b31",
   "metadata": {},
   "source": []
  },
  {
   "cell_type": "markdown",
   "id": "807aee26",
   "metadata": {},
   "source": [
    "# Part-5"
   ]
  },
  {
   "cell_type": "markdown",
   "id": "8a15a9a1",
   "metadata": {},
   "source": [
    "1)Write a Python Program to Find LCM?\n",
    "\n",
    "-->\n",
    "def lcm(x,y):\n",
    "    if x > y:\n",
    "       greater = x\n",
    "    else:\n",
    "       greater = y\n",
    "    while(True):\n",
    "       if((greater % x == 0) and (greater % y == 0)):\n",
    "           lcm = greater\n",
    "           break\n",
    "       greater += 1\n",
    "    return lcm\n",
    "num1 = int(input(\"Enter Number 1: \"))\n",
    "num2 = int(input(\"Enter Number 2: \"))\n",
    "print(\"The L.C.M. is\", lcm(num1, num2))\n",
    "\n"
   ]
  },
  {
   "cell_type": "markdown",
   "id": "c8b5fe4c",
   "metadata": {},
   "source": [
    "2)Write a Python Program to Find HCF?\n",
    "\n",
    "--->\n",
    "def hcf(x, y):\n",
    "    if x > y:\n",
    "        smaller = y\n",
    "    else:\n",
    "        smaller = x\n",
    "    for i in range(1, smaller+1):\n",
    "        if((x % i == 0) and (y % i == 0)):\n",
    "            hcf = i \n",
    "    return hcf\n",
    "num1 = int(input(\"Enter Number 1: \"))\n",
    "num2 = int(input(\"Enter Number 2: \"))\n",
    "print(\"The H.C.F. is\", hcf(num1, num2))\n"
   ]
  },
  {
   "cell_type": "markdown",
   "id": "7d623cd8",
   "metadata": {},
   "source": [
    "3)Write a Python Program to Convert Decimal to Binary, Octal and Hexadecimal?\n",
    "\n",
    "--->\n",
    "def decimal_conversion(num):\n",
    "    print(\"The decimal value of\", num, \"is:\")\n",
    "    print(bin(dec), \"in binary.\")\n",
    "    print(oct(dec), \"in octal.\")\n",
    "    print(hex(dec), \"in hexadecimal.\")\n",
    "num = int(input(\"Enter Number: \"))\n",
    "decimal_conversion(num)\n"
   ]
  },
  {
   "cell_type": "markdown",
   "id": "5a91322a",
   "metadata": {},
   "source": [
    "4)Write a Python Program To Find ASCII value of a character?\n",
    "-->\n",
    "def ascci_val():\n",
    "    char = str(input(\"Enter a charecter: \"))\n",
    "    print(\"The ASCII value of '\" + char + \"' is\", ord(char))\n",
    "ascci_val()\n",
    "\n"
   ]
  },
  {
   "cell_type": "markdown",
   "id": "ec8d13b6",
   "metadata": {},
   "source": [
    "5)Write a Python Program to Make a Simple Calculator with 4 basic mathematical operations?\n",
    "\n",
    "--->\n",
    "def add(x, y):\n",
    "    return x + y\n",
    "\n",
    "def subtract(x, y):\n",
    "    return x - y\n",
    "\n",
    "def multiply(x, y):\n",
    "    return x * y\n",
    "\n",
    "def divide(x, y):\n",
    "    return x / y\n",
    "\n",
    "\n",
    "print(\"Select operation.\")\n",
    "print(\"1.Add\")\n",
    "print(\"2.Subtract\")\n",
    "print(\"3.Multiply\")\n",
    "print(\"4.Divide\")\n",
    "\n",
    "while True:\n",
    "    choice = input(\"Enter choice(1/2/3/4): \")\n",
    "    if choice in ('1', '2', '3', '4'):\n",
    "        num1 = float(input(\"Enter first number: \"))\n",
    "        num2 = float(input(\"Enter second number: \"))\n",
    "\n",
    "        if choice == '1':\n",
    "            print(num1, \"+\", num2, \"=\", add(num1, num2))\n",
    "\n",
    "        elif choice == '2':\n",
    "            print(num1, \"-\", num2, \"=\", subtract(num1, num2))\n",
    "\n",
    "        elif choice == '3':\n",
    "            print(num1, \"*\", num2, \"=\", multiply(num1, num2))\n",
    "\n",
    "        elif choice == '4':\n",
    "            print(num1, \"/\", num2, \"=\", divide(num1, num2))\n",
    "        break\n",
    "    else:\n",
    "        print(\"Invalid Input\")"
   ]
  },
  {
   "cell_type": "markdown",
   "id": "0641f95c",
   "metadata": {},
   "source": []
  },
  {
   "cell_type": "markdown",
   "id": "cce8507f",
   "metadata": {},
   "source": [
    "# Part- 6"
   ]
  },
  {
   "cell_type": "markdown",
   "id": "46cfefac",
   "metadata": {},
   "source": [
    "1)Write a Python Program to Display Fibonacci Sequence Using Recursion?\n",
    "-->\n",
    "\n",
    "\n",
    "def fibonacci_recursion(n):\n",
    "   if n <= 1:\n",
    "       return n\n",
    "   else:\n",
    "       return(fibonacci_recursion(n-1) + fibonacci_recursion(n-2))\n",
    "nterms = int(input(\"How many terms: \"))\n",
    "if nterms <= 0:\n",
    "   print(\"Plese enter a positive integer\")\n",
    "else:\n",
    "   print(\"Fibonacci sequence:\")\n",
    "   for i in range(nterms):\n",
    "       print(fibonacci_recursion(i))\n",
    "\n"
   ]
  },
  {
   "cell_type": "markdown",
   "id": "b131c98f",
   "metadata": {},
   "source": [
    "2)Write a Python Program to Find Factorial of Number Using Recursion?\n",
    "\n",
    "--->\n",
    "def factorial_recursion(n):\n",
    "   if n == 1:\n",
    "       return n\n",
    "   else:\n",
    "       return n*factorial_recursion(n-1)\n",
    "\n",
    "num = int(input(\"Enter a number: \"))\n",
    "if num < 0:\n",
    "   print(\"Sorry, factorial does not exist for negative numbers\")\n",
    "elif num == 0:\n",
    "   print(\"The factorial of 0 is 1\")\n",
    "else:\n",
    "   print(\"The factorial of\", num, \"is\", factorial_recursion(num))"
   ]
  },
  {
   "cell_type": "markdown",
   "id": "47c454e8",
   "metadata": {},
   "source": [
    "3)Write a Python Program to calculate your Body Mass Index?\n",
    "\n",
    "--->\n",
    "def bmi(height,weight):\n",
    "    BMI = weight/(height**2)\n",
    "    print(f\"You BMI is {BMI}\")\n",
    "\n",
    "    if BMI <= 18.4:\n",
    "        print(\"You are underweight.\")\n",
    "    elif BMI <= 24.9:\n",
    "        print(\"You are healthy.\")\n",
    "    elif BMI <= 29.9:\n",
    "        print(\"You are over weight.\")\n",
    "    elif BMI <= 34.9:\n",
    "        print(\"You are severely over weight.\")\n",
    "    elif BMI <= 39.9:\n",
    "        print(\"You are obese.\")\n",
    "    else:\n",
    "        print(\"You are severely obese.\")\n",
    "\n",
    "    \n",
    "height = float(input(\"Enter your height in meter : \"))\n",
    "weight = float(input(\"Enter your weight in kg : \"))\n",
    "bmi(height,weight)"
   ]
  },
  {
   "cell_type": "markdown",
   "id": "c89216d1",
   "metadata": {},
   "source": [
    "4)Write a Python Program to calculate the natural logarithm of any number?\n",
    "-->\n",
    "\n",
    "import math\n",
    "num = float(input(\"Enter a number: \"))\n",
    "print (\"Natural Logarithm of {0} : \".format(num), math.log(num))\n",
    "\n"
   ]
  },
  {
   "cell_type": "markdown",
   "id": "16b9577d",
   "metadata": {},
   "source": [
    "5)Write a Python Program for cube sum of first n natural numbers?"
   ]
  },
  {
   "cell_type": "markdown",
   "id": "4ab4117a",
   "metadata": {},
   "source": []
  },
  {
   "cell_type": "markdown",
   "id": "40fc9e1f",
   "metadata": {},
   "source": []
  },
  {
   "cell_type": "markdown",
   "id": "3d46af3c",
   "metadata": {},
   "source": []
  },
  {
   "cell_type": "markdown",
   "id": "d0278bab",
   "metadata": {},
   "source": []
  },
  {
   "cell_type": "markdown",
   "id": "b5a0b9bb",
   "metadata": {},
   "source": []
  },
  {
   "cell_type": "markdown",
   "id": "85ba7872",
   "metadata": {},
   "source": []
  },
  {
   "cell_type": "markdown",
   "id": "2611f62f",
   "metadata": {},
   "source": []
  },
  {
   "cell_type": "markdown",
   "id": "f3961582",
   "metadata": {},
   "source": []
  },
  {
   "cell_type": "markdown",
   "id": "ca7001cc",
   "metadata": {},
   "source": []
  },
  {
   "cell_type": "markdown",
   "id": "72c65e26",
   "metadata": {},
   "source": []
  },
  {
   "cell_type": "markdown",
   "id": "f3eefc08",
   "metadata": {},
   "source": []
  },
  {
   "cell_type": "markdown",
   "id": "99adc637",
   "metadata": {},
   "source": []
  },
  {
   "cell_type": "markdown",
   "id": "3b7b1ec5",
   "metadata": {},
   "source": []
  },
  {
   "cell_type": "markdown",
   "id": "8fc66324",
   "metadata": {},
   "source": []
  },
  {
   "cell_type": "markdown",
   "id": "e8b34d50",
   "metadata": {},
   "source": []
  },
  {
   "cell_type": "markdown",
   "id": "e299f552",
   "metadata": {},
   "source": []
  }
 ],
 "metadata": {
  "kernelspec": {
   "display_name": "Python 3",
   "language": "python",
   "name": "python3"
  },
  "language_info": {
   "codemirror_mode": {
    "name": "ipython",
    "version": 3
   },
   "file_extension": ".py",
   "mimetype": "text/x-python",
   "name": "python",
   "nbconvert_exporter": "python",
   "pygments_lexer": "ipython3",
   "version": "3.8.8"
  }
 },
 "nbformat": 4,
 "nbformat_minor": 5
}
