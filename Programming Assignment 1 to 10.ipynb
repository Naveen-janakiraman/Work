{
 "cells": [
  {
   "cell_type": "markdown",
   "id": "bd42cfb8",
   "metadata": {},
   "source": [
    "# Part- 1\n"
   ]
  },
  {
   "cell_type": "markdown",
   "id": "1515431b",
   "metadata": {},
   "source": [
    "1)Write a Python program to print \"Hello Python\"?\n",
    "\n",
    "--> print (\"Hello Python\")"
   ]
  },
  {
   "cell_type": "markdown",
   "id": "3151666b",
   "metadata": {},
   "source": [
    "2)Write a Python program to do arithmetical operations addition and division.?\n",
    "\n",
    "---> \n",
    "\n",
    "def addition(*args):\n",
    "    output_sum=0\n",
    "    for item in args:\n",
    "        output_sum+=item\n",
    "    return output_sum\n",
    "def division(a,b):\n",
    "    return a/b\n",
    "\n",
    "addition(5,6)\n",
    "\n",
    "division(5,10)\n"
   ]
  },
  {
   "cell_type": "markdown",
   "id": "b177b81f",
   "metadata": {},
   "source": [
    "3)Write a Python program to find the area of a triangle?\n",
    "\n",
    "--->\n",
    "\n",
    "a = float(input('Enter first side: '))  \n",
    "b = float(input('Enter second side: '))  \n",
    "c = float(input('Enter third side: '))  \n",
    "\n",
    "s = (a + b + c) / 2  \n",
    "\n",
    "area = (s*(s-a)*(s-b)*(s-c)) ** 0.5  \n",
    "print('The area of the triangle is %0.2f' %area)   "
   ]
  },
  {
   "cell_type": "markdown",
   "id": "e0e8ebf3",
   "metadata": {},
   "source": [
    "4)Write a Python program to swap two variables?\n",
    "\n",
    "--->\n",
    "def swap(a,b):\n",
    "    a,b = b,a\n",
    "    return a,b\n",
    "i = int(input(\"Enter first value: \"))\n",
    "j = int(input(\"Enter second value: \"))\n",
    "swap(i,j)"
   ]
  },
  {
   "cell_type": "markdown",
   "id": "6d28756e",
   "metadata": {},
   "source": [
    "5)Write a Python program to generate a random number?\n",
    "\n",
    "--> import random\n",
    "print(random.randint(0,9))"
   ]
  },
  {
   "cell_type": "markdown",
   "id": "b2bf662b",
   "metadata": {},
   "source": []
  },
  {
   "cell_type": "markdown",
   "id": "6736a337",
   "metadata": {},
   "source": [
    "# Part- 2"
   ]
  },
  {
   "cell_type": "markdown",
   "id": "27a73b3f",
   "metadata": {},
   "source": [
    "1)Write a Python program to convert kilometers to miles?\n",
    "\n",
    "--> \n",
    "def km_to_miles(a):\n",
    "    conv_fac = 0.621371\n",
    "    miles = a * conv_fac\n",
    "    print('%0.2f kilometers is equal to %0.2f miles' %(a,miles))\n",
    "distance = float(input(\"Enter the distance:\"))\n",
    "km_to_miles(distance)"
   ]
  },
  {
   "cell_type": "markdown",
   "id": "188c483d",
   "metadata": {},
   "source": [
    "2)Write a Python program to convert Celsius to Fahrenheit?\n",
    "-->\n",
    "def celsius_to_farenheit(celsius):\n",
    "    farenheit = (celsius*1.8)+32\n",
    "    print(\"Temperature in farenheit is:\",farenheit)\n",
    "temprature = float(input(\"Enter the temperature in celcius: \"))\n",
    "celsius_to_farenheit(temprature)"
   ]
  },
  {
   "cell_type": "markdown",
   "id": "13fbe63e",
   "metadata": {},
   "source": [
    "3)Write a Python program to display calendar?\n",
    "\n",
    "---> import calendar\n",
    "yy = int(input(\"Enter year: \"))\n",
    "mm = int(input(\"Enter month: \"))\n",
    "print(calendar.month(yy, mm))"
   ]
  },
  {
   "cell_type": "markdown",
   "id": "55849110",
   "metadata": {},
   "source": [
    "4) Write a Python program to solve quadratic equation?\n",
    "-->\n",
    "#The quadratic equation is ax**2 + bx + c = 0\n",
    "import cmath\n",
    "\n",
    "a = 1\n",
    "b = 5\n",
    "c = 4\n",
    "\n",
    "d = (b**2) - (4*a*c)\n",
    "\n",
    "sol1 = (-b-cmath.sqrt(d))/(2*a)\n",
    "sol2 = (-b+cmath.sqrt(d))/(2*a)\n",
    "\n",
    "print('The solution are {0} and {1}'.format(sol1,sol2))\n"
   ]
  },
  {
   "cell_type": "markdown",
   "id": "8db04cfa",
   "metadata": {},
   "source": [
    "5)Write a Python program to swap two variables without temp variable?\n",
    "\n",
    "---> \n",
    "a = int(input(\"Enter first number: \"))\n",
    "b = int(input(\"Enter second number: \"))\n",
    "print(\"Before swapping values of a and b are : {0} and {1}\".format(a,b))\n",
    "a,b = b,a\n",
    "print(\"After swapping values of a and b are : {0} and {1}\".format(a,b))\n"
   ]
  },
  {
   "cell_type": "markdown",
   "id": "8074d8dd",
   "metadata": {},
   "source": []
  },
  {
   "cell_type": "markdown",
   "id": "b64950be",
   "metadata": {},
   "source": [
    "# Part -3"
   ]
  },
  {
   "cell_type": "markdown",
   "id": "9f307180",
   "metadata": {},
   "source": [
    "1)Write a Python Program to Check if a Number is Positive, Negative or Zero?\n",
    "\n",
    "--> \n",
    "\n",
    "def num_check(num):\n",
    "    if num > 0:\n",
    "        print(\"Positive number\")\n",
    "    elif num == 0:\n",
    "       print(\"Zero\")\n",
    "    else:\n",
    "       print(\"Negative number\")\n",
    "number = float(input(\"Enter a number: \"))\n",
    "num_check(number)"
   ]
  },
  {
   "cell_type": "markdown",
   "id": "93085461",
   "metadata": {},
   "source": [
    "2)Write a Python Program to Check if a Number is Odd or Even?\n",
    "\n",
    "---> \n",
    "def even_odd(num):\n",
    "    if (num % 2) == 0:\n",
    "       print(\"{0} is Even\".format(num))\n",
    "    else:\n",
    "       print(\"{0} is Odd\".format(num))\n",
    "number = int(input(\"Enter a number: \"))\n",
    "even_odd(number)\n",
    "\n"
   ]
  },
  {
   "cell_type": "markdown",
   "id": "2993f89b",
   "metadata": {},
   "source": [
    "3)Write a Python Program to Check Leap Year?\n",
    "--->\n",
    "\n",
    "def leap_year(year):\n",
    "    if (year % 4) == 0:\n",
    "        if (year % 100) == 0:\n",
    "            if (year % 400) == 0:\n",
    "               print(\"{0} is a leap year\".format(year))\n",
    "            else:\n",
    "               print(\"{0} is not a leap year\".format(year))\n",
    "        else:\n",
    "           print(\"{0} is a leap year\".format(year))\n",
    "    else:\n",
    "       print(\"{0} is not a leap year\".format(year))\n",
    "year = int(input(\"Enter a year: \"))\n",
    "leap_year(year)\n"
   ]
  },
  {
   "cell_type": "markdown",
   "id": "09aba8e3",
   "metadata": {},
   "source": [
    "4)Write a Python Program to Check Prime Number?\n",
    "--->\n",
    "def prime_check(num):\n",
    "    if num > 1:\n",
    "        for i in range(2,num):\n",
    "           if (num % i) == 0:\n",
    "               print(num,\"is not a prime number\")\n",
    "               print(i,\"times\",num//i,\"is\",num)\n",
    "               break\n",
    "        else:\n",
    "           print(num,\"is a prime number\")\n",
    "    else:\n",
    "       print(num,\"is not a prime number\")\n",
    "number = int(input(\"Enter a number: \"))\n",
    "prime_check(number)"
   ]
  },
  {
   "cell_type": "markdown",
   "id": "1f553c0a",
   "metadata": {},
   "source": [
    "5)Write a Python Program to Print all Prime Numbers in an Interval of 1-10000?\n",
    "\n",
    "--->\n",
    "def prime_check_interval(lower,upper):\n",
    "    print(\"Prime numbers between\", lower, \"and\", upper, \"are:\")\n",
    "    for num in range(lower, upper + 1):\n",
    "       if num > 1:\n",
    "           for i in range(2, num):\n",
    "               if (num % i) == 0:\n",
    "                   break\n",
    "           else:\n",
    "            print(num)\n",
    "lower_number = int(input(\"Enter a lower range number: \"))\n",
    "upper_number = int(input(\"Enter an upper range number: \"))\n",
    "prime_check_interval(lower_number, upper_number)\n"
   ]
  },
  {
   "cell_type": "markdown",
   "id": "c90c6cc2",
   "metadata": {},
   "source": []
  },
  {
   "cell_type": "markdown",
   "id": "fe4c19bc",
   "metadata": {},
   "source": [
    "# Part-4"
   ]
  },
  {
   "cell_type": "markdown",
   "id": "6131d2ba",
   "metadata": {},
   "source": [
    "1)Write a Python Program to Find the Factorial of a Number?\n",
    "\n",
    "-->\n",
    "def factorial(num):\n",
    "    factorial = 1\n",
    "    if num < 0:\n",
    "       print(\"Sorry, factorial does not exist for negative numbers\")\n",
    "    elif num == 0:\n",
    "       print(\"The factorial of 0 is 1\")\n",
    "    else:\n",
    "       for i in range(1,num + 1):\n",
    "           factorial = factorial*i\n",
    "       print(\"The factorial of\",num,\"is\",factorial)\n",
    "num = int(input(\"Enter a number: \"))\n",
    "factorial(num)\n"
   ]
  },
  {
   "cell_type": "markdown",
   "id": "d1dd2005",
   "metadata": {},
   "source": [
    "2)Write a Python Program to Display the multiplication Table?\n",
    "\n",
    "--->\n",
    "def multiplication_table(num):\n",
    "    for i in range(1, 11):\n",
    "       print(num, 'x', i, '=', num*i)\n",
    "number = int(input(\"Display multiplication table of: \"))\n",
    "multiplication_table(number)"
   ]
  },
  {
   "cell_type": "markdown",
   "id": "eccc81dc",
   "metadata": {},
   "source": [
    "3)Write a Python Program to Print the Fibonacci sequence?\n",
    "-->\n",
    "def fibonacci(nterms):\n",
    "    n1, n2 = 0, 1\n",
    "    count = 0\n",
    "    if nterms <= 0:\n",
    "        print(\"Please enter a positive integer\")\n",
    "    elif nterms == 1:\n",
    "       print(\"Fibonacci sequence upto\",nterms,\":\")\n",
    "       print(n1)\n",
    "    else:\n",
    "       print(\"Fibonacci sequence:\")\n",
    "       while count < nterms:\n",
    "           print(n1)\n",
    "           nth = n1 + n2\n",
    "       # update values\n",
    "           n1 = n2\n",
    "           n2 = nth\n",
    "           count += 1\n",
    "nterms = int(input(\"How many terms: \"))\n",
    "fibonacci(nterms)"
   ]
  },
  {
   "cell_type": "markdown",
   "id": "b82536c5",
   "metadata": {},
   "source": [
    "4)Write a Python Program to Check Armstrong Number?\n",
    "\n",
    "-->\n",
    "def armstrong(num):\n",
    "    order = len(str(num))\n",
    "    sum = 0\n",
    "    temp = num\n",
    "    while temp > 0:\n",
    "        digit = temp % 10\n",
    "        sum += digit ** order\n",
    "        temp //= 10\n",
    "\n",
    "\n",
    "    if num == sum:\n",
    "       print(num,\"is an Armstrong number\")\n",
    "    else:\n",
    "       print(num,\"is not an Armstrong number\")\n",
    "    \n",
    "num = int(input(\"Enter a number: \"))\n",
    "armstrong(num)\n",
    "\n"
   ]
  },
  {
   "cell_type": "markdown",
   "id": "e4cd2283",
   "metadata": {},
   "source": [
    "5)Write a Python Program to Find Armstrong Number in an Interval?\n",
    "\n",
    "--->\n",
    "def armstrong_interval(lower,upper):\n",
    "    print(\"Armstrong numbers between\", lower, \"and\", upper, \"are:\")\n",
    "    for num in range(lower, upper + 1):\n",
    "        order = len(str(num))\n",
    "        sum = 0\n",
    "        temp = num\n",
    "        while temp > 0:\n",
    "            digit = temp % 10\n",
    "            sum += digit ** order\n",
    "            temp //= 10\n",
    "\n",
    "        if num == sum:\n",
    "           print(num)\n",
    "lower_number = int(input(\"Enter a lower range number: \"))\n",
    "upper_number = int(input(\"Enter an upper range number: \"))\n",
    "armstrong_interval(lower_number,upper_number)"
   ]
  },
  {
   "cell_type": "markdown",
   "id": "84d25bea",
   "metadata": {},
   "source": [
    "6)Write a Python Program to Find the Sum of Natural Numbers?\n",
    "\n",
    "-->\n",
    "def natural_sum(num):\n",
    "    if num < 0:\n",
    "       print(\"Enter a positive number\")\n",
    "    else:\n",
    "       sum = 0\n",
    "       \n",
    "       while(num > 0):\n",
    "           sum += num\n",
    "           num -= 1\n",
    "       print(\"The sum is\", sum)\n",
    "num = int(input(\"Enter a number: \"))\n",
    "natural_sum(num)\n"
   ]
  },
  {
   "cell_type": "markdown",
   "id": "5fe5ce46",
   "metadata": {},
   "source": []
  },
  {
   "cell_type": "markdown",
   "id": "be8ef200",
   "metadata": {},
   "source": [
    "# Part-5"
   ]
  },
  {
   "cell_type": "markdown",
   "id": "3b8d75b9",
   "metadata": {},
   "source": [
    "1)Write a Python Program to Find LCM?\n",
    "\n",
    "-->\n",
    "def lcm(x,y):\n",
    "    if x > y:\n",
    "       greater = x\n",
    "    else:\n",
    "       greater = y\n",
    "    while(True):\n",
    "       if((greater % x == 0) and (greater % y == 0)):\n",
    "           lcm = greater\n",
    "           break\n",
    "       greater += 1\n",
    "    return lcm\n",
    "num1 = int(input(\"Enter Number 1: \"))\n",
    "num2 = int(input(\"Enter Number 2: \"))\n",
    "print(\"The L.C.M. is\", lcm(num1, num2))\n",
    "\n"
   ]
  },
  {
   "cell_type": "markdown",
   "id": "88041923",
   "metadata": {},
   "source": [
    "2)Write a Python Program to Find HCF?\n",
    "\n",
    "--->\n",
    "def hcf(x, y):\n",
    "    if x > y:\n",
    "        smaller = y\n",
    "    else:\n",
    "        smaller = x\n",
    "    for i in range(1, smaller+1):\n",
    "        if((x % i == 0) and (y % i == 0)):\n",
    "            hcf = i \n",
    "    return hcf\n",
    "num1 = int(input(\"Enter Number 1: \"))\n",
    "num2 = int(input(\"Enter Number 2: \"))\n",
    "print(\"The H.C.F. is\", hcf(num1, num2))\n"
   ]
  },
  {
   "cell_type": "markdown",
   "id": "60bac38a",
   "metadata": {},
   "source": [
    "3)Write a Python Program to Convert Decimal to Binary, Octal and Hexadecimal?\n",
    "\n",
    "--->\n",
    "def decimal_conversion(num):\n",
    "    print(\"The decimal value of\", num, \"is:\")\n",
    "    print(bin(dec), \"in binary.\")\n",
    "    print(oct(dec), \"in octal.\")\n",
    "    print(hex(dec), \"in hexadecimal.\")\n",
    "num = int(input(\"Enter Number: \"))\n",
    "decimal_conversion(num)\n"
   ]
  },
  {
   "cell_type": "markdown",
   "id": "fafdf62c",
   "metadata": {},
   "source": [
    "4)Write a Python Program To Find ASCII value of a character?\n",
    "-->\n",
    "def ascci_val():\n",
    "    char = str(input(\"Enter a charecter: \"))\n",
    "    print(\"The ASCII value of '\" + char + \"' is\", ord(char))\n",
    "ascci_val()\n",
    "\n"
   ]
  },
  {
   "cell_type": "markdown",
   "id": "cb1eb11f",
   "metadata": {},
   "source": [
    "5)Write a Python Program to Make a Simple Calculator with 4 basic mathematical operations?\n",
    "\n",
    "--->\n",
    "def add(x, y):\n",
    "    return x + y\n",
    "\n",
    "def subtract(x, y):\n",
    "    return x - y\n",
    "\n",
    "def multiply(x, y):\n",
    "    return x * y\n",
    "\n",
    "def divide(x, y):\n",
    "    return x / y\n",
    "\n",
    "\n",
    "print(\"Select operation.\")\n",
    "print(\"1.Add\")\n",
    "print(\"2.Subtract\")\n",
    "print(\"3.Multiply\")\n",
    "print(\"4.Divide\")\n",
    "\n",
    "while True:\n",
    "    choice = input(\"Enter choice(1/2/3/4): \")\n",
    "    if choice in ('1', '2', '3', '4'):\n",
    "        num1 = float(input(\"Enter first number: \"))\n",
    "        num2 = float(input(\"Enter second number: \"))\n",
    "\n",
    "        if choice == '1':\n",
    "            print(num1, \"+\", num2, \"=\", add(num1, num2))\n",
    "\n",
    "        elif choice == '2':\n",
    "            print(num1, \"-\", num2, \"=\", subtract(num1, num2))\n",
    "\n",
    "        elif choice == '3':\n",
    "            print(num1, \"*\", num2, \"=\", multiply(num1, num2))\n",
    "\n",
    "        elif choice == '4':\n",
    "            print(num1, \"/\", num2, \"=\", divide(num1, num2))\n",
    "        break\n",
    "    else:\n",
    "        print(\"Invalid Input\")"
   ]
  },
  {
   "cell_type": "markdown",
   "id": "82c1ad7f",
   "metadata": {},
   "source": []
  },
  {
   "cell_type": "markdown",
   "id": "e6c36c2e",
   "metadata": {},
   "source": [
    "# Part- 6"
   ]
  },
  {
   "cell_type": "markdown",
   "id": "d6a4ba94",
   "metadata": {},
   "source": [
    "1)Write a Python Program to Display Fibonacci Sequence Using Recursion?\n",
    "-->\n",
    "\n",
    "\n",
    "def fibonacci_recursion(n):\n",
    "   if n <= 1:\n",
    "       return n\n",
    "   else:\n",
    "       return(fibonacci_recursion(n-1) + fibonacci_recursion(n-2))\n",
    "nterms = int(input(\"How many terms: \"))\n",
    "if nterms <= 0:\n",
    "   print(\"Plese enter a positive integer\")\n",
    "else:\n",
    "   print(\"Fibonacci sequence:\")\n",
    "   for i in range(nterms):\n",
    "       print(fibonacci_recursion(i))\n",
    "\n"
   ]
  },
  {
   "cell_type": "markdown",
   "id": "3d43c31c",
   "metadata": {},
   "source": [
    "2)Write a Python Program to Find Factorial of Number Using Recursion?\n",
    "\n",
    "--->\n",
    "def factorial_recursion(n):\n",
    "   if n == 1:\n",
    "       return n\n",
    "   else:\n",
    "       return n*factorial_recursion(n-1)\n",
    "\n",
    "num = int(input(\"Enter a number: \"))\n",
    "if num < 0:\n",
    "   print(\"Sorry, factorial does not exist for negative numbers\")\n",
    "elif num == 0:\n",
    "   print(\"The factorial of 0 is 1\")\n",
    "else:\n",
    "   print(\"The factorial of\", num, \"is\", factorial_recursion(num))"
   ]
  },
  {
   "cell_type": "markdown",
   "id": "f75e0307",
   "metadata": {},
   "source": [
    "3)Write a Python Program to calculate your Body Mass Index?\n",
    "\n",
    "--->\n",
    "def bmi(height,weight):\n",
    "    BMI = weight/(height**2)\n",
    "    print(f\"You BMI is {BMI}\")\n",
    "\n",
    "    if BMI <= 18.4:\n",
    "        print(\"You are underweight.\")\n",
    "    elif BMI <= 24.9:\n",
    "        print(\"You are healthy.\")\n",
    "    elif BMI <= 29.9:\n",
    "        print(\"You are over weight.\")\n",
    "    elif BMI <= 34.9:\n",
    "        print(\"You are severely over weight.\")\n",
    "    elif BMI <= 39.9:\n",
    "        print(\"You are obese.\")\n",
    "    else:\n",
    "        print(\"You are severely obese.\")\n",
    "\n",
    "    \n",
    "height = float(input(\"Enter your height in meter : \"))\n",
    "weight = float(input(\"Enter your weight in kg : \"))\n",
    "bmi(height,weight)"
   ]
  },
  {
   "cell_type": "markdown",
   "id": "aeda7ec6",
   "metadata": {},
   "source": [
    "4)Write a Python Program to calculate the natural logarithm of any number?\n",
    "-->\n",
    "\n",
    "import math\n",
    "num = float(input(\"Enter a number: \"))\n",
    "print (\"Natural Logarithm of {0} : \".format(num), math.log(num))\n",
    "\n"
   ]
  },
  {
   "cell_type": "markdown",
   "id": "960a44c7",
   "metadata": {},
   "source": [
    "5)Write a Python Program for cube sum of first n natural numbers?\n",
    "\n",
    "-->\n",
    "def cube_sum(n):\n",
    "    sum = 0\n",
    "    for i in range(1, n+1):\n",
    "        sum +=i*i*i\n",
    "    return sum\n",
    "n = int(input(\"Enter a number: \"))\n",
    "print(\"Cube sum of {0} natural numbers are : \".format(n),cube_sum(n))\n"
   ]
  },
  {
   "cell_type": "markdown",
   "id": "4e52e043",
   "metadata": {},
   "source": []
  },
  {
   "cell_type": "markdown",
   "id": "8cab6002",
   "metadata": {},
   "source": [
    "# Part -7"
   ]
  },
  {
   "cell_type": "markdown",
   "id": "3977da1a",
   "metadata": {},
   "source": [
    "1) Write a Python Program to find sum of array?\n",
    "--> \n",
    "\n",
    "def array_sum(arr):\n",
    "    for i in range(len(arr)):\n",
    "        arr[i] = int(arr[i])\n",
    "    return sum(arr)\n",
    "arr_raw = input('Enter elements of a arr separated by space: ')\n",
    "arr = arr_raw.split()\n",
    "print('arr: ', arr)\n",
    "ans = array_sum(arr)\n",
    "print ('Sum of the array is ', ans)\n",
    "\n"
   ]
  },
  {
   "cell_type": "markdown",
   "id": "038c7c8d",
   "metadata": {},
   "source": [
    "2) Write a Python Program to find largest element in an array?\n",
    "--> \n",
    "def largest(arr,n):\n",
    "    max = arr[0]\n",
    "    for i in range(1, n):\n",
    "        if arr[i] > max:\n",
    "            max = arr[i]\n",
    "    return max\n",
    "arr = [1,2,3,6,5,4,77,7777]\n",
    "n = len(arr)\n",
    "Ans = largest(arr,n)\n",
    "print (\"Largest in given array is\",Ans)"
   ]
  },
  {
   "cell_type": "markdown",
   "id": "45adbb3f",
   "metadata": {},
   "source": [
    "3) Write a Python Program for array rotation?\n",
    "-->\n",
    "def rotateList(arr,d,n):\n",
    "    arr[:]=arr[d:n]+arr[0:d]\n",
    "    return arr\n",
    "\n",
    "arr_raw = input('Enter elements of a arr separated by space: ')\n",
    "arr = arr_raw.split()\n",
    "print(\"The array is : \", arr)\n",
    "elements = int(input(\"Enter no of elements : \"))\n",
    "print(\"Rotated list is\")\n",
    "print(rotateList(arr,elements,len(arr)))"
   ]
  },
  {
   "cell_type": "markdown",
   "id": "883fbbf8",
   "metadata": {},
   "source": [
    "4)Write a Python Program to Split the array and add the first part to the end?\n",
    "\n",
    "--->\n",
    "def split_array(a, n, k): \n",
    "   b = a[:k]\n",
    "   return (a[k::]+b[::])\n",
    "arr_raw = input('Enter elements of a arr separated by space: ')\n",
    "arr = arr_raw.split()\n",
    "n = len(arr)\n",
    "position = int(input(\"Enter position : \"))\n",
    "arr = split_array(arr, n, position)\n",
    "print(\"After Spliting and adding the first part to the end, the array is: \")\n",
    "for i in range(0, n): \n",
    "    print(arr[i], end = ' ')"
   ]
  },
  {
   "cell_type": "markdown",
   "id": "b4e8bf5d",
   "metadata": {},
   "source": [
    "5)Write a Python Program to check if given array is Monotonic?\n",
    "\n",
    "-->\n",
    "def Monotonic(A): \n",
    "    return (all(A[i] <= A[i + 1] for i in range(len(A) - 1)) or\n",
    "            all(A[i] >= A[i + 1] for i in range(len(A) - 1)))\n",
    "A = [6, 5, 4, 4]\n",
    "print(Monotonic(A))\n",
    "\n"
   ]
  },
  {
   "cell_type": "markdown",
   "id": "8b5b8c87",
   "metadata": {},
   "source": []
  },
  {
   "cell_type": "markdown",
   "id": "a76eff29",
   "metadata": {},
   "source": [
    "# Part -8"
   ]
  },
  {
   "cell_type": "markdown",
   "id": "68f77a33",
   "metadata": {},
   "source": [
    "1)Write a Python Program to Add Two Matrices?\n",
    "\n",
    "-->\n",
    "\n",
    "\n",
    "X = [[2,7,3],\n",
    "    [4 ,5,6],\n",
    "    [7 ,8,9]]\n",
    "\n",
    "Y = [[5,8,1],\n",
    "    [6,7,3],\n",
    "    [4,5,5]]\n",
    "\n",
    "result = [[0,0,0],\n",
    "         [0,0,0],\n",
    "         [0,0,0]]\n",
    "\n",
    "for i in range(len(X)):\n",
    "   for j in range(len(X[0])):\n",
    "       result[i][j] = X[i][j] + Y[i][j]\n",
    "\n",
    "for r in result:\n",
    "   print(r)\n",
    "\n"
   ]
  },
  {
   "cell_type": "markdown",
   "id": "81988c70",
   "metadata": {},
   "source": [
    "2)Write a Python Program to Multiply Two Matrices?\n",
    "\n",
    "-->\n",
    "X = [[12,7,3],\n",
    "    [4 ,5,6],\n",
    "    [7 ,8,9]]\n",
    "\n",
    "Y = [[5,8,1,2],\n",
    "    [6,7,3,0],\n",
    "    [4,5,9,1]]\n",
    "\n",
    "result = [[0,0,0,0],\n",
    "         [0,0,0,0],\n",
    "         [0,0,0,0]]\n",
    "\n",
    "for i in range(len(X)):  \n",
    "   for j in range(len(Y[0])): \n",
    "       for k in range(len(Y)):\n",
    "           result[i][j] += X[i][k] * Y[k][j]\n",
    "\n",
    "for r in result:\n",
    "   print(r)\n",
    "\n"
   ]
  },
  {
   "cell_type": "markdown",
   "id": "5001ee60",
   "metadata": {},
   "source": [
    "3)Write a Python Program to Transpose a Matrix?\n",
    "\n",
    "--->\n",
    "X = [[12,7],\n",
    "    [4 ,5],\n",
    "    [3 ,8]]\n",
    "\n",
    "result = [[0,0,0],\n",
    "         [0,0,0]]\n",
    "for i in range(len(X)):\n",
    "   for j in range(len(X[0])):\n",
    "       result[j][i] = X[i][j]\n",
    "\n",
    "for r in result:\n",
    "   print(r)"
   ]
  },
  {
   "cell_type": "markdown",
   "id": "18f1f43e",
   "metadata": {},
   "source": [
    "4)Write a Python Program to Sort Words in Alphabetic Order?\n",
    "\n",
    "-->\n",
    "my_str = input(\"Enter a string: \")\n",
    "words = [word.lower() for word in my_str.split()]\n",
    "words.sort()\n",
    "print(\"The sorted words are:\")\n",
    "for word in words:\n",
    "   print(word)"
   ]
  },
  {
   "cell_type": "markdown",
   "id": "e0914693",
   "metadata": {},
   "source": [
    "5)Write a Python Program to Remove Punctuation From a String?\n",
    "\n",
    "-->\n",
    "punctuations = '''!()-[]{};:'\"\\,<>./?@#$%^&*_~'''\n",
    "my_str = input(\"Enter a string with punctuations : \")\n",
    "print(\"Entered string is : \",my_str)\n",
    "no_punct = \"\"\n",
    "for char in my_str:\n",
    "   if char not in punctuations:\n",
    "       no_punct = no_punct + char\n",
    "print(\"After removing punctuations, the string is : \",no_punct)"
   ]
  },
  {
   "cell_type": "markdown",
   "id": "86080f5a",
   "metadata": {},
   "source": []
  },
  {
   "cell_type": "markdown",
   "id": "4e61662a",
   "metadata": {},
   "source": [
    "# Part-9"
   ]
  },
  {
   "cell_type": "markdown",
   "id": "08e0dc45",
   "metadata": {},
   "source": [
    "1)Write a Python program to check if the given number is a Disarium Number?\n",
    "\n",
    "-->\n",
    "def calculateLength(n):    \n",
    "    length = 0\n",
    "    while(n != 0):    \n",
    "        length = length + 1  \n",
    "        n = n//10    \n",
    "    return length    \n",
    "     \n",
    "num =  int(input(\"Enter a number: \"))  \n",
    "rem = sum = 0\n",
    "len = calculateLength(num)    \n",
    "n = num    \n",
    "     \n",
    "while(num > 0):    \n",
    "    rem = num%10    \n",
    "    sum = sum + int(rem**len)    \n",
    "    num = num//10    \n",
    "    len = len - 1    \n",
    "     \n",
    "   \n",
    "if(sum == n):    \n",
    "    print(str(n) + \" is a disarium number\")    \n",
    "else:    \n",
    "    print(str(n) + \" is not a disarium number\") "
   ]
  },
  {
   "cell_type": "markdown",
   "id": "1a56539e",
   "metadata": {},
   "source": [
    "2) Write a Python program to print all disarium numbers between 1 to 100?\n",
    "\n",
    "-->\n",
    "def calculateLength(n):    \n",
    "    length = 0    \n",
    "    while(n != 0):    \n",
    "        length = length + 1;    \n",
    "        n = n//10    \n",
    "    return length    \n",
    "\n",
    "def sumOfDigits(num):    \n",
    "    rem = sum = 0    \n",
    "    len = calculateLength(num)    \n",
    "        \n",
    "    while(num > 0):   \n",
    "        rem = num%10    \n",
    "        sum = sum + (rem**len)    \n",
    "        num = num//10    \n",
    "        len = len - 1    \n",
    "    return sum    \n",
    "      \n",
    "result = 0    \n",
    "lower_range = int(input(\"Enter lower range: \"))\n",
    "upper_range = int(input(\"Enter upper range: \"))\n",
    "print(\"Disarium numbers between {0} and {1} are : \".format(lower_range,upper_range))    \n",
    "for i in range(lower_range,upper_range):    \n",
    "    result = sumOfDigits(i)            \n",
    "    if(result == i):   \n",
    "        print(i)   \n"
   ]
  },
  {
   "cell_type": "markdown",
   "id": "da4b3f2c",
   "metadata": {},
   "source": [
    "3)Write a Python program to check if the given number is Happy Number?\n",
    "\n",
    "---> \n",
    "def happy_number(num):    \n",
    "    rem = sum = 0     \n",
    "    while(num > 0):    \n",
    "        rem = num%10;    \n",
    "        sum = sum + (rem*rem);    \n",
    "        num = num//10    \n",
    "    return sum    \n",
    "        \n",
    "num = int(input(\"Enter a number: \"))    \n",
    "result = num    \n",
    "     \n",
    "while(result != 1 and result != 4):    \n",
    "    result = happy_number(result)    \n",
    " \n",
    "if(result == 1):    \n",
    "    print(str(num) + \" is a happy number\")    \n",
    "elif(result == 4):    \n",
    "    print(str(num) + \" is not a happy number\")"
   ]
  },
  {
   "cell_type": "markdown",
   "id": "e66685b4",
   "metadata": {},
   "source": [
    "4)Write a Python program to print all happy numbers between 1 and 100?\n",
    "\n",
    "---> \n",
    "def happy_number_interval(num):    \n",
    "    rem = sum = 0    \n",
    "    while(num > 0):    \n",
    "        rem = num%10    \n",
    "        sum = sum + (rem*rem)    \n",
    "        num = num//10    \n",
    "    return sum   \n",
    "            \n",
    "lower_range = int(input(\"Enter lower range: \"))\n",
    "upper_range = int(input(\"Enter upper range: \"))\n",
    "print(\"List of happy numbers between {0} and {1} are : \".format(lower_range,upper_range))\n",
    "for i in range(lower_range,upper_range+1):    \n",
    "    result = i    \n",
    "        \n",
    "    while(result != 1 and result != 4):    \n",
    "        result = happy_number_interval(result)    \n",
    "    if(result == 1):    \n",
    "        print(i)    "
   ]
  },
  {
   "cell_type": "markdown",
   "id": "532a05e6",
   "metadata": {},
   "source": [
    "5)Write a Python program to determine whether the given number is a Harshad Number?\n",
    "\n",
    "-->\n",
    "num = int(input(\"Enter a number: \"))    \n",
    "rem = sum = 0       \n",
    "n = num;       \n",
    "while(num > 0):    \n",
    "    rem = num%10   \n",
    "    sum = sum + rem   \n",
    "    num = num//10   \n",
    " \n",
    "if(n%sum == 0):    \n",
    "    print(str(n) + \" is a harshad number\")    \n",
    "else:    \n",
    "    print(str(n) + \" is not a harshad number\")   "
   ]
  },
  {
   "cell_type": "markdown",
   "id": "7f60ad6a",
   "metadata": {},
   "source": [
    "6)Write a Python program to print all pronic numbers between 1 and 100?\n",
    "\n",
    "--->\n",
    "def pronic_number(num):    \n",
    "    flag = False    \n",
    "        \n",
    "    for j in range(1, num+1):    \n",
    "        #Checks for pronic number by multiplying consecutive numbers    \n",
    "        if((j*(j+1)) == num):    \n",
    "            flag = True    \n",
    "            break    \n",
    "    return flag    \n",
    "     \n",
    "#Displays pronic numbers between 1 and 100\n",
    "lower_range = int(input(\"Enter lower range: \"))\n",
    "upper_range = int(input(\"Enter upper range: \"))\n",
    "print(\"Pronic numbers between {0} and {1}: \".format(lower_range,upper_range))    \n",
    "for i in range(lower_range,upper_range+1):  \n",
    "    if(pronic_number(i)):    \n",
    "        print(i)"
   ]
  },
  {
   "cell_type": "markdown",
   "id": "ba7d65ef",
   "metadata": {},
   "source": []
  },
  {
   "cell_type": "markdown",
   "id": "511abdd3",
   "metadata": {},
   "source": [
    "# Part-10"
   ]
  },
  {
   "cell_type": "markdown",
   "id": "c0a0c13b",
   "metadata": {},
   "source": [
    "1) Write a Python program to find sum of elements in list?\n",
    "-->\n",
    "lst = []\n",
    "n = int(input(\"Enter number of elements : \"))\n",
    "for i in range(0, n):\n",
    "    ele = int(input())\n",
    "    lst.append(ele)\n",
    "    total = sum(lst)\n",
    "print(\"Elements is list are : \",lst)\n",
    "print(\"Sum of elements in list : \",total)"
   ]
  },
  {
   "cell_type": "markdown",
   "id": "928d4f21",
   "metadata": {},
   "source": [
    "2) Write a Python program to Multiply all numbers in the list?\n",
    "\n",
    "-->\n",
    "import numpy\n",
    "lst1 = []\n",
    "n1 = int(input(\"Enter number of elements : \"))\n",
    "for i in range(0, n1):\n",
    "    ele1 = int(input())\n",
    "    lst1.append(ele1)\n",
    "print(\"Elements is list are : \",lst1)\n",
    "result1 = numpy.prod(lst1)\n",
    "print(\"Multiplication of elements in list :\",result1)"
   ]
  },
  {
   "cell_type": "markdown",
   "id": "36f277ef",
   "metadata": {},
   "source": [
    "3) Write a Python program to find smallest number in a list?\n",
    "-->\n",
    "lst2 = []\n",
    "n2 = int(input(\"Enter number of elements : \"))\n",
    "for i in range(0, n2):\n",
    "    ele2 = int(input())\n",
    "    lst2.append(ele2)\n",
    "print(\"Elements is list are : \",lst2)\n",
    "print(\"Smallest element in list is:\", min(lst2))"
   ]
  },
  {
   "cell_type": "markdown",
   "id": "cba6502f",
   "metadata": {},
   "source": [
    "4) Write a Python program to find largest number in a list?\n",
    "\n",
    "-->\n",
    "lst3 = []\n",
    "n3 = int(input(\"Enter number of elements : \"))\n",
    "for i in range(0, n3):\n",
    "    ele3 = int(input())\n",
    "    lst3.append(ele3)\n",
    "print(\"Elements is list are : \",lst3)\n",
    "print(\"Largest element in list is:\", max(lst2))"
   ]
  },
  {
   "cell_type": "markdown",
   "id": "3428a8a2",
   "metadata": {},
   "source": [
    "5) Write a Python program to find second largest number in a list?\n",
    "\n",
    "-->\n",
    "lst4 = []\n",
    "n4 = int(input(\"Enter number of elements : \"))\n",
    "for i in range(0, n4):\n",
    "    ele4 = int(input())\n",
    "    lst4.append(ele4)\n",
    "    lst4.sort()\n",
    "print(\"Elements is list are : \",lst4)\n",
    "print(\"Second largest element is:\", lst4[-2])"
   ]
  },
  {
   "cell_type": "markdown",
   "id": "af15c34d",
   "metadata": {},
   "source": [
    "6) rite a Python program to find N largest elements from a list?\n",
    "-->\n",
    "lst5 = []\n",
    "n5 = int(input(\"Enter number of elements : \"))\n",
    "for i in range(0, n5):\n",
    "    ele5 = int(input())\n",
    "    lst5.append(ele5)\n",
    "    lst5.sort()\n",
    "print(\"Elements is list are : \",lst5)\n",
    "m = int(input(\"Number of elements : \"))\n",
    "print(\"N largest elements are:\", lst5[-m:])\n",
    "\n"
   ]
  },
  {
   "cell_type": "markdown",
   "id": "343936e8",
   "metadata": {},
   "source": [
    "7) Write a Python program to print even numbers in a list?\n",
    "\n",
    "-->\n",
    "lst6 = []\n",
    "n6 = int(input(\"Enter number of elements : \"))\n",
    "for i in range(0, n6):\n",
    "    ele6 = int(input())\n",
    "    lst6.append(ele6)\n",
    "print(\"Elements is list are : \",lst6)\n",
    "print(\"Even Numbers in the list are : \")\n",
    "for num in lst6:\n",
    "    if num % 2 == 0:\n",
    "       print(num, end = \" \")"
   ]
  },
  {
   "cell_type": "markdown",
   "id": "afb81414",
   "metadata": {},
   "source": [
    "8) Write a Python program to print odd numbers in a List?\n",
    "\n",
    "-->\n",
    "lst7 = []\n",
    "n7 = int(input(\"Enter number of elements : \"))\n",
    "for i in range(0, n7):\n",
    "    ele7 = int(input())\n",
    "    lst7.append(ele7)\n",
    "print(\"Elements is list are : \",lst7)\n",
    "print(\"Odd Numbers in the list are : \")\n",
    "for num in lst7:\n",
    "    if num % 2 != 0:\n",
    "       print(num, end = \" \"\n",
    ")\n"
   ]
  },
  {
   "cell_type": "markdown",
   "id": "905aeadc",
   "metadata": {},
   "source": [
    "9) Write a Python program to Remove empty List from List?\n",
    "-->\n",
    "test_list = [5, 6, [], 3, [], [], 9]\n",
    "print(\"The original list is : \" + str(test_list))\n",
    "res = list(filter(None, test_list))\n",
    "print (\"List after empty list removal : \" + str(res))"
   ]
  },
  {
   "cell_type": "markdown",
   "id": "b8ed2b6c",
   "metadata": {},
   "source": [
    "10) Write a Python program to Cloning or Copying a list?\n",
    "\n",
    "-->\n",
    "def Cloning(li1):\n",
    "    li_copy = li1[:]\n",
    "    return li_copy\n",
    "  \n",
    "\n",
    "li1 = []\n",
    "n8 = int(input(\"Enter number of elements : \"))\n",
    "for i in range(0, n8):\n",
    "    ele8 = int(input())\n",
    "    li1.append(ele8)\n",
    "li2 = Cloning(li1)\n",
    "print(\"Original List:\", li1)\n",
    "print(\"After Cloning:\", li2)"
   ]
  },
  {
   "cell_type": "markdown",
   "id": "73f654c2",
   "metadata": {},
   "source": [
    "11) Write a Python program to Count occurrences of an element in a list?\n",
    "-->\n",
    "def countX(lst8, x):\n",
    "    count = 0\n",
    "    for item in lst8:\n",
    "        if (item == x):\n",
    "            count = count + 1\n",
    "    return count\n",
    "lst8 = []\n",
    "n9 = int(input(\"Enter number of elements : \"))\n",
    "for i in range(0, n9):\n",
    "    ele9 = int(input())\n",
    "    lst8.append(ele9)\n",
    "x = int(input(\"Enter the number to see its count in the list: \"))\n",
    "print('{} has occurred {} times'.format(x, countX(lst8, x)))"
   ]
  },
  {
   "cell_type": "markdown",
   "id": "297feba0",
   "metadata": {},
   "source": []
  },
  {
   "cell_type": "markdown",
   "id": "d0ef7e19",
   "metadata": {},
   "source": []
  },
  {
   "cell_type": "markdown",
   "id": "fa4b8bdb",
   "metadata": {},
   "source": []
  },
  {
   "cell_type": "markdown",
   "id": "4a1d8a8a",
   "metadata": {},
   "source": []
  },
  {
   "cell_type": "markdown",
   "id": "fae0fc47",
   "metadata": {},
   "source": []
  },
  {
   "cell_type": "markdown",
   "id": "7b00212e",
   "metadata": {},
   "source": []
  },
  {
   "cell_type": "markdown",
   "id": "b8a0bdea",
   "metadata": {},
   "source": []
  },
  {
   "cell_type": "markdown",
   "id": "65098656",
   "metadata": {},
   "source": []
  },
  {
   "cell_type": "markdown",
   "id": "34a41bc3",
   "metadata": {},
   "source": []
  },
  {
   "cell_type": "markdown",
   "id": "91a04bf3",
   "metadata": {},
   "source": []
  }
 ],
 "metadata": {
  "kernelspec": {
   "display_name": "Python 3",
   "language": "python",
   "name": "python3"
  },
  "language_info": {
   "codemirror_mode": {
    "name": "ipython",
    "version": 3
   },
   "file_extension": ".py",
   "mimetype": "text/x-python",
   "name": "python",
   "nbconvert_exporter": "python",
   "pygments_lexer": "ipython3",
   "version": "3.8.8"
  }
 },
 "nbformat": 4,
 "nbformat_minor": 5
}
