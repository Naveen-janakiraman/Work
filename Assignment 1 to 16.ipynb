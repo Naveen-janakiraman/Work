{
 "cells": [
  {
   "cell_type": "markdown",
   "id": "c69cb892",
   "metadata": {},
   "source": [
    "##  1) In the below elements which of them are values or an expression? eg:- values can be\n",
    "## integer or string and expressions will be mathematical operators.\n",
    "\n",
    "#### ans -->  values=['hello',-87.8,6]\n",
    "####          expressions=[* , - , / , +]            "
   ]
  },
  {
   "cell_type": "markdown",
   "id": "090d26eb",
   "metadata": {},
   "source": [
    "## 2)  What is the difference between string and variable?\n",
    "\n",
    "#### ans--> A variable is basically the name of the location in the primary memory. A variable can store everything from strings to numbers. \n",
    "#### A string is the values inside the quotes assigned to a string."
   ]
  },
  {
   "cell_type": "markdown",
   "id": "bf92ea0d",
   "metadata": {},
   "source": [
    "## 3) Describe three different data types.\n",
    "\n",
    "#### \n",
    "\n",
    "#### A) Integer (int)\n",
    "\n",
    "####  It is the most common numeric data type used to store numbers without a fractional component (-707, 0, 707).\n",
    "\n",
    "#### # b) Floating Point (float)\n",
    "\n",
    "#### It is also a numeric data type used to store numbers that may have a fractional component like monetary values do (707.07, 0.7, 707.00).\n",
    "\n",
    "\n",
    "#### # C) String (str or text)\n",
    "\n",
    "####  It is a sequence of characters and the most commonly used data type to store text. Additionally, a string can also include digits and symbols, however, it is always treated as text.\n",
    "\n",
    "#### # D) Boolean (bool)\n",
    "\n",
    "#### It represents the values true and false. When working with the boolean data type, it is helpful to keep in mind that sometimes a boolean value is also represented as 0 (for false) and 1 (for true)."
   ]
  },
  {
   "cell_type": "markdown",
   "id": "99c2fed6",
   "metadata": {},
   "source": [
    "## 4) What is an expression made up of? What do all expressions do?\n",
    "\n",
    "####  An expression is a combination of operators, constants and variables. \n",
    "#### An expression may consist of one or more operands, and zero or more operators to produce a value"
   ]
  },
  {
   "cell_type": "markdown",
   "id": "7d8ef2a1",
   "metadata": {},
   "source": [
    "## 5) This assignment statements, like spam = 10. What is the difference between an\n",
    "## expression and a statement?\n",
    "\n",
    "#### Statements represent an action or command e.g print statements, assignment statements.\n",
    "\n",
    "##### print 'hello', x = 1\n",
    "\n",
    "#### Expression is a combination of variables, operations and values that yields a result value.\n",
    "\n",
    "##### 5 * 5 # yields 25\n"
   ]
  },
  {
   "cell_type": "markdown",
   "id": "7efba51d",
   "metadata": {},
   "source": [
    "## 6) After running the following code, what does the variable bacon contain?\n",
    "\n",
    "####     bacon=22\n",
    "####     bacon+1\n",
    "    \n",
    "####    ans: --> bacon=23\n"
   ]
  },
  {
   "cell_type": "markdown",
   "id": "e287175b",
   "metadata": {},
   "source": [
    "## 7) What should the values of the following two terms be?\n",
    "\n",
    "####  'spam' + 'spamspam'\n",
    "\n",
    "#### 'spam' * 3\n",
    "\n",
    "#### ---> 'spamspamspam'"
   ]
  },
  {
   "cell_type": "markdown",
   "id": "919b5056",
   "metadata": {},
   "source": [
    "## 8) Why is eggs a valid variable name while 100 is invalid? Variable names cannot begin with a number.\n",
    "\n",
    "#### Variable names cannot begin with a number."
   ]
  },
  {
   "cell_type": "markdown",
   "id": "89e08d3b",
   "metadata": {},
   "source": [
    "## 9) What three functions can be used to get the integer, floating-point number, or string\n",
    "##  version of a value?\n",
    "\n",
    "#### int() , float() , and str( )"
   ]
  },
  {
   "cell_type": "markdown",
   "id": "a6248090",
   "metadata": {},
   "source": [
    "## 10) Why does this expression cause an error? How can you fix it?\n",
    "\n",
    "### 'I have eaten' '+ 99  'burritos'\n",
    "\n",
    "#### ' I have eaten ' + str(99) + ' burritos'"
   ]
  },
  {
   "cell_type": "markdown",
   "id": "60e9090a",
   "metadata": {},
   "source": [
    "# Part 2"
   ]
  },
  {
   "cell_type": "markdown",
   "id": "ed30e659",
   "metadata": {},
   "source": [
    "## 1)What are the two values of the Boolean data type? How do you write them?\n",
    "\n",
    "#### There are two Boolean (Links to an external site.) values: True and False. Values in Python can be compared using comparison operations, and \n",
    "####  Boolean logic can be formulated with the use of logic operations\n",
    "\n",
    "####    like > , < , <> , == ., etc"
   ]
  },
  {
   "cell_type": "markdown",
   "id": "43e034b4",
   "metadata": {},
   "source": [
    "##  2) What are the three different types of Boolean operators?\n",
    "\n",
    "#### AND, OR and NOT."
   ]
  },
  {
   "cell_type": "markdown",
   "id": "b47e4131",
   "metadata": {},
   "source": [
    "## 3) Make a list of each Boolean operator&#39;s truth tables (i.e. every possible combination of Boolean\n",
    "## values for the operator and what it evaluate )\n",
    "\n",
    "#### x=[False,False,True,True]\n",
    "#### y=[False,True,False,True]   \n",
    "\n",
    "#### x and y = [False,False,False,True]\n",
    "#### x or y = [False,True,True,True]"
   ]
  },
  {
   "cell_type": "markdown",
   "id": "5edae577",
   "metadata": {},
   "source": [
    "## 4) What are the values of the following expressions?\n",
    "\n",
    "#### (5 > 4) and (3 == 5) ---> False\n",
    "#### not (5 > 4) --- > False\n",
    "#### (5 > 4) or (3 == 5) ---> True\n",
    "#### not ((5 > 4) or (3 == 5)) ---> False\n",
    "#### (True and True) and (True == False) --->  False\n",
    "#### (not False) or (not True) ---> True"
   ]
  },
  {
   "cell_type": "markdown",
   "id": "00dfe1d9",
   "metadata": {},
   "source": [
    "## 5) What are the six comparison operators?\n",
    "\n",
    "#### = , <> , >= , <= , > , < "
   ]
  },
  {
   "cell_type": "markdown",
   "id": "dab49f17",
   "metadata": {},
   "source": [
    "## 6. How do you tell the difference between the equal to and assignment operators?Describe a condition and when you would use one.\n",
    "\n",
    "#### The “=” is an assignment operator is used to assign the value on the right to the variable on the left. The '==' operator checks whether the two given operands are equal or not. If so, it returns true. Otherwise it returns false"
   ]
  },
  {
   "cell_type": "markdown",
   "id": "b292e542",
   "metadata": {},
   "source": [
    "## 7) Identify the three blocks in this code:\n",
    "#### spam = 0\n",
    "#### if spam == 10:\n",
    "       print('eggs')\n",
    "#### elif spam > 5:\n",
    "       print('bacon')\n",
    "#### else:\n",
    "       print('ham')\n",
    "       print('spam')\n",
    "       print('spam')"
   ]
  },
  {
   "cell_type": "markdown",
   "id": "8093483c",
   "metadata": {},
   "source": [
    "## 8) Write code that prints Hello if 1 is stored in spam, prints Howdy if 2 is stored in spam, and prints Greetings! if anything else is stored in spam.\n",
    "\n",
    "#### spam = 0\n",
    "if spam == 1:\n",
    "\n",
    "    print('hello')\n",
    "\n",
    "elif spam == 2:\n",
    "\n",
    "    print('Howdy')\n",
    "\n",
    "else:\n",
    "\n",
    "    print('Greetings!')\n",
    "\n",
    "\n"
   ]
  },
  {
   "cell_type": "markdown",
   "id": "8ff4cc7a",
   "metadata": {},
   "source": [
    "## 9) If your programme is stuck in an endless loop, what keys you’ll press?\n",
    "\n",
    "#### Ctrl + C "
   ]
  },
  {
   "cell_type": "markdown",
   "id": "ea06a81f",
   "metadata": {},
   "source": [
    "## 10) How can you tell the difference between break and continue?\n",
    "\n",
    "#### The 'break 'stop the continuation of the loop.\t\n",
    "#### The 'continue' does not stop the continuation of loop and it stops the current."
   ]
  },
  {
   "cell_type": "markdown",
   "id": "ca26f4d9",
   "metadata": {},
   "source": [
    "## 11) In a for loop, what is the difference between range(10), range(0, 10), and range(0, 10, 1)?\n",
    "\n",
    "#### no difference with the output, only representation is different"
   ]
  },
  {
   "cell_type": "markdown",
   "id": "5a730b22",
   "metadata": {},
   "source": [
    "## 12) Write a short program that prints the numbers 1 to 10 using a for loop. Then write an equivalent program that prints the numbers 1 to 10 using a while loop.\n",
    "\n",
    "#### for i in range(1,11):\n",
    "        print(i)\n",
    "        \n",
    "    #### n=1\n",
    "    while n<11:\n",
    "        print(n)\n",
    "        n+=1"
   ]
  },
  {
   "cell_type": "markdown",
   "id": "a86ce512",
   "metadata": {},
   "source": [
    "for i in range(1,11):\n",
    "\n",
    "    print(i)"
   ]
  },
  {
   "cell_type": "markdown",
   "id": "8c4c20ec",
   "metadata": {},
   "source": [
    "n=1\n",
    "while n<11:\n",
    "    print(n)\n",
    "    n+=1"
   ]
  },
  {
   "cell_type": "markdown",
   "id": "d91ef7d4",
   "metadata": {},
   "source": [
    "## 13) If you had a function named bacon() inside a module named spam, how would you call it after importing spam?\n",
    "\n",
    "####  spam. bacon()"
   ]
  },
  {
   "cell_type": "markdown",
   "id": "34cf2015",
   "metadata": {},
   "source": [
    "# part3"
   ]
  },
  {
   "cell_type": "markdown",
   "id": "158262e3",
   "metadata": {},
   "source": [
    "## 1) Why are functions advantageous to have in your programs?\n",
    "\n",
    "#### Functions reduce the need for duplicate code. This makes programs shorter, easier to read, and easier to update"
   ]
  },
  {
   "cell_type": "markdown",
   "id": "11b2ed57",
   "metadata": {},
   "source": [
    "## 2) When does the code in a function run: when it's specified or when it's called?\n",
    "\n",
    "#### when we call it"
   ]
  },
  {
   "cell_type": "markdown",
   "id": "b3bd4044",
   "metadata": {},
   "source": [
    "## 3) What statement creates a function?\n",
    "\n",
    "#### A function is created with the def keyword. The statements in the block of the function must be indented. The def keyword is followed by the function name with round brackets and a colon"
   ]
  },
  {
   "cell_type": "markdown",
   "id": "8af67578",
   "metadata": {},
   "source": [
    "## 4) What is the difference between a function and a function call?\n",
    "\n",
    "#### A function is procedure to achieve a particular result while function call is using this function to achive that task."
   ]
  },
  {
   "cell_type": "markdown",
   "id": "3ca6e037",
   "metadata": {},
   "source": [
    "## 5) How many global scopes are there in a Python program? How many local scopes?\n",
    "\n",
    "####  3 scopes --> global,local  and builtin"
   ]
  },
  {
   "cell_type": "markdown",
   "id": "8c980e10",
   "metadata": {},
   "source": [
    "## 6) What happens to variables in a local scope when the function call returns?\n",
    "\n",
    "#### When the execution of the function terminates (returns), the local variables are destroyed."
   ]
  },
  {
   "cell_type": "markdown",
   "id": "2ce179f6",
   "metadata": {},
   "source": [
    "## 7) What is the concept of a return value? Is it possible to have a return value in an expression?\n",
    "\n",
    "#### A return statement is used to end the execution of the function call and “returns” the result  (value of the expression following the return keyword) to the caller\n",
    "\n",
    "#### yes , it is  possible to have return expression"
   ]
  },
  {
   "cell_type": "markdown",
   "id": "e475f746",
   "metadata": {},
   "source": [
    "## 8) If a function does not have a return statement, what is the return value of a call to that function?\n",
    "\n",
    "#### --> NONE"
   ]
  },
  {
   "cell_type": "markdown",
   "id": "36a2f251",
   "metadata": {},
   "source": [
    "## 9) How do you make a function variable refer to the global variable?\n",
    "\n",
    "#### use the global keyword to declare which variables are global"
   ]
  },
  {
   "cell_type": "markdown",
   "id": "471e0faa",
   "metadata": {},
   "source": [
    "## 10) What is the data type of None?\n",
    "\n",
    "#### --> NoneType"
   ]
  },
  {
   "cell_type": "markdown",
   "id": "fe2f091c",
   "metadata": {},
   "source": [
    "## 11) What does the sentence import areallyourpetsnamederic do?\n",
    "\n",
    "##### imports a module named areallyourpetsnamederic"
   ]
  },
  {
   "cell_type": "markdown",
   "id": "043a591f",
   "metadata": {},
   "source": [
    "## 12) If you had a bacon() feature in a spam module, what would you call it after importing spam?\n",
    "\n",
    "#### spam.bacon()"
   ]
  },
  {
   "cell_type": "markdown",
   "id": "f57a9a20",
   "metadata": {},
   "source": [
    "## 13) What can you do to save a programme from crashing if it encounters an error?\n",
    "\n",
    "#### error handling can be used"
   ]
  },
  {
   "cell_type": "markdown",
   "id": "12ed71d4",
   "metadata": {},
   "source": [
    "## 14) What is the purpose of the try clause? What is the purpose of the except clause?\n",
    "\n",
    "#### The try block lets you test a block of code for errors. The except block lets you handle the error."
   ]
  },
  {
   "cell_type": "markdown",
   "id": "e0051df3",
   "metadata": {},
   "source": [
    "# part-4"
   ]
  },
  {
   "cell_type": "markdown",
   "id": "e9852810",
   "metadata": {},
   "source": [
    "## 1) What exactly is [ ]?\n",
    "\n",
    "#### It is also called as square brackets and referred to close intervals."
   ]
  },
  {
   "cell_type": "markdown",
   "id": "5039617a",
   "metadata": {},
   "source": [
    "## 3)In a list of values stored in a variable called spam, how would you assign the value 'hello'; as the third value? (Assume [2, 4, 6, 8, 10] are in spam.)\n",
    "\n",
    "#### spam[2]='hello"
   ]
  },
  {
   "cell_type": "markdown",
   "id": "4cbb00c4",
   "metadata": {},
   "source": [
    "spam=[2, 4, 6, 8, 10]\n",
    "spam[2]='hello'\n",
    "spam"
   ]
  },
  {
   "cell_type": "markdown",
   "id": "aae3c494",
   "metadata": {},
   "source": [
    "### Let's pretend the spam includes the list ['a', 'b', 'c', 'd'] for the next three queries."
   ]
  },
  {
   "cell_type": "markdown",
   "id": "57b37ea9",
   "metadata": {},
   "source": [
    "## 3) What is the value of spam[int(int('3' * 2) / 11)]?\n",
    "\n",
    "####  --> 'd'"
   ]
  },
  {
   "cell_type": "markdown",
   "id": "56629e67",
   "metadata": {},
   "source": [
    "spam=['a', 'b', 'c', 'd']\n",
    "spam[int(int('3' * 2) / 11)]\n"
   ]
  },
  {
   "cell_type": "markdown",
   "id": "b8e5b04a",
   "metadata": {},
   "source": [
    "## 4) What is the value of spam[-1]?\n",
    "\n",
    "#### 'd'"
   ]
  },
  {
   "cell_type": "markdown",
   "id": "0141cace",
   "metadata": {},
   "source": [
    "spam=['a', 'b', 'c', 'd']\n",
    "spam[-1]"
   ]
  },
  {
   "cell_type": "markdown",
   "id": "9b6a266f",
   "metadata": {},
   "source": [
    "## 5) What is the value of spam[:2]?\n",
    "\n",
    "####  'c'"
   ]
  },
  {
   "cell_type": "markdown",
   "id": "409085fa",
   "metadata": {},
   "source": [
    "spam[-2]"
   ]
  },
  {
   "cell_type": "markdown",
   "id": "91ba364f",
   "metadata": {},
   "source": [
    "## Let's pretend bacon has the list [3.14, 'cat,' 11, 'cat,' True] for the next three questions."
   ]
  },
  {
   "cell_type": "markdown",
   "id": "29a66c4b",
   "metadata": {},
   "source": [
    "bacon=[3.14, 'cat', 11, 'cat', True]"
   ]
  },
  {
   "cell_type": "markdown",
   "id": "b1570be4",
   "metadata": {},
   "source": [
    "## 6) What is the value of bacon.index('cat')?\n",
    "\n",
    "####  1"
   ]
  },
  {
   "cell_type": "markdown",
   "id": "aab9f6d7",
   "metadata": {},
   "source": [
    "bacon.index('cat')"
   ]
  },
  {
   "cell_type": "markdown",
   "id": "d6acccb7",
   "metadata": {},
   "source": [
    "## 7) How does bacon.append(99) change the look of the list value in bacon?\n",
    "\n",
    "####  [3.14, 'cat', 11, 'cat', True, 99] --> adds 99 to the list and 6 items in the list"
   ]
  },
  {
   "cell_type": "markdown",
   "id": "fd077c4e",
   "metadata": {},
   "source": [
    "bacon.append(99)\n",
    "bacon"
   ]
  },
  {
   "cell_type": "markdown",
   "id": "312cdffc",
   "metadata": {},
   "source": [
    "## 8) How does bacon.remove('cat') change the look of the list in bacon?\n",
    "\n",
    "####  [3.14, 11, 'cat', True, 99 --> removes the 'cat' string in the list"
   ]
  },
  {
   "cell_type": "markdown",
   "id": "6dcf5a5a",
   "metadata": {},
   "source": [
    "bacon.remove('cat')\n",
    "bacon"
   ]
  },
  {
   "cell_type": "markdown",
   "id": "8d434f0a",
   "metadata": {},
   "source": [
    "##  9) What are the list concatenation and list replication operators?\n",
    "\n",
    "#### The operator for list concatenation is +, while the operator for replication is *"
   ]
  },
  {
   "cell_type": "markdown",
   "id": "8657ea1e",
   "metadata": {},
   "source": [
    "## 10) What is difference between the list methods append() and insert()?\n",
    "\n",
    "#### insert function allows us to add a specific element at a specified index of the list unlike append() where we can add the element only at end of the list."
   ]
  },
  {
   "cell_type": "markdown",
   "id": "123986a7",
   "metadata": {},
   "source": [
    "## 11) What are the two methods for removing items from a list?\n",
    "\n",
    "#### remove(), pop()"
   ]
  },
  {
   "cell_type": "markdown",
   "id": "51150f78",
   "metadata": {},
   "source": [
    "## 12) Describe how list values and string values are identical.\n",
    "\n",
    "#### The similarity between Lists and Strings in Python is that both are sequences. "
   ]
  },
  {
   "cell_type": "markdown",
   "id": "ba49e939",
   "metadata": {},
   "source": [
    "## 13) What's the difference between tuples and lists?\n",
    "\n",
    "#### key difference between the tuples and lists is that while the tuples are immutable objects the lists are mutable"
   ]
  },
  {
   "cell_type": "markdown",
   "id": "68f98a52",
   "metadata": {},
   "source": [
    "## 14) How do you type a tuple value that only contains the integer 42?\n",
    "\n",
    "#### (42,)"
   ]
  },
  {
   "cell_type": "markdown",
   "id": "cb443636",
   "metadata": {},
   "source": [
    "## 15) How do you get a list value's tuple form? How do you get a tuple value's list form?\n",
    "\n",
    "#### tuple = tuple(list)\n",
    "####    list=list(tuple)\n"
   ]
  },
  {
   "cell_type": "markdown",
   "id": "e1a1d2bc",
   "metadata": {},
   "source": [
    "## 16) Variables that \"contain\" list values are not necessarily lists themselves. Instead, what do they contain?\n",
    "\n",
    "#### Variables will contain references to list values rather than list values themselves"
   ]
  },
  {
   "cell_type": "markdown",
   "id": "641653cd",
   "metadata": {},
   "source": [
    "## 17) How do you distinguish between copy.copy() and copy.deepcopy()?\n",
    "\n",
    "#### copy() create reference to original object and deepcopy() creates new object "
   ]
  },
  {
   "cell_type": "markdown",
   "id": "e0d6d8bf",
   "metadata": {},
   "source": [
    "# Part-5"
   ]
  },
  {
   "cell_type": "markdown",
   "id": "24f7003d",
   "metadata": {},
   "source": [
    "## 1) What does an empty dictionary's code look like?\n",
    "\n",
    "#### the dictionary should be set to {}"
   ]
  },
  {
   "cell_type": "markdown",
   "id": "2f624414",
   "metadata": {},
   "source": [
    "## 2) What is the value of a dictionary value with the key 'foo' and the value 42?\n",
    "\n",
    "#### {'foo':42}"
   ]
  },
  {
   "cell_type": "markdown",
   "id": "d20e6563",
   "metadata": {},
   "source": [
    "## 3) What is the most significant distinction between a dictionary and a list?\n",
    "\n",
    "#### A list is an ordered sequence of objects, whereas dictionaries are unordered sets"
   ]
  },
  {
   "cell_type": "markdown",
   "id": "8b4fd75d",
   "metadata": {},
   "source": [
    "## 4) What happens if you try to access spam['foo'] if spam is {'bar': 100}?\n",
    "\n",
    "#### we get an key error"
   ]
  },
  {
   "cell_type": "markdown",
   "id": "94ef590c",
   "metadata": {},
   "source": [
    "## 5) If a dictionary is stored in spam, what is the difference between the expressions 'cat' in spam and'cat' in spam.keys()?\n",
    "\n",
    "#### 'cat' in spam checks whether there is a 'cat' key in the dictionary"
   ]
  },
  {
   "cell_type": "markdown",
   "id": "18297941",
   "metadata": {},
   "source": [
    "## 6) If a dictionary is stored in spam, what is the difference between the expressions cat' in spam and #cat' in spam.values()?\n",
    "\n",
    "#### 'cat' in spam checks whether there is a 'cat' key in the dictionary, while 'cat' in spam. values() checks whether there is a value 'cat' for one of the keys in spam ."
   ]
  },
  {
   "cell_type": "markdown",
   "id": "73f3451b",
   "metadata": {},
   "source": [
    "## 7)  What is a shortcut for the following code?\n",
    "### if &#39;color&#39; not in spam:\n",
    "### spam[&#39;color&#39;] = &#39;black&#39;\n",
    "#### --->spam.setdefault('color', 'black')"
   ]
  },
  {
   "cell_type": "markdown",
   "id": "c9c7e1b8",
   "metadata": {},
   "source": [
    "## 8) How do you &quot;pretty print; dictionary values using which module and function?\n",
    "\n",
    "####  pprint()"
   ]
  },
  {
   "cell_type": "markdown",
   "id": "783f28d4",
   "metadata": {},
   "source": [
    "dct_arr = [\n",
    "  {'Name': 'John', 'Age': '23', 'Country': 'USA'},\n",
    "  {'Name': 'Jose', 'Age': '44', 'Country': 'Spain'},\n",
    "  {'Name': 'Anne', 'Age': '29', 'Country': 'UK'},\n",
    "  {'Name': 'Lee', 'Age': '35', 'Country': 'Japan'}\n",
    "]"
   ]
  },
  {
   "cell_type": "markdown",
   "id": "f850643d",
   "metadata": {},
   "source": [
    "\n",
    "import pprint\n",
    "\n",
    "pprint.pprint(dct_arr)"
   ]
  },
  {
   "cell_type": "markdown",
   "id": "af034f1d",
   "metadata": {},
   "source": [
    "print(dct_arr)"
   ]
  },
  {
   "cell_type": "markdown",
   "id": "bc790011",
   "metadata": {},
   "source": [
    "# Part-6"
   ]
  },
  {
   "cell_type": "markdown",
   "id": "17322aeb",
   "metadata": {},
   "source": [
    "## 1) What are escape characters, and how do you use them?\n",
    "\n",
    "#### To insert characters that are illegal in a string"
   ]
  },
  {
   "cell_type": "markdown",
   "id": "0b705f9b",
   "metadata": {},
   "source": [
    "## 2) What do the escape characters n and t stand for?\n",
    "\n",
    "#### \"\\n” is used to create a new line and \"\\t\" is used to create a Tab"
   ]
  },
  {
   "cell_type": "markdown",
   "id": "0cfe0ae5",
   "metadata": {},
   "source": [
    "## 3) What is the way to include backslash characters in a string?\n",
    "\n",
    "####  need to include two backslashes"
   ]
  },
  {
   "cell_type": "markdown",
   "id": "beeb537b",
   "metadata": {},
   "source": [
    "## 4) The string \"Howl's Moving Castle\" is a correct value. Why isn't the single quote character in the word Howl's not escaped a problem?\n",
    "\n",
    "#### used double quotes to mark the beginning and end of the string."
   ]
  },
  {
   "cell_type": "markdown",
   "id": "7edc4a9c",
   "metadata": {},
   "source": [
    "## 5) How do you write a string of newlines if you don't want to use the n character?\n",
    "\n",
    "#### \\n"
   ]
  },
  {
   "cell_type": "markdown",
   "id": "735d3efb",
   "metadata": {},
   "source": [
    "## 6) What are the values of the given expressions?\n",
    "#### 'Hello, world!'[1]      ---> 'H'\n",
    "#### 'Hello, world!'[0:5]    --->  'Hello'\n",
    "#### 'Hello, world!'[:5]      ---> 'world'\n",
    "#### 'Hello, world!'[3:]      ---> 'lo, world!'"
   ]
  },
  {
   "cell_type": "markdown",
   "id": "2ff3182a",
   "metadata": {},
   "source": [
    "## 7) What are the values of the following expressions?\n",
    "#### 'Hello'.upper()         --->  'HELLO'\n",
    "#### 'Hello'.upper().isupper()     ----> True\n",
    "#### 'Hello'.upper().lower() ----> 'hello'"
   ]
  },
  {
   "cell_type": "markdown",
   "id": "723526e6",
   "metadata": {},
   "source": [
    "# 8. What are the values of the following expressions?\n",
    "#### 'Remember, remember, the fifth of July.'.split()\n",
    "####    ---> ['Remember,', 'remember,', 'the', 'fifth', 'of', 'July.']\n",
    "\n",
    "#### '-'.join('There can only one.'.split())\n",
    "####  'There-can-only-one.'\n"
   ]
  },
  {
   "cell_type": "markdown",
   "id": "21284f51",
   "metadata": {},
   "source": [
    "## 9) What are the methods for right-justifying, left-justifying, and centering a string?\n",
    "\n",
    "#### ljust(), rjust(), center()"
   ]
  },
  {
   "cell_type": "markdown",
   "id": "d8f28194",
   "metadata": {},
   "source": [
    "## 10) What is the best way to remove whitespace characters from the start or end?\n",
    "\n",
    "#### Trim()"
   ]
  },
  {
   "cell_type": "markdown",
   "id": "98f58f49",
   "metadata": {},
   "source": [
    "# part-7"
   ]
  },
  {
   "cell_type": "markdown",
   "id": "3db3f499",
   "metadata": {},
   "source": [
    "## 1) What is the name of the feature responsible for generating Regex objects?\n",
    "\n",
    "#### re. compile() function returns Regex objects"
   ]
  },
  {
   "cell_type": "markdown",
   "id": "9ab19cb3",
   "metadata": {},
   "source": [
    "## 2) Why do raw strings often appear in Regex objects?\n",
    "\n",
    "#### Raw strings are used so that backslashes do not have to be escaped"
   ]
  },
  {
   "cell_type": "markdown",
   "id": "3a5afcf8",
   "metadata": {},
   "source": [
    "## 3) What is the return value of the search() method?\n",
    "\n",
    "#### If there is more than one match, only the first occurrence of the match will be returned. If no matches are found, the value None is returned"
   ]
  },
  {
   "cell_type": "markdown",
   "id": "a91b0fef",
   "metadata": {},
   "source": [
    "## 4) From a Match item, how do you get the actual strings that match the pattern?\n",
    "\n",
    "#### If the pattern is found, the search() method returns a Match object, which have a group() method that will return the actual matched text from the searched string."
   ]
  },
  {
   "cell_type": "markdown",
   "id": "f18dd1dd",
   "metadata": {},
   "source": [
    "## 5) In the regex which created from the r&#39;(\\d\\d\\d)-(\\d\\d\\d-\\d\\d\\d\\d)&#39;, what does group zero cover? Group 2? Group 1?\n",
    "\n",
    "#### group(0) ---> ddd-ddd-dddd\n",
    "#### group(1) ---> ddd\n",
    "#### group(2) ---> ddd-dddd"
   ]
  },
  {
   "cell_type": "markdown",
   "id": "79d29438",
   "metadata": {},
   "source": [
    "## 6) In standard expression syntax, parentheses and intervals have distinct meanings. How can you tell a regex that you want it to fit real parentheses and periods?\n",
    "\n",
    "#### Periods and parentheses can be escaped with a backslash: \\ , \\(, and \\ )"
   ]
  },
  {
   "cell_type": "markdown",
   "id": "9628329f",
   "metadata": {},
   "source": [
    "## 7)The findall() method returns a string list or a list of string tuples. What causes it to return one of the two options?\n",
    "\n",
    "#### If the regex has no groups, a list of strings is returned. If the regex has groups, a list of tuples of strings is returned."
   ]
  },
  {
   "cell_type": "markdown",
   "id": "90da9554",
   "metadata": {},
   "source": [
    "## 8. In standard expressions, what does the | character mean?\n",
    "\n",
    "#### The | character signifies matching \"either, or\" between two groups"
   ]
  },
  {
   "cell_type": "markdown",
   "id": "9481167b",
   "metadata": {},
   "source": [
    "## 9) In regular expressions, what does the character stand for?\n",
    "\n",
    "#### A word character is a letter, a number, or an underscore"
   ]
  },
  {
   "cell_type": "markdown",
   "id": "8b1b8655",
   "metadata": {},
   "source": [
    "## 10) In regular expressions, what is the difference between the + and * characters?\n",
    "\n",
    "#### The + matches one or more. The * matches zero or more"
   ]
  },
  {
   "cell_type": "markdown",
   "id": "55d3c349",
   "metadata": {},
   "source": [
    "## 11) What is the difference between {4} and {4,5} in regular expression?\n",
    "\n",
    "#### {4} ---> matches oly 4 char\n",
    "#### {4,5}----> matches 4 char and 5 char"
   ]
  },
  {
   "cell_type": "markdown",
   "id": "6251fade",
   "metadata": {},
   "source": [
    "## 12) What do you mean by the \\d, \\w, and \\s shorthand character classes signify in regular expressions?\n",
    "\n",
    "#### \\d, \\w, and \\s shorthand character classes match a single digit, word, or space character, respectively."
   ]
  },
  {
   "cell_type": "markdown",
   "id": "038777c5",
   "metadata": {},
   "source": [
    "## 14) What is the difference between .*? and .*?\n",
    "\n",
    "#### (.*?) matches any character ( . ) any number of times ( * ), as few times as possible to make the regex match"
   ]
  },
  {
   "cell_type": "markdown",
   "id": "103bdb04",
   "metadata": {},
   "source": [
    "## 15) What is the syntax for matching both numbers and lowercase letters with a character class?\n",
    "\n",
    "#### [0-9a-z] "
   ]
  },
  {
   "cell_type": "markdown",
   "id": "3c1f92c3",
   "metadata": {},
   "source": [
    "## 16) What is the procedure for making a normal expression in regax case insensitive?\n",
    "\n",
    "####  re.IGNORECASE"
   ]
  },
  {
   "cell_type": "markdown",
   "id": "80fb8f2b",
   "metadata": {},
   "source": [
    "## 17) What does the . character normally match? What does it match if re.DOTALL is passed as 2nd argument in re.compile()?\n",
    "\n",
    "#### character normally matches any character except the newline character. If re. DOTALL is passed as the second argument to re. compile(), then the dot will also match newline characters."
   ]
  },
  {
   "cell_type": "markdown",
   "id": "350c480c",
   "metadata": {},
   "source": [
    "## 18) If numReg = re.compile(r&#39;\\d+&#39;), what will numRegex.sub(&#39;X&#39;, &#39;11 drummers, 10 pipers, five rings, 4 hen&#39;) return?\n",
    "\n",
    "#### ('X', 4 hen)"
   ]
  },
  {
   "cell_type": "markdown",
   "id": "4e90ddd3",
   "metadata": {},
   "source": [
    "## 19) What does passing re.VERBOSE as the 2nd argument to re.compile() allow to do?\n",
    "\n",
    "#### allows to add whitespace and comments to the string passed to re"
   ]
  },
  {
   "cell_type": "markdown",
   "id": "1095ceda",
   "metadata": {},
   "source": [
    "## 20) How would you write a regex that match a number with comma for every three digits? It must match the given following:\n",
    "### &#39;42&#39;\n",
    "### &#39;1,234&#39;\n",
    "### &#39;6,368,745&#39;\n",
    "\n",
    "### but not the following:\n",
    "### &#39;12,34,567&#39; (which has only two digits between the commas)\n",
    "### &#39;1234&#39; (which lacks commas)\n",
    "\n",
    "#### ---> (^\\d+(,\\d{3})*$)"
   ]
  },
  {
   "cell_type": "markdown",
   "id": "995d2ca8",
   "metadata": {},
   "source": [
    "\n",
    "21. How would you write a regex that matches the full name of someone whose last name is\n",
    "Watanabe? You can assume that the first name that comes before it will always be one word that\n",
    "begins with a capital letter. The regex must match the following:\n",
    "&#39;Haruto Watanabe&#39;\n",
    "&#39;Alice Watanabe&#39;\n",
    "&#39;RoboCop Watanabe&#39;\n",
    "but not the following:\n",
    "&#39;haruto Watanabe&#39; (where the first name is not capitalized)\n",
    "&#39;Mr. Watanabe&#39; (where the preceding word has a nonletter character)\n",
    "&#39;Watanabe&#39; (which has no first name)\n",
    "&#39;Haruto watanabe&#39; (where Watanabe is not capitalized)\n",
    "\n",
    "-----> (r'\\b[A-Z][a-zA-Z]+\\sNakamoto')"
   ]
  },
  {
   "cell_type": "markdown",
   "id": "bcc785ae",
   "metadata": {},
   "source": [
    "22. How would you write a regex that matches a sentence where the first word is either Alice, Bob,\n",
    "or Carol; the second word is either eats, pets, or throws; the third word is apples, cats, or baseballs;\n",
    "and the sentence ends with a period? This regex should be case-insensitive. It must match the\n",
    "following:\n",
    "&#39;Alice eats apples.&#39;\n",
    "&#39;Bob pets cats.&#39;\n",
    "&#39;Carol throws baseballs.&#39;\n",
    "&#39;Alice throws Apples.&#39;\n",
    "&#39;BOB EATS CATS.&#39;\n",
    "but not the following:\n",
    "&#39;RoboCop eats apples.&#39;\n",
    "&#39;ALICE THROWS FOOTBALLS.&#39;\n",
    "&#39;Carol eats 7 cats.&#39;\n",
    "\n",
    "\n",
    "----> "
   ]
  },
  {
   "cell_type": "markdown",
   "id": "2940276e",
   "metadata": {},
   "source": [
    "# PART-8"
   ]
  },
  {
   "cell_type": "markdown",
   "id": "0ca98082",
   "metadata": {},
   "source": []
  },
  {
   "cell_type": "markdown",
   "id": "89e8f318",
   "metadata": {},
   "source": [
    "1. Is the Python Standard Library included with PyInputPlus?\n",
    "\n",
    "-->PyInputPlus is not a part of the Python Standard Library, so you must install it separately using Pip"
   ]
  },
  {
   "cell_type": "markdown",
   "id": "440a3882",
   "metadata": {},
   "source": [
    "2. Why is PyInputPlus commonly imported with import pyinputplus as pypi?\n",
    "\n",
    "---> we can use the shorter pyip name."
   ]
  },
  {
   "cell_type": "markdown",
   "id": "02367c77",
   "metadata": {},
   "source": [
    "3. How do you distinguish between inputInt() and inputFloat()?\n",
    "\n",
    "---> inputInt() : Accepts an integer value Returns an int. \n",
    "    inputFloat() : Accepts a floating-point numeric value."
   ]
  },
  {
   "cell_type": "markdown",
   "id": "976ca12f",
   "metadata": {},
   "source": [
    "4. Using PyInputPlus, how do you ensure that the user enters a whole number between 0 and 99?\n",
    "\n",
    "---> pyip.inputNum('>', min=0, lessThan=100)"
   ]
  },
  {
   "cell_type": "markdown",
   "id": "0c24f6b8",
   "metadata": {},
   "source": [
    "5. What is transferred to the keyword arguments allowRegexes and blockRegexes?\n",
    "\n",
    "---> can also use regular expressions to specify whether an input is allowed or not. The allowRegexes and blockRegexes keyword arguments take a list of regular expression strings to determine what the PyInputPlus function will accept or reject as valid input"
   ]
  },
  {
   "cell_type": "markdown",
   "id": "db894fd7",
   "metadata": {},
   "source": [
    "6. If a blank input is entered three times, what does inputStr(limit=3) do?\n",
    "---> function to stop asking the user for input after a certain number of tries or a certain amount of time"
   ]
  },
  {
   "cell_type": "markdown",
   "id": "44cd6c4e",
   "metadata": {},
   "source": [
    "7. If blank input is entered three times, what does inputStr(limit=3, default=&#39;hello&#39;) do?\n",
    "                                                             \n",
    "---> will print hello"
   ]
  },
  {
   "cell_type": "markdown",
   "id": "d181c370",
   "metadata": {},
   "source": [
    "# Part - 9"
   ]
  },
  {
   "cell_type": "markdown",
   "id": "d5782514",
   "metadata": {},
   "source": [
    "1) To what does a relative path refer?\n",
    "\n",
    "--> Alternatively referred to as a partial path or non-absolute path, a relative path is a URL that only contains a portion of the full path. Its complete location is based on its relation to the directory where it is linking"
   ]
  },
  {
   "cell_type": "markdown",
   "id": "63f96774",
   "metadata": {},
   "source": [
    "2) What does an absolute path start with your operating system?\n",
    "\n",
    "--> An absolute path refers to the complete details needed to locate a file or folder, starting from the root element and ending with the other subdirectories"
   ]
  },
  {
   "cell_type": "markdown",
   "id": "4c8765bf",
   "metadata": {},
   "source": [
    "3) What do the functions os.getcwd() and os.chdir() do?\n",
    "\n",
    "--> a) getcwd() : CWD stands for Current Working Directory. This function allows you to see what your current working directory is. \n",
    "    b) chdir(\"path-to-dir\") : Short for Change Directory, this function allows you to set the current working directory to a path of choice."
   ]
  },
  {
   "cell_type": "markdown",
   "id": "8c7dcb60",
   "metadata": {},
   "source": [
    "4) What are the . and .. folders?\n",
    "\n",
    "--> The .. shortcut allows to refer to the parent of a directory with directory/.., its grandparent using directory/../.. and so on.\n",
    "\n",
    "--> The . shortcut allows  to explicitly refer to the current directory, in cases where an application requires to specify a directory (or directories) to search in and want to search in the current directory."
   ]
  },
  {
   "cell_type": "markdown",
   "id": "bddbde9a",
   "metadata": {},
   "source": [
    "5) In C:\\bacon\\eggs\\spam.txt, which part is the dir name, and which part is the base name?\n",
    "\n",
    "--> C:\\bacon\\eggs is the dir name, while spam.txt is the base name."
   ]
  },
  {
   "cell_type": "markdown",
   "id": "57932cdc",
   "metadata": {},
   "source": [
    "6) What are the three “mode” arguments that can be passed to the open() function?\n",
    "\n",
    "--> The string 'r' for read mode, 'w' for write mode, and 'a' for append mode"
   ]
  },
  {
   "cell_type": "markdown",
   "id": "97f41b4c",
   "metadata": {},
   "source": [
    "7) What happens if an existing file is opened in write mode?\n",
    "\n",
    "--> An existing file opened in write mode is erased and completely overwritten."
   ]
  },
  {
   "cell_type": "markdown",
   "id": "b773132f",
   "metadata": {},
   "source": [
    "8) How do you tell the difference between read() and readlines()?\n",
    "\n",
    "--> The read() method returns the file's entire contents as a single string value. The readlines() method returns a list of strings, where each string is a line from the file's contents."
   ]
  },
  {
   "cell_type": "markdown",
   "id": "2b0efd31",
   "metadata": {},
   "source": [
    "9. What data structure does a shelf value resemble?\n",
    "\n",
    "--> A shelf value resembles a dictionary value; it has keys and values, along with keys() and values() methods that work similarly to the dictionary methods of the same names"
   ]
  },
  {
   "cell_type": "markdown",
   "id": "303d2a48",
   "metadata": {},
   "source": [
    "# Part-10"
   ]
  },
  {
   "cell_type": "markdown",
   "id": "cebf8054",
   "metadata": {},
   "source": [
    "1) How do you distinguish between shutil.copy() and shutil.copytree()?\n",
    "\n",
    "--> While shutil. copy() will copy a single file, shutil. copytree() will copy an entire folder and every folder and file contained in it."
   ]
  },
  {
   "cell_type": "markdown",
   "id": "1d7a9223",
   "metadata": {},
   "source": [
    "2) What function is used to rename files??\n",
    "\n",
    "--> os.rename() method in Python is used to rename a file or directory."
   ]
  },
  {
   "cell_type": "markdown",
   "id": "fc7d6b51",
   "metadata": {},
   "source": [
    "3) What is the difference between the delete functions in the send2trash and shutil modules?\n",
    "\n",
    "-->The send2trash functions will move a file or folder to the recycle bin, while shutil functions will permanently delete files and folders"
   ]
  },
  {
   "cell_type": "markdown",
   "id": "2d5031d6",
   "metadata": {},
   "source": [
    "4)ZipFile objects have a close() method just like File objects’ close() method. What ZipFile method is\n",
    "equivalent to File objects’ open() method?\n",
    "\n",
    "--> The extractall() method"
   ]
  },
  {
   "cell_type": "markdown",
   "id": "2a3d4432",
   "metadata": {},
   "source": [
    "5. Create a programme that searches a folder tree for files with a certain file extension (such as .pdf\n",
    "or .jpg). Copy these files from whatever location they are in to a new folder.\n",
    "\n",
    "--> def moveFileType(folder):\n",
    "    for folderName, subfolders, filenames in os.walk(folder):\n",
    "        for filename in filenames:\n",
    "            if filename.endswith('.jpg'):\n",
    "                shutil.copy(os.path.join(folderName, filename), '<destination>')"
   ]
  },
  {
   "cell_type": "markdown",
   "id": "2408f363",
   "metadata": {},
   "source": []
  },
  {
   "cell_type": "markdown",
   "id": "6104d3db",
   "metadata": {},
   "source": [
    "# Part-11"
   ]
  },
  {
   "cell_type": "markdown",
   "id": "97757547",
   "metadata": {},
   "source": [
    "1) Create an assert statement that throws an AssertionError if the variable spam is a negative\n",
    "integer.\n",
    "\n",
    "--> assert spam >= int(0), 'The spam variable is negative integer.'\n"
   ]
  },
  {
   "cell_type": "markdown",
   "id": "17b5f444",
   "metadata": {},
   "source": [
    "2) Write an assert statement that triggers an AssertionError if the variables eggs and bacon contain\n",
    "strings that are the same as each other, even if their cases are different (that is, 'hello' and 'hello' are\n",
    "considered the same, and 'goodbye' and 'GOODbye' are also considered the same).\n",
    "                                                                            \n",
    " --> assert eggs.lower() != bacon.lower(), 'The eggs and bacon variables are the same!' or assert eggs.upper() != bacon.upper(), 'The eggs and bacon variables are the same!'                                                                           "
   ]
  },
  {
   "cell_type": "markdown",
   "id": "136a256c",
   "metadata": {},
   "source": [
    "3) Create an assert statement that throws an AssertionError every time.\n",
    "\n",
    "--> assert False, 'This assertion always triggers.'"
   ]
  },
  {
   "cell_type": "markdown",
   "id": "c028325a",
   "metadata": {},
   "source": [
    "4) What are the two lines that must be present in your software in order to call logging.debug()?\n",
    "\n",
    "--> import logging\n",
    "logging.basicConfig(level=logging.DEBUG, format=' %(asctime)s - %(levelname)s - %(message)s')"
   ]
  },
  {
   "cell_type": "markdown",
   "id": "2fb4441b",
   "metadata": {},
   "source": [
    "5) What are the two lines that your program must have in order to have logging.debug() send a\n",
    "logging message to a file named programLog.txt?\n",
    "\n",
    "--> import logging\n",
    "\n",
    "logging.basicConfig(filename='programLog.txt', level=logging.DEBUG,format=' %(asctime)s - %(levelname)s - %(message)s')"
   ]
  },
  {
   "cell_type": "markdown",
   "id": "078ba7b3",
   "metadata": {},
   "source": [
    "6) What are the five levels of logging?\n",
    "\n",
    "--> DEBUG, INFO, WARNING, ERROR, and CRITICAL"
   ]
  },
  {
   "cell_type": "markdown",
   "id": "03e68475",
   "metadata": {},
   "source": [
    "7) What line of code would you add to your software to disable all logging messages?\n",
    "\n",
    "--> logging.disable(logging.CRITICAL)"
   ]
  },
  {
   "cell_type": "markdown",
   "id": "2308165c",
   "metadata": {},
   "source": [
    "8) Why is using logging messages better than using print() to display the same message?\n",
    "\n",
    "--> can disable logging messages without removing the logging function calls. \n",
    "    can selectively disable lower-level logging messages. \n",
    "    can create logging messages. \n",
    "    Logging messages provides a timestamp."
   ]
  },
  {
   "cell_type": "markdown",
   "id": "e652c1f2",
   "metadata": {},
   "source": [
    "9) What are the differences between the Step Over, Step In, and Step Out buttons in the debugger?\n",
    "\n",
    "--> The Step button will move the debugger into a function call. The Over button will quickly execute the function call without stepping into it. The Out button will quickly execute the rest of the code until it steps out of the function it currently is in"
   ]
  },
  {
   "cell_type": "markdown",
   "id": "f1a26134",
   "metadata": {},
   "source": [
    "10) After you click Continue, when will the debugger stop ?\n",
    "\n",
    "--> After you click Go, the debugger will stop when it has reached the end of the program or a line with a breakpoint."
   ]
  },
  {
   "cell_type": "markdown",
   "id": "e3f27e82",
   "metadata": {},
   "source": [
    "11) What is the concept of a breakpoint?\n",
    "\n",
    "--> a breakpoint is an intentional stopping or pausing place in a program, put in place for debugging purposes"
   ]
  },
  {
   "cell_type": "markdown",
   "id": "8e20d004",
   "metadata": {},
   "source": []
  },
  {
   "cell_type": "markdown",
   "id": "6eaf918f",
   "metadata": {},
   "source": [
    "\n",
    "# PART - 12"
   ]
  },
  {
   "cell_type": "markdown",
   "id": "aec16369",
   "metadata": {},
   "source": [
    "1) In what modes should the PdfFileReader() and PdfFileWriter() File objects will be opened?\n",
    "\n",
    "--> PdfFileReader() needs to be opened in read-binary mode by passing 'rb' as the second argument to open(). Likewise, the File object passed to PyPDF2. PdfFileWriter() needs to be opened in write-binary mode with 'wb'."
   ]
  },
  {
   "cell_type": "markdown",
   "id": "e8b35de5",
   "metadata": {},
   "source": [
    "2) From a PdfFileReader object, how do you get a Page object for page 5?\n",
    "\n",
    "--> can get a Page object by calling the getPage() method on a PdfFileReader object and passing it the page number of the page"
   ]
  },
  {
   "cell_type": "markdown",
   "id": "c963fd88",
   "metadata": {},
   "source": [
    "3) What PdfFileReader variable stores the number of pages in the PDF document?\n",
    "\n",
    "--> The total number of pages in the document is stored in the numPages attribute of a PdfFileReader object "
   ]
  },
  {
   "cell_type": "markdown",
   "id": "b2dc515d",
   "metadata": {},
   "source": [
    "4) If a PdfFileReader object’s PDF is encrypted with the password swordfish, what must you do\n",
    "before you can obtain Page objects from it?\n",
    "\n",
    "--> pdfWriter.encrypt('swordfish')"
   ]
  },
  {
   "cell_type": "markdown",
   "id": "3df5a18e",
   "metadata": {},
   "source": [
    "5) What methods do you use to rotate a page?\n",
    "\n",
    "--> RotateClockwise(90) method to rotate the page clockwise by 90-degrees."
   ]
  },
  {
   "cell_type": "markdown",
   "id": "89ce7a70",
   "metadata": {},
   "source": [
    "6) What is the difference between a Run object and a Paragraph object?\n",
    "\n",
    "--> Paragraph styles can be applied to Paragraph objects, character styles can be applied to Run objects"
   ]
  },
  {
   "cell_type": "markdown",
   "id": "7a867140",
   "metadata": {},
   "source": [
    "7) How do you obtain a list of Paragraph objects for a Document object that’s stored in a variable\n",
    "named doc?\n",
    "\n",
    "--> import docx\n",
    "\n",
    "def getText(filename):\n",
    "    doc = docx.Document(filename)\n",
    "    fullText = []\n",
    "    for para in doc.paragraphs:\n",
    "        fullText.append(para.text)\n",
    "    return '\\n'.join(fullText)"
   ]
  },
  {
   "cell_type": "markdown",
   "id": "21eb2047",
   "metadata": {},
   "source": [
    "8) What type of object has bold, underline, italic, strike, and outline variables?\n",
    "\n",
    "--> Run Object"
   ]
  },
  {
   "cell_type": "markdown",
   "id": "d2ba5a9f",
   "metadata": {},
   "source": [
    "9) What is the difference between False, True, and None for the bold variable?\n",
    "\n",
    "-->  True (the attribute is always enabled, no matter what other styles are applied to the run), False (the attribute is always disabled), or None (defaults to whatever the run’s style is set to)."
   ]
  },
  {
   "cell_type": "markdown",
   "id": "a510769f",
   "metadata": {},
   "source": [
    "10) How do you create a Document object for a new Word document?\n",
    "\n",
    "--> docx.Document() "
   ]
  },
  {
   "cell_type": "markdown",
   "id": "e752ecda",
   "metadata": {},
   "source": [
    "11) How do you add a paragraph with the text &#39;Hello, there!&#39; to a Document object stored in a\n",
    "variable named doc?\n",
    "\n",
    "--> import docx\n",
    "    doc = docx.Document()\n",
    "    doc.add_paragraph('Hello world!')"
   ]
  },
  {
   "cell_type": "markdown",
   "id": "361f42aa",
   "metadata": {},
   "source": [
    "12) What integers represent the levels of headings available in Word documents?\n",
    "\n",
    "--> Integers 1 to 4 are for various heading levels"
   ]
  },
  {
   "cell_type": "markdown",
   "id": "d3a76052",
   "metadata": {},
   "source": []
  },
  {
   "cell_type": "markdown",
   "id": "0f3625de",
   "metadata": {},
   "source": [
    "# PART-13"
   ]
  },
  {
   "cell_type": "markdown",
   "id": "71967b0f",
   "metadata": {},
   "source": [
    "1) What advantages do Excel spreadsheets have over CSV spreadsheets?\n",
    "\n",
    "--> Reading large data set is much easier for the end-user to read, comprehend and understand when compared to CSV."
   ]
  },
  {
   "cell_type": "markdown",
   "id": "be46d196",
   "metadata": {},
   "source": [
    "2) What do you pass to csv.reader() and csv.writer() to create reader and writer objects?\n",
    "\n",
    "--> File name"
   ]
  },
  {
   "cell_type": "markdown",
   "id": "ed49412e",
   "metadata": {},
   "source": [
    "3) What modes do File objects for reader and writer objects need to be opened in?\n",
    "\n",
    "--> open() function "
   ]
  },
  {
   "cell_type": "markdown",
   "id": "bcdb1c20",
   "metadata": {},
   "source": [
    "4) What method takes a list argument and writes it to a CSV file?\n",
    "\n",
    "--> csv. writer writerow"
   ]
  },
  {
   "cell_type": "markdown",
   "id": "c0e3de92",
   "metadata": {},
   "source": [
    "5) What do the keyword arguments delimiter and line terminator do?\n",
    "\n",
    "---> The delimiter is the character that appears between cells on a row. By default, the delimiter for a CSV file is a comma.\n",
    "The line terminator is the character that comes at the end of a row. By default, the line terminator is a newline"
   ]
  },
  {
   "cell_type": "markdown",
   "id": "2dad5a4d",
   "metadata": {},
   "source": [
    "6) What function takes a string of JSON data and returns a Python data structure?\n",
    "\n",
    "---> loads() method return Python data structure of JSON string or data"
   ]
  },
  {
   "cell_type": "markdown",
   "id": "a3cfc9a9",
   "metadata": {},
   "source": [
    "7) What function takes a Python data structure and returns a string of JSON data?\n",
    "\n",
    "---> dumps()"
   ]
  },
  {
   "cell_type": "markdown",
   "id": "ed46d7a3",
   "metadata": {},
   "source": []
  },
  {
   "cell_type": "markdown",
   "id": "5fb674f4",
   "metadata": {},
   "source": [
    "# Part - 14"
   ]
  },
  {
   "cell_type": "markdown",
   "id": "c2bc7c0a",
   "metadata": {},
   "source": [
    "1) What does RGBA stand for?\n",
    "\n",
    "---> RGBA(Red-Green-Blue-Alpha) "
   ]
  },
  {
   "cell_type": "markdown",
   "id": "62e6835c",
   "metadata": {},
   "source": [
    "2) From the Pillow module, how do you get the RGBA value of any images?\n",
    "\n",
    "---> Image.getbands()"
   ]
  },
  {
   "cell_type": "markdown",
   "id": "8f933340",
   "metadata": {},
   "source": [
    "3) What is a box tuple, and how does it work?\n",
    "\n",
    "---> box tuple argument in Pillow is expecting a tuple of four integer coordinates that represent a rectangular region in an image"
   ]
  },
  {
   "cell_type": "markdown",
   "id": "35d3f5b6",
   "metadata": {},
   "source": [
    "4) Use your image and load in notebook then, How can you find out the width and height of an\n",
    "Image object?\n",
    "\n",
    "---> PIL.Image.open() is used to open the image and then .width and .height property of Image are used to get the height and width of the image."
   ]
  },
  {
   "cell_type": "markdown",
   "id": "7cf62497",
   "metadata": {},
   "source": [
    "5) What method would you call to get Image object for a 100×100 image, excluding the lower-left\n",
    "quarter of it?\n",
    "\n",
    "---> Im = Image.new('RGBA', (100, 100))\n",
    "croppedIm = Im.crop((335, 345, 565, 560))"
   ]
  },
  {
   "cell_type": "markdown",
   "id": "5ee1191a",
   "metadata": {},
   "source": [
    "6) After making changes to an Image object, how could you save it as an image file?\n",
    "\n",
    "--> image.save(fp, format=None, **params) "
   ]
  },
  {
   "cell_type": "markdown",
   "id": "1616f8cb",
   "metadata": {},
   "source": [
    "7) What module contains Pillow’s shape-drawing code?\n",
    "\n",
    "---> ImageDraw"
   ]
  },
  {
   "cell_type": "markdown",
   "id": "9dd1e430",
   "metadata": {},
   "source": [
    "8) Image objects do not have drawing methods. What kind of object does? How do you get this kind\n",
    "of object?\n",
    "\n",
    "---> \n",
    "im = Image.new('RGBA', (200, 200), 'white')\n",
    "ImageDraw.Draw(im)"
   ]
  },
  {
   "cell_type": "markdown",
   "id": "ca2c48ff",
   "metadata": {},
   "source": []
  },
  {
   "cell_type": "markdown",
   "id": "1acaba90",
   "metadata": {},
   "source": [
    "# Part 15"
   ]
  },
  {
   "cell_type": "markdown",
   "id": "b524f47d",
   "metadata": {},
   "source": [
    "1) How many seconds are in an hour? Use the interactive interpreter as a calculator and multiply the\n",
    "number of seconds in a minute (60) by the number of minutes in an hour (also 60).\n",
    "\n",
    "---> 60*60 = 3600"
   ]
  },
  {
   "cell_type": "markdown",
   "id": "04c505cd",
   "metadata": {},
   "source": [
    "2) Assign the result from the previous task (seconds in an hour) to a variable called\n",
    "seconds_per_hour.\n",
    "\n",
    "---> seconds_per_hour = 3600"
   ]
  },
  {
   "cell_type": "markdown",
   "id": "15b418de",
   "metadata": {},
   "source": [
    "3) How many seconds do you think there are in a day? Make use of the variables seconds per hour\n",
    "and minutes per hour.\n",
    "\n",
    "---> seconds_per_hour*24 = 86400"
   ]
  },
  {
   "cell_type": "markdown",
   "id": "a6821bf4",
   "metadata": {},
   "source": [
    "4) Calculate seconds per day again, but this time save the result in a variable called seconds_per_day\n",
    "\n",
    "--> seconds_per_day=seconds_per_hour*24 "
   ]
  },
  {
   "cell_type": "markdown",
   "id": "925cb30d",
   "metadata": {},
   "source": [
    "5) Divide seconds_per_day by seconds_per_hour. Use floating-point (/) division.\n",
    "\n",
    "--> seconds_per_day/seconds_per_hour = 24.0"
   ]
  },
  {
   "cell_type": "markdown",
   "id": "6575e67e",
   "metadata": {},
   "source": [
    "6) Divide seconds_per_day by seconds_per_hour, using integer (//) division. Did this number agree\n",
    "with the floating-point value from the previous question, aside from the final .0?\n",
    "\n",
    "--> seconds_per_day//seconds_per_hour = 24"
   ]
  },
  {
   "cell_type": "markdown",
   "id": "d2c71bcb",
   "metadata": {},
   "source": [
    "7) Write a generator, genPrimes, that returns the sequence of prime numbers on successive calls to\n",
    "its next() method: 2, 3, 5, 7, 11,..\n",
    "    \n",
    "---> def genPrimes():\n",
    "    primes = [2]\n",
    "    yield primes[0]\n",
    "    guess = 3\n",
    "    while True:\n",
    "        if all(guess%x != 0 for x in primes):\n",
    "            primes.append(guess)        \n",
    "        if guess == primes[-1]:\n",
    "            yield primes[-1]\n",
    "        guess += 2"
   ]
  },
  {
   "cell_type": "markdown",
   "id": "8199c1dc",
   "metadata": {},
   "source": []
  },
  {
   "cell_type": "markdown",
   "id": "15d86cbe",
   "metadata": {},
   "source": [
    "# Part 16"
   ]
  },
  {
   "cell_type": "markdown",
   "id": "fde37d72",
   "metadata": {},
   "source": [
    "1) Create a list called years_list, starting with the year of your birth, and each year thereafter until\n",
    "the year of your fifth birthday. For example, if you were born in 1980. the list would be years_list =\n",
    "[1980, 1981, 1982, 1983, 1984, 1985].\n",
    "\n",
    "--> years_list =['1994','1995','1996','1997','1998']"
   ]
  },
  {
   "cell_type": "markdown",
   "id": "32c73d18",
   "metadata": {},
   "source": [
    "2. In which year in years_list was your third birthday? Remember, you were 0 years of age for your\n",
    "first year.\n",
    "\n",
    "---> years_list[2] = '1996'"
   ]
  },
  {
   "cell_type": "markdown",
   "id": "d0a43762",
   "metadata": {},
   "source": [
    "3.In the years list, which year were you the oldest?\n",
    "\n",
    "---> years_list[-1]='1998'"
   ]
  },
  {
   "cell_type": "markdown",
   "id": "ef0b6581",
   "metadata": {},
   "source": [
    "4. Make a list called things with these three strings as elements: 'mozzarella', 'cinderella',\n",
    "'salmonella'.\n",
    "\n",
    "---> things=['mozzarella','cinderella','salmonella']"
   ]
  },
  {
   "cell_type": "markdown",
   "id": "7c8b7c39",
   "metadata": {},
   "source": [
    "5) Capitalize the element in things that refers to a person and then print the list. Did it change the\n",
    "element in the list?\n",
    "\n",
    "    --->  things[1].capitalize()"
   ]
  },
  {
   "cell_type": "markdown",
   "id": "e80a1e6f",
   "metadata": {},
   "source": [
    "6) Make a surprise list with the elements 'Groucho', 'Chico', and 'Harpo'\n",
    "\n",
    "---> surprise=['Groucho','Chico','Harpo']"
   ]
  },
  {
   "cell_type": "markdown",
   "id": "f033f708",
   "metadata": {},
   "source": [
    "7) Lowercase the last element of the surprise list, reverse it, and then capitalize it.\n",
    "\n",
    "---> surprise[-1].lower()[::-1].capitalize()"
   ]
  },
  {
   "cell_type": "markdown",
   "id": "66076cb6",
   "metadata": {},
   "source": [
    "8) Make an English-to-French dictionary called e2f and print it. Here are your starter words: dog is\n",
    "chien, cat is chat, and walrus is morse.\n",
    "\n",
    "---> e2f={'dog':'chien','cat':'chat','walrus':'morse'}"
   ]
  },
  {
   "cell_type": "markdown",
   "id": "38214562",
   "metadata": {},
   "source": [
    "9) Write the French word for walrus in your three-word dictionary e2f.\n",
    "\n",
    "---> e2f['walrus']='morse'"
   ]
  },
  {
   "cell_type": "markdown",
   "id": "d5dabb62",
   "metadata": {},
   "source": [
    "10) Make a French-to-English dictionary called f2e from e2f. Use the items method.\n",
    "\n",
    "---> \n",
    "e2f = {'dog': 'chien', 'cat': 'chat', 'walrus': 'morse'}\n",
    "f2e = {}\n",
    "for english, french in e2f.items():\n",
    "    f2e[french] = english"
   ]
  },
  {
   "cell_type": "markdown",
   "id": "9bbd39d4",
   "metadata": {},
   "source": [
    "11. Print the English version of the French word chien using f2e.\n",
    "\n",
    "---> f2e['chien']='dog'"
   ]
  },
  {
   "cell_type": "markdown",
   "id": "9987d9f7",
   "metadata": {},
   "source": [
    "12) Make and print a set of English words from the keys in e2f.\n",
    "\n",
    "---> \n",
    "e2f = {'dog': 'chien', 'cat': 'chat', 'walrus': 'morse'}\n",
    "A=set()\n",
    "\n",
    "for english in e2f.keys():\n",
    "    A.add(english)\n",
    "A"
   ]
  },
  {
   "cell_type": "markdown",
   "id": "fefc3dc3",
   "metadata": {},
   "source": [
    "13. Make a multilevel dictionary called life. Use these strings for the topmost keys: 'animals', 'plants',\n",
    "and 'other'. Make the 'animals' key refer to another dictionary with the keys 'cats', 'octopi', and\n",
    "'emus'. Make the 'cats' key refer to a list of strings with the values 'Henri', 'Grumpy', and 'Lucy'.\n",
    "Make all the other keys refer to empty dictionaries.\n",
    "\n",
    "\n",
    "---> \n",
    "    life={\n",
    "           'animals':{'cats':{'Henri', 'Grumpy','Lucy'},\n",
    "                      'octopi':{},\n",
    "                      'emus':{}\n",
    "                      },\n",
    "           'plants':{},\n",
    "           'other':{}\n",
    "          }"
   ]
  },
  {
   "cell_type": "markdown",
   "id": "b9d3fbfc",
   "metadata": {},
   "source": [
    "14) Print the top-level keys of life.\n",
    "\n",
    "---> life.keys()= {'animals', 'plants','other'}"
   ]
  },
  {
   "cell_type": "markdown",
   "id": "335f6f4e",
   "metadata": {},
   "source": [
    "15) Print the keys for life['animals'].\n",
    "\n",
    "--> life['animals'].keys() = {'cats','octopi','emus'}"
   ]
  },
  {
   "cell_type": "markdown",
   "id": "74a6d57d",
   "metadata": {},
   "source": [
    "16) Print the values for life['animals']['cats']\n",
    "\n",
    "--->  life['animals']['cats'].values()"
   ]
  },
  {
   "cell_type": "markdown",
   "id": "2b4ea359",
   "metadata": {},
   "source": []
  },
  {
   "cell_type": "markdown",
   "id": "6a37ca4b",
   "metadata": {},
   "source": []
  },
  {
   "cell_type": "code",
   "execution_count": null,
   "id": "5809a693",
   "metadata": {},
   "outputs": [],
   "source": []
  }
 ],
 "metadata": {
  "kernelspec": {
   "display_name": "Python 3",
   "language": "python",
   "name": "python3"
  },
  "language_info": {
   "codemirror_mode": {
    "name": "ipython",
    "version": 3
   },
   "file_extension": ".py",
   "mimetype": "text/x-python",
   "name": "python",
   "nbconvert_exporter": "python",
   "pygments_lexer": "ipython3",
   "version": "3.8.8"
  },
  "widgets": {
   "application/vnd.jupyter.widget-state+json": {
    "state": {},
    "version_major": 2,
    "version_minor": 0
   }
  }
 },
 "nbformat": 4,
 "nbformat_minor": 5
}
