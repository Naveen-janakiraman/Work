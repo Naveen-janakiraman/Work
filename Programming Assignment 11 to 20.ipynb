{
 "cells": [
  {
   "cell_type": "markdown",
   "id": "6fc2b861",
   "metadata": {},
   "source": [
    "# Part- 11"
   ]
  },
  {
   "cell_type": "markdown",
   "id": "8ff209bc",
   "metadata": {},
   "source": [
    "1) Write a Python program to find words which are greater than given length k?\n",
    "\n",
    "--->\n",
    "def string_k(k, str):\n",
    "\n",
    "    string = []\n",
    "    text = str.split(\" \")\n",
    "     \n",
    "    for x in text:\n",
    "         \n",
    "        if len(x) > k:\n",
    "            string.append(x)\n",
    "    return string\n",
    " \n",
    "k = 3\n",
    "str =\"geek for geeks\"\n",
    "print(string_k(k, str))"
   ]
  },
  {
   "cell_type": "markdown",
   "id": "1a20284e",
   "metadata": {},
   "source": [
    "2) Write a Python program for removing i-th character from a string?\n",
    "\n",
    "---> \n",
    "def remove(string, i): \n",
    "  \n",
    "    for j in range(len(string)):\n",
    "        if j == i:\n",
    "            string = string.replace(string[i], \"\", 1)\n",
    "    return string\n",
    "      \n",
    "if __name__ == '__main__':\n",
    "      \n",
    "    string = \"geeksFORgeeks\"\n",
    "    i = 5\n",
    "    \n",
    "    # Print the new string\n",
    "    print(remove(string, i))"
   ]
  },
  {
   "cell_type": "markdown",
   "id": "3a025c08",
   "metadata": {},
   "source": [
    "3) Write a Python program to split and join a string?\n",
    "\n",
    "--> \n",
    "def split_string(string):\n",
    "  \n",
    "    list_string = string.split(' ')\n",
    "      \n",
    "    return list_string\n",
    "  \n",
    "def join_string(list_string):\n",
    "  \n",
    "    string = '-'.join(list_string)\n",
    "      \n",
    "    return string\n",
    "\n",
    "if __name__ == '__main__':\n",
    "    string = 'Geeks for Geeks'\n",
    "      \n",
    "    list_string = split_string(string)\n",
    "    print(list_string)\n",
    "\n",
    "    new_string = join_string(list_string)\n",
    "    print(new_string)"
   ]
  },
  {
   "cell_type": "markdown",
   "id": "1f420caf",
   "metadata": {},
   "source": [
    "4) Write a Python to check if a given string is binary string or not?\n",
    "\n",
    "-->\n",
    "def check(string) :\n",
    "\n",
    "    p = set(string)\n",
    "    s = {'0', '1'}\n",
    " \n",
    "    if s == p or p == {'0'} or p == {'1'}:\n",
    "        print(\"Yes\")\n",
    "    else :\n",
    "        print(\"No\")\n",
    " \n",
    "if __name__ == \"__main__\" :\n",
    " \n",
    "    string = \"101010000111\"\n",
    "    check(string)"
   ]
  },
  {
   "cell_type": "markdown",
   "id": "9f24d7c3",
   "metadata": {},
   "source": [
    "5) Write a Python program to find uncommon words from two Strings?\n",
    "\n",
    "-->\n",
    "def UncommonWords(A, B):\n",
    "  \n",
    "\n",
    "    count = {}\n",
    "      \n",
    "    for word in A.split():\n",
    "        count[word] = count.get(word, 0) + 1\n",
    "      \n",
    "    for word in B.split():\n",
    "        count[word] = count.get(word, 0) + 1\n",
    "\n",
    "    return [word for word in count if count[word] == 1]\n",
    "\n",
    "A = \"Geeks for Geeks\"\n",
    "B = \"Learning from Geeks for Geeks\"\n",
    "\n",
    "print(UncommonWords(A, B))"
   ]
  },
  {
   "cell_type": "markdown",
   "id": "19ec4bfa",
   "metadata": {},
   "source": [
    "6) Write a Python to find all duplicate characters in string?\n",
    "\n",
    "---> \n",
    "string = \"tutorialspoint\"\n",
    "\n",
    "duplicates = []\n",
    "for char in string:\n",
    "   if string.count(char) > 1:\n",
    "   if char not in duplicates:\n",
    "   duplicates.append(char)\n",
    "print(*duplicates)"
   ]
  },
  {
   "cell_type": "markdown",
   "id": "c576964a",
   "metadata": {},
   "source": [
    "7) Write a Python Program to check if a string contains any special character?\n",
    "\n",
    "-->\n",
    "import re\n",
    " \n",
    "def run(string):\n",
    "\n",
    "    regex = re.compile('[@_!#$%^&*()<>?/\\|}{~:]')\n",
    "\n",
    "    if(regex.search(string) == None):\n",
    "        print(\"String is accepted\")\n",
    "         \n",
    "    else:\n",
    "        print(\"String is not accepted.\")\n",
    "     \n",
    "\n",
    "if __name__ == '__main__' :\n",
    "\n",
    "    string = \"Geeks$For$Geeks\"\n",
    "     \n",
    "\n",
    "    run(string)"
   ]
  },
  {
   "cell_type": "markdown",
   "id": "ce854cfa",
   "metadata": {},
   "source": []
  },
  {
   "cell_type": "markdown",
   "id": "75ec467e",
   "metadata": {},
   "source": [
    "# Part-12"
   ]
  },
  {
   "cell_type": "markdown",
   "id": "d50f5464",
   "metadata": {},
   "source": [
    "1) Write a Python program to Extract Unique values dictionary values?\n",
    "\n",
    "-->\n",
    "test_dict = {'gfg' : [5, 6, 7, 8],\n",
    "             'is' : [10, 11, 7, 5],\n",
    "             'best' : [6, 12, 10, 8],\n",
    "             'for' : [1, 2, 5]}\n",
    "\n",
    "print(\"The original dictionary is : \" + str(test_dict))\n",
    "\n",
    "res = list(sorted({ele for val in test_dict.values() for ele in val}))\n",
    "print(\"The unique values list is : \" + str(res)) "
   ]
  },
  {
   "cell_type": "markdown",
   "id": "caa4d2be",
   "metadata": {},
   "source": [
    "2) Write a Python program to find the sum of all items in a dictionary?\n",
    "\n",
    "-->\n",
    "def returnSum(myDict):\n",
    "     \n",
    "    list = []\n",
    "    for i in myDict:\n",
    "        list.append(myDict[i])\n",
    "    final = sum(list)\n",
    "     \n",
    "    return final\n",
    "\n",
    "dict = {'a': 100, 'b':200, 'c':300}\n",
    "print(\"Sum :\", returnSum(dict))"
   ]
  },
  {
   "cell_type": "markdown",
   "id": "1c7bfb0b",
   "metadata": {},
   "source": [
    "3) Write a Python program to Merging two Dictionaries?\n",
    "--->\n",
    "def Merge(dict1, dict2):\n",
    "    return(dict2.update(dict1))\n",
    "     \n",
    "\n",
    "dict1 = {'a': 10, 'b': 8}\n",
    "dict2 = {'d': 6, 'c': 4}\n",
    "\n",
    "print(Merge(dict1, dict2))\n",
    " \n",
    "print(dict2)"
   ]
  },
  {
   "cell_type": "markdown",
   "id": "a4f83974",
   "metadata": {},
   "source": [
    "4) Write a Python program to convert key-values list to flat dictionary?\n",
    "\n",
    "--> \n",
    "from itertools import product\n",
    "\n",
    "test_dict = {'month' : [1, 2, 3],\n",
    "             'name' : ['Jan', 'Feb', 'March']}\n",
    "  \n",
    "print(\"The original dictionary is : \" + str(test_dict))\n",
    "  \n",
    "res = dict(zip(test_dict['month'], test_dict['name']))\n",
    "  \n",
    "print(\"Flattened dictionary : \" + str(res)) "
   ]
  },
  {
   "cell_type": "markdown",
   "id": "ba86402d",
   "metadata": {},
   "source": [
    "5) Write a Python program to insertion at the beginning in OrderedDict?\n",
    "--->\n",
    "from collections import OrderedDict\n",
    "\n",
    "iniordered_dict = OrderedDict([('akshat', '1'), ('nikhil', '2')])\n",
    "\n",
    "iniordered_dict.update({'manjeet':'3'})\n",
    "iniordered_dict.move_to_end('manjeet', last = False)\n",
    " \n",
    "print (\"Resultant Dictionary : \"+str(iniordered_dict))"
   ]
  },
  {
   "cell_type": "markdown",
   "id": "e14b1d1b",
   "metadata": {},
   "source": [
    "6) Write a Python program to check order of character in string using OrderedDict()?\n",
    "-->\n",
    "from collections import OrderedDict\n",
    "def check_order(my_input, my_pattern):\n",
    "   my_dict = OrderedDict.fromkeys(my_input)\n",
    "   pattern_length = 0\n",
    "   for key,value in my_dict.items():\n",
    "      if (key == my_pattern[pattern_length]):\n",
    "         pattern_length = pattern_length + 1\n",
    "\n",
    "      if (pattern_length == (len(my_pattern))):\n",
    "         return 'The order of pattern is correct'\n",
    "\n",
    "   return 'The order of pattern is incorrect'\n",
    "\n",
    "my_input = 'Hi Mark'\n",
    "input_pattern = 'Ma'\n",
    "print(\"The string is \")\n",
    "print(my_input)\n",
    "print(\"The input pattern is \")\n",
    "print(input_pattern)\n",
    "print(check_order(my_input,input_pattern))"
   ]
  },
  {
   "cell_type": "markdown",
   "id": "e80d3070",
   "metadata": {},
   "source": [
    "7) Write a Python program to sort Python Dictionaries by Key or Value?\n",
    "-->\n",
    "def dictionairy():\n",
    "   \n",
    " key_value ={}   \n",
    "\n",
    " key_value[2] = 56      \n",
    " key_value[1] = 2\n",
    " key_value[5] = 12\n",
    " key_value[4] = 24\n",
    " key_value[6] = 18     \n",
    " key_value[3] = 323\n",
    " \n",
    " print (\"Task 1:-\\n\")\n",
    " print (\"Keys are\")\n",
    "\n",
    " for i in sorted (key_value.keys()) :\n",
    "     print(i, end = \" \")\n",
    " \n",
    "def main():\n",
    "    # function calling\n",
    "    dictionairy()            \n",
    "\n",
    "if __name__==\"__main__\":     \n",
    "    main()"
   ]
  },
  {
   "cell_type": "markdown",
   "id": "120ba3f4",
   "metadata": {},
   "source": []
  },
  {
   "cell_type": "markdown",
   "id": "f06a97c8",
   "metadata": {},
   "source": []
  },
  {
   "cell_type": "markdown",
   "id": "a7c762d9",
   "metadata": {},
   "source": []
  },
  {
   "cell_type": "markdown",
   "id": "49e8ac49",
   "metadata": {},
   "source": []
  },
  {
   "cell_type": "markdown",
   "id": "c9e03570",
   "metadata": {},
   "source": []
  },
  {
   "cell_type": "markdown",
   "id": "3eda3b0a",
   "metadata": {},
   "source": []
  },
  {
   "cell_type": "markdown",
   "id": "4d3c8467",
   "metadata": {},
   "source": []
  },
  {
   "cell_type": "markdown",
   "id": "af318917",
   "metadata": {},
   "source": []
  },
  {
   "cell_type": "markdown",
   "id": "082d6551",
   "metadata": {},
   "source": []
  },
  {
   "cell_type": "markdown",
   "id": "87ab554c",
   "metadata": {},
   "source": []
  },
  {
   "cell_type": "markdown",
   "id": "20982282",
   "metadata": {},
   "source": []
  },
  {
   "cell_type": "markdown",
   "id": "d83d117a",
   "metadata": {},
   "source": []
  },
  {
   "cell_type": "markdown",
   "id": "e5cd75ed",
   "metadata": {},
   "source": []
  },
  {
   "cell_type": "markdown",
   "id": "e6e5b791",
   "metadata": {},
   "source": []
  },
  {
   "cell_type": "markdown",
   "id": "2290550a",
   "metadata": {},
   "source": []
  },
  {
   "cell_type": "markdown",
   "id": "7e2f9e4f",
   "metadata": {},
   "source": []
  },
  {
   "cell_type": "markdown",
   "id": "c8b19d02",
   "metadata": {},
   "source": []
  },
  {
   "cell_type": "markdown",
   "id": "8aa283cc",
   "metadata": {},
   "source": []
  },
  {
   "cell_type": "markdown",
   "id": "5f04f29b",
   "metadata": {},
   "source": []
  },
  {
   "cell_type": "markdown",
   "id": "3e88d2f9",
   "metadata": {},
   "source": []
  },
  {
   "cell_type": "markdown",
   "id": "1a43913d",
   "metadata": {},
   "source": []
  },
  {
   "cell_type": "markdown",
   "id": "cab15f49",
   "metadata": {},
   "source": []
  },
  {
   "cell_type": "markdown",
   "id": "c30703b1",
   "metadata": {},
   "source": []
  },
  {
   "cell_type": "markdown",
   "id": "38583d53",
   "metadata": {},
   "source": []
  },
  {
   "cell_type": "markdown",
   "id": "2a49f588",
   "metadata": {},
   "source": []
  },
  {
   "cell_type": "markdown",
   "id": "42b9aa53",
   "metadata": {},
   "source": []
  },
  {
   "cell_type": "markdown",
   "id": "e7137b01",
   "metadata": {},
   "source": []
  },
  {
   "cell_type": "markdown",
   "id": "2d336704",
   "metadata": {},
   "source": []
  },
  {
   "cell_type": "markdown",
   "id": "8746f073",
   "metadata": {},
   "source": []
  },
  {
   "cell_type": "markdown",
   "id": "f63792f4",
   "metadata": {},
   "source": []
  },
  {
   "cell_type": "markdown",
   "id": "a8d01bdf",
   "metadata": {},
   "source": []
  },
  {
   "cell_type": "markdown",
   "id": "b3640caa",
   "metadata": {},
   "source": []
  },
  {
   "cell_type": "markdown",
   "id": "5f2f9337",
   "metadata": {},
   "source": []
  },
  {
   "cell_type": "markdown",
   "id": "4bc7ecab",
   "metadata": {},
   "source": []
  },
  {
   "cell_type": "markdown",
   "id": "0289e20d",
   "metadata": {},
   "source": []
  },
  {
   "cell_type": "markdown",
   "id": "ea6c6d40",
   "metadata": {},
   "source": []
  },
  {
   "cell_type": "markdown",
   "id": "e4a0d317",
   "metadata": {},
   "source": []
  },
  {
   "cell_type": "markdown",
   "id": "cd59d772",
   "metadata": {},
   "source": []
  },
  {
   "cell_type": "markdown",
   "id": "6ba6675b",
   "metadata": {},
   "source": []
  }
 ],
 "metadata": {
  "kernelspec": {
   "display_name": "Python 3",
   "language": "python",
   "name": "python3"
  },
  "language_info": {
   "codemirror_mode": {
    "name": "ipython",
    "version": 3
   },
   "file_extension": ".py",
   "mimetype": "text/x-python",
   "name": "python",
   "nbconvert_exporter": "python",
   "pygments_lexer": "ipython3",
   "version": "3.8.8"
  }
 },
 "nbformat": 4,
 "nbformat_minor": 5
}
