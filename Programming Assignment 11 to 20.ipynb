{
 "cells": [
  {
   "cell_type": "markdown",
   "id": "1643a061",
   "metadata": {},
   "source": [
    "# Part- 11"
   ]
  },
  {
   "cell_type": "markdown",
   "id": "bc33f51f",
   "metadata": {},
   "source": [
    "1) Write a Python program to find words which are greater than given length k?\n",
    "\n",
    "--->\n",
    "def string_k(k, str):\n",
    "\n",
    "    string = []\n",
    "    text = str.split(\" \")\n",
    "     \n",
    "    for x in text:\n",
    "         \n",
    "        if len(x) > k:\n",
    "            string.append(x)\n",
    "    return string\n",
    " \n",
    "k = 3\n",
    "str =\"geek for geeks\"\n",
    "print(string_k(k, str))"
   ]
  },
  {
   "cell_type": "markdown",
   "id": "0d2ead19",
   "metadata": {},
   "source": [
    "2) Write a Python program for removing i-th character from a string?\n",
    "\n",
    "---> \n",
    "def remove(string, i): \n",
    "  \n",
    "    for j in range(len(string)):\n",
    "        if j == i:\n",
    "            string = string.replace(string[i], \"\", 1)\n",
    "    return string\n",
    "      \n",
    "if __name__ == '__main__':\n",
    "      \n",
    "    string = \"geeksFORgeeks\"\n",
    "    i = 5\n",
    "    \n",
    "    # Print the new string\n",
    "    print(remove(string, i))"
   ]
  },
  {
   "cell_type": "markdown",
   "id": "80d09814",
   "metadata": {},
   "source": [
    "3) Write a Python program to split and join a string?\n",
    "\n",
    "--> \n",
    "def split_string(string):\n",
    "  \n",
    "    list_string = string.split(' ')\n",
    "      \n",
    "    return list_string\n",
    "  \n",
    "def join_string(list_string):\n",
    "  \n",
    "    string = '-'.join(list_string)\n",
    "      \n",
    "    return string\n",
    "\n",
    "if __name__ == '__main__':\n",
    "    string = 'Geeks for Geeks'\n",
    "      \n",
    "    list_string = split_string(string)\n",
    "    print(list_string)\n",
    "\n",
    "    new_string = join_string(list_string)\n",
    "    print(new_string)"
   ]
  },
  {
   "cell_type": "markdown",
   "id": "23bb3ac0",
   "metadata": {},
   "source": [
    "4) Write a Python to check if a given string is binary string or not?\n",
    "\n",
    "-->\n",
    "def check(string) :\n",
    "\n",
    "    p = set(string)\n",
    "    s = {'0', '1'}\n",
    " \n",
    "    if s == p or p == {'0'} or p == {'1'}:\n",
    "        print(\"Yes\")\n",
    "    else :\n",
    "        print(\"No\")\n",
    " \n",
    "if __name__ == \"__main__\" :\n",
    " \n",
    "    string = \"101010000111\"\n",
    "    check(string)"
   ]
  },
  {
   "cell_type": "markdown",
   "id": "6054db5f",
   "metadata": {},
   "source": [
    "5) Write a Python program to find uncommon words from two Strings?\n",
    "\n",
    "-->\n",
    "def UncommonWords(A, B):\n",
    "  \n",
    "\n",
    "    count = {}\n",
    "      \n",
    "    for word in A.split():\n",
    "        count[word] = count.get(word, 0) + 1\n",
    "      \n",
    "    for word in B.split():\n",
    "        count[word] = count.get(word, 0) + 1\n",
    "\n",
    "    return [word for word in count if count[word] == 1]\n",
    "\n",
    "A = \"Geeks for Geeks\"\n",
    "B = \"Learning from Geeks for Geeks\"\n",
    "\n",
    "print(UncommonWords(A, B))"
   ]
  },
  {
   "cell_type": "markdown",
   "id": "54368b80",
   "metadata": {},
   "source": [
    "6) Write a Python to find all duplicate characters in string?\n",
    "\n",
    "---> \n",
    "string = \"tutorialspoint\"\n",
    "\n",
    "duplicates = []\n",
    "for char in string:\n",
    "   if string.count(char) > 1:\n",
    "   if char not in duplicates:\n",
    "   duplicates.append(char)\n",
    "print(*duplicates)"
   ]
  },
  {
   "cell_type": "markdown",
   "id": "e46f3f09",
   "metadata": {},
   "source": [
    "7) Write a Python Program to check if a string contains any special character?\n",
    "\n",
    "-->\n",
    "import re\n",
    " \n",
    "def run(string):\n",
    "\n",
    "    regex = re.compile('[@_!#$%^&*()<>?/\\|}{~:]')\n",
    "\n",
    "    if(regex.search(string) == None):\n",
    "        print(\"String is accepted\")\n",
    "         \n",
    "    else:\n",
    "        print(\"String is not accepted.\")\n",
    "     \n",
    "\n",
    "if __name__ == '__main__' :\n",
    "\n",
    "    string = \"Geeks$For$Geeks\"\n",
    "     \n",
    "\n",
    "    run(string)"
   ]
  },
  {
   "cell_type": "markdown",
   "id": "c4a3f7ef",
   "metadata": {},
   "source": []
  },
  {
   "cell_type": "markdown",
   "id": "688bb30b",
   "metadata": {},
   "source": [
    "# Part-12"
   ]
  },
  {
   "cell_type": "markdown",
   "id": "91f49d32",
   "metadata": {},
   "source": []
  },
  {
   "cell_type": "markdown",
   "id": "fee05cc8",
   "metadata": {},
   "source": []
  },
  {
   "cell_type": "markdown",
   "id": "3ca79bb1",
   "metadata": {},
   "source": []
  },
  {
   "cell_type": "markdown",
   "id": "4784200f",
   "metadata": {},
   "source": []
  },
  {
   "cell_type": "markdown",
   "id": "4d615c6f",
   "metadata": {},
   "source": []
  },
  {
   "cell_type": "markdown",
   "id": "da61e466",
   "metadata": {},
   "source": []
  },
  {
   "cell_type": "markdown",
   "id": "6e637267",
   "metadata": {},
   "source": []
  },
  {
   "cell_type": "markdown",
   "id": "b0908c31",
   "metadata": {},
   "source": []
  },
  {
   "cell_type": "markdown",
   "id": "f94e16ec",
   "metadata": {},
   "source": []
  },
  {
   "cell_type": "markdown",
   "id": "cac83d6b",
   "metadata": {},
   "source": []
  },
  {
   "cell_type": "markdown",
   "id": "0a0a1d27",
   "metadata": {},
   "source": []
  },
  {
   "cell_type": "markdown",
   "id": "48729956",
   "metadata": {},
   "source": []
  },
  {
   "cell_type": "markdown",
   "id": "02dd084e",
   "metadata": {},
   "source": []
  },
  {
   "cell_type": "markdown",
   "id": "56a13497",
   "metadata": {},
   "source": []
  },
  {
   "cell_type": "markdown",
   "id": "02581572",
   "metadata": {},
   "source": []
  },
  {
   "cell_type": "markdown",
   "id": "507f619f",
   "metadata": {},
   "source": []
  },
  {
   "cell_type": "markdown",
   "id": "08c689dc",
   "metadata": {},
   "source": []
  },
  {
   "cell_type": "markdown",
   "id": "e2607f56",
   "metadata": {},
   "source": []
  },
  {
   "cell_type": "markdown",
   "id": "791ccfc4",
   "metadata": {},
   "source": []
  },
  {
   "cell_type": "markdown",
   "id": "5ab94f0d",
   "metadata": {},
   "source": []
  },
  {
   "cell_type": "markdown",
   "id": "f188326e",
   "metadata": {},
   "source": []
  },
  {
   "cell_type": "markdown",
   "id": "433bac85",
   "metadata": {},
   "source": []
  },
  {
   "cell_type": "markdown",
   "id": "9368e4c7",
   "metadata": {},
   "source": []
  },
  {
   "cell_type": "markdown",
   "id": "f04bb203",
   "metadata": {},
   "source": []
  },
  {
   "cell_type": "markdown",
   "id": "db381b1e",
   "metadata": {},
   "source": []
  },
  {
   "cell_type": "markdown",
   "id": "3a1fa5db",
   "metadata": {},
   "source": []
  },
  {
   "cell_type": "markdown",
   "id": "aba78e27",
   "metadata": {},
   "source": []
  },
  {
   "cell_type": "markdown",
   "id": "9256f125",
   "metadata": {},
   "source": []
  },
  {
   "cell_type": "markdown",
   "id": "697c2bce",
   "metadata": {},
   "source": []
  },
  {
   "cell_type": "markdown",
   "id": "b44a65a8",
   "metadata": {},
   "source": []
  },
  {
   "cell_type": "markdown",
   "id": "28eb5b15",
   "metadata": {},
   "source": []
  },
  {
   "cell_type": "markdown",
   "id": "65f3617e",
   "metadata": {},
   "source": []
  },
  {
   "cell_type": "markdown",
   "id": "8d60e8ed",
   "metadata": {},
   "source": []
  },
  {
   "cell_type": "markdown",
   "id": "a45ece51",
   "metadata": {},
   "source": []
  },
  {
   "cell_type": "markdown",
   "id": "2d8493b7",
   "metadata": {},
   "source": []
  },
  {
   "cell_type": "markdown",
   "id": "842c53a5",
   "metadata": {},
   "source": []
  },
  {
   "cell_type": "markdown",
   "id": "a65a704e",
   "metadata": {},
   "source": []
  },
  {
   "cell_type": "markdown",
   "id": "f4830e3d",
   "metadata": {},
   "source": []
  },
  {
   "cell_type": "markdown",
   "id": "fafaef49",
   "metadata": {},
   "source": []
  },
  {
   "cell_type": "markdown",
   "id": "62d53ca9",
   "metadata": {},
   "source": []
  },
  {
   "cell_type": "markdown",
   "id": "130f1f41",
   "metadata": {},
   "source": []
  },
  {
   "cell_type": "markdown",
   "id": "5c8eba14",
   "metadata": {},
   "source": []
  },
  {
   "cell_type": "markdown",
   "id": "8d7886b6",
   "metadata": {},
   "source": []
  },
  {
   "cell_type": "markdown",
   "id": "d8baf0ae",
   "metadata": {},
   "source": []
  },
  {
   "cell_type": "markdown",
   "id": "f3f144d0",
   "metadata": {},
   "source": []
  },
  {
   "cell_type": "markdown",
   "id": "5e48f57c",
   "metadata": {},
   "source": []
  }
 ],
 "metadata": {
  "kernelspec": {
   "display_name": "Python 3",
   "language": "python",
   "name": "python3"
  },
  "language_info": {
   "codemirror_mode": {
    "name": "ipython",
    "version": 3
   },
   "file_extension": ".py",
   "mimetype": "text/x-python",
   "name": "python",
   "nbconvert_exporter": "python",
   "pygments_lexer": "ipython3",
   "version": "3.8.8"
  }
 },
 "nbformat": 4,
 "nbformat_minor": 5
}
