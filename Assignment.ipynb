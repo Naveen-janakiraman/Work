{
 "cells": [
  {
   "cell_type": "markdown",
   "id": "c69cb892",
   "metadata": {},
   "source": [
    "##  1) In the below elements which of them are values or an expression? eg:- values can be\n",
    "## integer or string and expressions will be mathematical operators.\n",
    "\n",
    "#### ans -->  values=['hello',-87.8,6]\n",
    "####          expressions=[* , - , / , +]            "
   ]
  },
  {
   "cell_type": "markdown",
   "id": "090d26eb",
   "metadata": {},
   "source": [
    "## 2)  What is the difference between string and variable?\n",
    "\n",
    "#### ans--> A variable is basically the name of the location in the primary memory. A variable can store everything from strings to numbers. \n",
    "#### A string is the values inside the quotes assigned to a string."
   ]
  },
  {
   "cell_type": "markdown",
   "id": "bf92ea0d",
   "metadata": {},
   "source": [
    "## 3) Describe three different data types.\n",
    "\n",
    "#### \n",
    "\n",
    "#### A) Integer (int)\n",
    "\n",
    "####  It is the most common numeric data type used to store numbers without a fractional component (-707, 0, 707).\n",
    "\n",
    "#### # b) Floating Point (float)\n",
    "\n",
    "#### It is also a numeric data type used to store numbers that may have a fractional component like monetary values do (707.07, 0.7, 707.00).\n",
    "\n",
    "\n",
    "#### # C) String (str or text)\n",
    "\n",
    "####  It is a sequence of characters and the most commonly used data type to store text. Additionally, a string can also include digits and symbols, however, it is always treated as text.\n",
    "\n",
    "#### # D) Boolean (bool)\n",
    "\n",
    "#### It represents the values true and false. When working with the boolean data type, it is helpful to keep in mind that sometimes a boolean value is also represented as 0 (for false) and 1 (for true)."
   ]
  },
  {
   "cell_type": "markdown",
   "id": "99c2fed6",
   "metadata": {},
   "source": [
    "## 4) What is an expression made up of? What do all expressions do?\n",
    "\n",
    "####  An expression is a combination of operators, constants and variables. \n",
    "#### An expression may consist of one or more operands, and zero or more operators to produce a value"
   ]
  },
  {
   "cell_type": "markdown",
   "id": "7d8ef2a1",
   "metadata": {},
   "source": [
    "## 5) This assignment statements, like spam = 10. What is the difference between an\n",
    "## expression and a statement?\n",
    "\n",
    "#### Statements represent an action or command e.g print statements, assignment statements.\n",
    "\n",
    "##### print 'hello', x = 1\n",
    "\n",
    "#### Expression is a combination of variables, operations and values that yields a result value.\n",
    "\n",
    "##### 5 * 5 # yields 25\n"
   ]
  },
  {
   "cell_type": "markdown",
   "id": "7efba51d",
   "metadata": {},
   "source": [
    "## 6) After running the following code, what does the variable bacon contain?\n",
    "\n",
    "####     bacon=22\n",
    "####     bacon+1\n",
    "    \n",
    "####    ans: --> bacon=23\n"
   ]
  },
  {
   "cell_type": "markdown",
   "id": "e287175b",
   "metadata": {},
   "source": [
    "## 7) What should the values of the following two terms be?\n",
    "\n",
    "####  'spam' + 'spamspam'\n",
    "\n",
    "#### 'spam' * 3\n",
    "\n",
    "#### ---> 'spamspamspam'"
   ]
  },
  {
   "cell_type": "markdown",
   "id": "919b5056",
   "metadata": {},
   "source": [
    "## 8) Why is eggs a valid variable name while 100 is invalid? Variable names cannot begin with a number.\n",
    "\n",
    "#### Variable names cannot begin with a number."
   ]
  },
  {
   "cell_type": "markdown",
   "id": "89e08d3b",
   "metadata": {},
   "source": [
    "## 9) What three functions can be used to get the integer, floating-point number, or string\n",
    "##  version of a value?\n",
    "\n",
    "#### int() , float() , and str( )"
   ]
  },
  {
   "cell_type": "markdown",
   "id": "a6248090",
   "metadata": {},
   "source": [
    "## 10) Why does this expression cause an error? How can you fix it?\n",
    "\n",
    "### 'I have eaten' '+ 99  'burritos'\n",
    "\n",
    "#### ' I have eaten ' + str(99) + ' burritos'"
   ]
  },
  {
   "cell_type": "markdown",
   "id": "60e9090a",
   "metadata": {},
   "source": [
    "# Part 2"
   ]
  },
  {
   "cell_type": "markdown",
   "id": "ed30e659",
   "metadata": {},
   "source": [
    "## 1)What are the two values of the Boolean data type? How do you write them?\n",
    "\n",
    "#### There are two Boolean (Links to an external site.) values: True and False. Values in Python can be compared using comparison operations, and \n",
    "####  Boolean logic can be formulated with the use of logic operations\n",
    "\n",
    "####    like > , < , <> , == ., etc"
   ]
  },
  {
   "cell_type": "markdown",
   "id": "43e034b4",
   "metadata": {},
   "source": [
    "##  2) What are the three different types of Boolean operators?\n",
    "\n",
    "#### AND, OR and NOT."
   ]
  },
  {
   "cell_type": "markdown",
   "id": "b47e4131",
   "metadata": {},
   "source": [
    "## 3) Make a list of each Boolean operator&#39;s truth tables (i.e. every possible combination of Boolean\n",
    "## values for the operator and what it evaluate )\n",
    "\n",
    "#### x=[False,False,True,True]\n",
    "#### y=[False,True,False,True]   \n",
    "\n",
    "#### x and y = [False,False,False,True]\n",
    "#### x or y = [False,True,True,True]"
   ]
  },
  {
   "cell_type": "markdown",
   "id": "5edae577",
   "metadata": {},
   "source": [
    "## 4) What are the values of the following expressions?\n",
    "\n",
    "#### (5 > 4) and (3 == 5) ---> False\n",
    "#### not (5 > 4) --- > False\n",
    "#### (5 > 4) or (3 == 5) ---> True\n",
    "#### not ((5 > 4) or (3 == 5)) ---> False\n",
    "#### (True and True) and (True == False) --->  False\n",
    "#### (not False) or (not True) ---> True"
   ]
  },
  {
   "cell_type": "markdown",
   "id": "00dfe1d9",
   "metadata": {},
   "source": [
    "## 5) What are the six comparison operators?\n",
    "\n",
    "#### = , <> , >= , <= , > , < "
   ]
  },
  {
   "cell_type": "markdown",
   "id": "dab49f17",
   "metadata": {},
   "source": [
    "## 6. How do you tell the difference between the equal to and assignment operators?Describe a condition and when you would use one.\n",
    "\n",
    "#### The “=” is an assignment operator is used to assign the value on the right to the variable on the left. The '==' operator checks whether the two given operands are equal or not. If so, it returns true. Otherwise it returns false"
   ]
  },
  {
   "cell_type": "markdown",
   "id": "b292e542",
   "metadata": {},
   "source": [
    "## 7) Identify the three blocks in this code:\n",
    "#### spam = 0\n",
    "#### if spam == 10:\n",
    "       print('eggs')\n",
    "#### elif spam > 5:\n",
    "       print('bacon')\n",
    "#### else:\n",
    "       print('ham')\n",
    "       print('spam')\n",
    "       print('spam')"
   ]
  },
  {
   "cell_type": "markdown",
   "id": "8093483c",
   "metadata": {},
   "source": [
    "## 8) Write code that prints Hello if 1 is stored in spam, prints Howdy if 2 is stored in spam, and prints Greetings! if anything else is stored in spam.\n",
    "\n",
    "#### spam = 0\n",
    "if spam == 1:\n",
    "\n",
    "    print('hello')\n",
    "\n",
    "elif spam == 2:\n",
    "\n",
    "    print('Howdy')\n",
    "\n",
    "else:\n",
    "\n",
    "    print('Greetings!')\n",
    "\n",
    "\n"
   ]
  },
  {
   "cell_type": "markdown",
   "id": "8ff4cc7a",
   "metadata": {},
   "source": [
    "## 9) If your programme is stuck in an endless loop, what keys you’ll press?\n",
    "\n",
    "#### Ctrl + C "
   ]
  },
  {
   "cell_type": "markdown",
   "id": "ea06a81f",
   "metadata": {},
   "source": [
    "## 10) How can you tell the difference between break and continue?\n",
    "\n",
    "#### The 'break 'stop the continuation of the loop.\t\n",
    "#### The 'continue' does not stop the continuation of loop and it stops the current."
   ]
  },
  {
   "cell_type": "markdown",
   "id": "ca26f4d9",
   "metadata": {},
   "source": [
    "## 11) In a for loop, what is the difference between range(10), range(0, 10), and range(0, 10, 1)?\n",
    "\n",
    "#### no difference with the output, only representation is different"
   ]
  },
  {
   "cell_type": "markdown",
   "id": "5a730b22",
   "metadata": {},
   "source": [
    "## 12) Write a short program that prints the numbers 1 to 10 using a for loop. Then write an equivalent program that prints the numbers 1 to 10 using a while loop.\n",
    "\n",
    "#### for i in range(1,11):\n",
    "        print(i)\n",
    "        \n",
    "    #### n=1\n",
    "    while n<11:\n",
    "        print(n)\n",
    "        n+=1"
   ]
  },
  {
   "cell_type": "code",
   "execution_count": 15,
   "id": "ed025f97",
   "metadata": {},
   "outputs": [
    {
     "name": "stdout",
     "output_type": "stream",
     "text": [
      "1\n",
      "2\n",
      "3\n",
      "4\n",
      "5\n",
      "6\n",
      "7\n",
      "8\n",
      "9\n",
      "10\n"
     ]
    }
   ],
   "source": [
    "for i in range(1,11):\n",
    "\n",
    "    print(i)"
   ]
  },
  {
   "cell_type": "code",
   "execution_count": 12,
   "id": "a1162bfc",
   "metadata": {},
   "outputs": [
    {
     "name": "stdout",
     "output_type": "stream",
     "text": [
      "1\n",
      "2\n",
      "3\n",
      "4\n",
      "5\n",
      "6\n",
      "7\n",
      "8\n",
      "9\n",
      "10\n"
     ]
    }
   ],
   "source": [
    "n=1\n",
    "while n<11:\n",
    "    print(n)\n",
    "    n+=1"
   ]
  },
  {
   "cell_type": "markdown",
   "id": "d91ef7d4",
   "metadata": {},
   "source": [
    "## 13) If you had a function named bacon() inside a module named spam, how would you call it after importing spam?\n",
    "\n",
    "####  spam. bacon()"
   ]
  },
  {
   "cell_type": "markdown",
   "id": "34cf2015",
   "metadata": {},
   "source": [
    "# part3"
   ]
  },
  {
   "cell_type": "markdown",
   "id": "158262e3",
   "metadata": {},
   "source": [
    "## 1) Why are functions advantageous to have in your programs?\n",
    "\n",
    "#### Functions reduce the need for duplicate code. This makes programs shorter, easier to read, and easier to update"
   ]
  },
  {
   "cell_type": "markdown",
   "id": "11b2ed57",
   "metadata": {},
   "source": [
    "## 2) When does the code in a function run: when it's specified or when it's called?\n",
    "\n",
    "#### when we call it"
   ]
  },
  {
   "cell_type": "markdown",
   "id": "b3bd4044",
   "metadata": {},
   "source": [
    "## 3) What statement creates a function?\n",
    "\n",
    "#### A function is created with the def keyword. The statements in the block of the function must be indented. The def keyword is followed by the function name with round brackets and a colon"
   ]
  },
  {
   "cell_type": "markdown",
   "id": "8af67578",
   "metadata": {},
   "source": [
    "## 4) What is the difference between a function and a function call?\n",
    "\n",
    "#### A function is procedure to achieve a particular result while function call is using this function to achive that task."
   ]
  },
  {
   "cell_type": "markdown",
   "id": "3ca6e037",
   "metadata": {},
   "source": [
    "## 5) How many global scopes are there in a Python program? How many local scopes?\n",
    "\n",
    "####  3 scopes --> global,local  and builtin"
   ]
  },
  {
   "cell_type": "markdown",
   "id": "8c980e10",
   "metadata": {},
   "source": [
    "## 6) What happens to variables in a local scope when the function call returns?\n",
    "\n",
    "#### When the execution of the function terminates (returns), the local variables are destroyed."
   ]
  },
  {
   "cell_type": "markdown",
   "id": "2ce179f6",
   "metadata": {},
   "source": [
    "## 7) What is the concept of a return value? Is it possible to have a return value in an expression?\n",
    "\n",
    "#### A return statement is used to end the execution of the function call and “returns” the result  (value of the expression following the return keyword) to the caller\n",
    "\n",
    "#### yes , it is  possible to have return expression"
   ]
  },
  {
   "cell_type": "markdown",
   "id": "e475f746",
   "metadata": {},
   "source": [
    "## 8) If a function does not have a return statement, what is the return value of a call to that function?\n",
    "\n",
    "#### --> NONE"
   ]
  },
  {
   "cell_type": "markdown",
   "id": "36a2f251",
   "metadata": {},
   "source": [
    "## 9) How do you make a function variable refer to the global variable?\n",
    "\n",
    "#### use the global keyword to declare which variables are global"
   ]
  },
  {
   "cell_type": "markdown",
   "id": "471e0faa",
   "metadata": {},
   "source": [
    "## 10) What is the data type of None?\n",
    "\n",
    "#### --> NoneType"
   ]
  },
  {
   "cell_type": "markdown",
   "id": "fe2f091c",
   "metadata": {},
   "source": [
    "## 11) What does the sentence import areallyourpetsnamederic do?\n",
    "\n",
    "##### imports a module named areallyourpetsnamederic"
   ]
  },
  {
   "cell_type": "markdown",
   "id": "043a591f",
   "metadata": {},
   "source": [
    "## 12) If you had a bacon() feature in a spam module, what would you call it after importing spam?\n",
    "\n",
    "#### spam.bacon()"
   ]
  },
  {
   "cell_type": "markdown",
   "id": "f57a9a20",
   "metadata": {},
   "source": [
    "## 13) What can you do to save a programme from crashing if it encounters an error?\n",
    "\n",
    "#### error handling can be used"
   ]
  },
  {
   "cell_type": "markdown",
   "id": "12ed71d4",
   "metadata": {},
   "source": [
    "## 14) What is the purpose of the try clause? What is the purpose of the except clause?\n",
    "\n",
    "#### The try block lets you test a block of code for errors. The except block lets you handle the error."
   ]
  },
  {
   "cell_type": "markdown",
   "id": "341f0ddb",
   "metadata": {},
   "source": [
    "# part-4"
   ]
  },
  {
   "cell_type": "markdown",
   "id": "7a84d1ff",
   "metadata": {},
   "source": [
    "## 1) What exactly is [ ]?\n",
    "\n",
    "#### It is also called as square brackets and referred to close intervals."
   ]
  },
  {
   "cell_type": "markdown",
   "id": "d5db4f93",
   "metadata": {},
   "source": [
    "## 3)In a list of values stored in a variable called spam, how would you assign the value 'hello'; as the third value? (Assume [2, 4, 6, 8, 10] are in spam.)\n",
    "\n",
    "#### spam[2]='hello"
   ]
  },
  {
   "cell_type": "code",
   "execution_count": 2,
   "id": "a5bd68a1",
   "metadata": {},
   "outputs": [
    {
     "data": {
      "text/plain": [
       "[2, 4, 'hello', 8, 10]"
      ]
     },
     "execution_count": 2,
     "metadata": {},
     "output_type": "execute_result"
    }
   ],
   "source": [
    "spam=[2, 4, 6, 8, 10]\n",
    "spam[2]='hello'\n",
    "spam"
   ]
  },
  {
   "cell_type": "code",
   "execution_count": 3,
   "id": "88195fd2",
   "metadata": {},
   "outputs": [],
   "source": [
    "### Let's pretend the spam includes the list ['a', 'b', 'c', 'd'] for the next three queries."
   ]
  },
  {
   "cell_type": "markdown",
   "id": "01a6a27c",
   "metadata": {},
   "source": [
    "## 3) What is the value of spam[int(int('3' * 2) / 11)]?\n",
    "\n",
    "####  --> 'd'"
   ]
  },
  {
   "cell_type": "code",
   "execution_count": 5,
   "id": "6a894c33",
   "metadata": {},
   "outputs": [
    {
     "data": {
      "text/plain": [
       "'d'"
      ]
     },
     "execution_count": 5,
     "metadata": {},
     "output_type": "execute_result"
    }
   ],
   "source": [
    "spam=['a', 'b', 'c', 'd']\n",
    "spam[int(int('3' * 2) / 11)]\n"
   ]
  },
  {
   "cell_type": "markdown",
   "id": "8a0609c1",
   "metadata": {},
   "source": [
    "## 4) What is the value of spam[-1]?\n",
    "\n",
    "#### 'd'"
   ]
  },
  {
   "cell_type": "code",
   "execution_count": 6,
   "id": "fb423a09",
   "metadata": {},
   "outputs": [
    {
     "data": {
      "text/plain": [
       "'d'"
      ]
     },
     "execution_count": 6,
     "metadata": {},
     "output_type": "execute_result"
    }
   ],
   "source": [
    "spam=['a', 'b', 'c', 'd']\n",
    "spam[-1]"
   ]
  },
  {
   "cell_type": "markdown",
   "id": "22969bd7",
   "metadata": {},
   "source": [
    "## 5) What is the value of spam[:2]?\n",
    "\n",
    "####  'c'"
   ]
  },
  {
   "cell_type": "code",
   "execution_count": 7,
   "id": "f6d2efbd",
   "metadata": {},
   "outputs": [
    {
     "data": {
      "text/plain": [
       "'c'"
      ]
     },
     "execution_count": 7,
     "metadata": {},
     "output_type": "execute_result"
    }
   ],
   "source": [
    "spam[-2]"
   ]
  },
  {
   "cell_type": "code",
   "execution_count": 8,
   "id": "f947d298",
   "metadata": {},
   "outputs": [],
   "source": [
    "## Let's pretend bacon has the list [3.14, 'cat,' 11, 'cat,' True] for the next three questions."
   ]
  },
  {
   "cell_type": "code",
   "execution_count": 15,
   "id": "d081cf07",
   "metadata": {},
   "outputs": [],
   "source": [
    "bacon=[3.14, 'cat', 11, 'cat', True]"
   ]
  },
  {
   "cell_type": "markdown",
   "id": "e3fb49f5",
   "metadata": {},
   "source": [
    "## 6) What is the value of bacon.index('cat')?\n",
    "\n",
    "####  1"
   ]
  },
  {
   "cell_type": "code",
   "execution_count": 16,
   "id": "bf176b6a",
   "metadata": {},
   "outputs": [
    {
     "data": {
      "text/plain": [
       "1"
      ]
     },
     "execution_count": 16,
     "metadata": {},
     "output_type": "execute_result"
    }
   ],
   "source": [
    "bacon.index('cat')"
   ]
  },
  {
   "cell_type": "markdown",
   "id": "afabe469",
   "metadata": {},
   "source": [
    "## 7) How does bacon.append(99) change the look of the list value in bacon?\n",
    "\n",
    "####  [3.14, 'cat', 11, 'cat', True, 99] --> adds 99 to the list and 6 items in the list"
   ]
  },
  {
   "cell_type": "code",
   "execution_count": 17,
   "id": "45fa67cf",
   "metadata": {},
   "outputs": [
    {
     "data": {
      "text/plain": [
       "[3.14, 'cat', 11, 'cat', True, 99]"
      ]
     },
     "execution_count": 17,
     "metadata": {},
     "output_type": "execute_result"
    }
   ],
   "source": [
    "bacon.append(99)\n",
    "bacon"
   ]
  },
  {
   "cell_type": "markdown",
   "id": "3335eae4",
   "metadata": {},
   "source": [
    "## 8) How does bacon.remove('cat') change the look of the list in bacon?\n",
    "\n",
    "####  [3.14, 11, 'cat', True, 99 --> removes the 'cat' string in the list"
   ]
  },
  {
   "cell_type": "code",
   "execution_count": 19,
   "id": "56d632d8",
   "metadata": {},
   "outputs": [
    {
     "data": {
      "text/plain": [
       "[3.14, 11, 'cat', True, 99]"
      ]
     },
     "execution_count": 19,
     "metadata": {},
     "output_type": "execute_result"
    }
   ],
   "source": [
    "bacon.remove('cat')\n",
    "bacon"
   ]
  },
  {
   "cell_type": "markdown",
   "id": "9fa371be",
   "metadata": {},
   "source": [
    "##  9) What are the list concatenation and list replication operators?\n",
    "\n",
    "#### The operator for list concatenation is +, while the operator for replication is *"
   ]
  },
  {
   "cell_type": "markdown",
   "id": "d22f771d",
   "metadata": {},
   "source": [
    "## 10) What is difference between the list methods append() and insert()?\n",
    "\n",
    "#### insert function allows us to add a specific element at a specified index of the list unlike append() where we can add the element only at end of the list."
   ]
  },
  {
   "cell_type": "markdown",
   "id": "74906900",
   "metadata": {},
   "source": [
    "## 11) What are the two methods for removing items from a list?\n",
    "\n",
    "#### remove(), pop()"
   ]
  },
  {
   "cell_type": "markdown",
   "id": "9ba84f2c",
   "metadata": {},
   "source": [
    "## 12) Describe how list values and string values are identical.\n",
    "\n",
    "#### The similarity between Lists and Strings in Python is that both are sequences. "
   ]
  },
  {
   "cell_type": "markdown",
   "id": "c6492785",
   "metadata": {},
   "source": [
    "## 13) What's the difference between tuples and lists?\n",
    "\n",
    "#### key difference between the tuples and lists is that while the tuples are immutable objects the lists are mutable"
   ]
  },
  {
   "cell_type": "markdown",
   "id": "2d953bd0",
   "metadata": {},
   "source": [
    "## 14) How do you type a tuple value that only contains the integer 42?\n",
    "\n",
    "#### (42,)"
   ]
  },
  {
   "cell_type": "markdown",
   "id": "9db61e19",
   "metadata": {},
   "source": [
    "## 15) How do you get a list value's tuple form? How do you get a tuple value's list form?\n",
    "\n",
    "#### tuple = tuple(list)\n",
    "####    list=list(tuple)\n"
   ]
  },
  {
   "cell_type": "markdown",
   "id": "cc0ccca3",
   "metadata": {},
   "source": [
    "## 16) Variables that \"contain\" list values are not necessarily lists themselves. Instead, what do they contain?\n",
    "\n",
    "#### Variables will contain references to list values rather than list values themselves"
   ]
  },
  {
   "cell_type": "markdown",
   "id": "dec5e302",
   "metadata": {},
   "source": [
    "## 17) How do you distinguish between copy.copy() and copy.deepcopy()?\n",
    "\n",
    "#### copy() create reference to original object and deepcopy() creates new object "
   ]
  },
  {
   "cell_type": "markdown",
   "id": "34ebd414",
   "metadata": {},
   "source": [
    "# Part-5"
   ]
  },
  {
   "cell_type": "markdown",
   "id": "c57f6982",
   "metadata": {},
   "source": [
    "## 1) What does an empty dictionary's code look like?\n",
    "\n",
    "#### the dictionary should be set to {}"
   ]
  },
  {
   "cell_type": "markdown",
   "id": "5e2ae8c3",
   "metadata": {},
   "source": [
    "## 2) What is the value of a dictionary value with the key 'foo' and the value 42?\n",
    "\n",
    "#### {'foo':42}"
   ]
  },
  {
   "cell_type": "markdown",
   "id": "65dc53d4",
   "metadata": {},
   "source": [
    "## 3) What is the most significant distinction between a dictionary and a list?\n",
    "\n",
    "#### A list is an ordered sequence of objects, whereas dictionaries are unordered sets"
   ]
  },
  {
   "cell_type": "markdown",
   "id": "77f7d652",
   "metadata": {},
   "source": [
    "## 4) What happens if you try to access spam['foo'] if spam is {'bar': 100}?\n",
    "\n",
    "#### we get an key error"
   ]
  },
  {
   "cell_type": "markdown",
   "id": "49d6e92d",
   "metadata": {},
   "source": [
    "## 5) If a dictionary is stored in spam, what is the difference between the expressions 'cat' in spam and'cat' in spam.keys()?\n",
    "\n",
    "#### 'cat' in spam checks whether there is a 'cat' key in the dictionary"
   ]
  },
  {
   "cell_type": "markdown",
   "id": "3488cf67",
   "metadata": {},
   "source": [
    "## 6) If a dictionary is stored in spam, what is the difference between the expressions cat' in spam and #cat' in spam.values()?\n",
    "\n",
    "#### 'cat' in spam checks whether there is a 'cat' key in the dictionary, while 'cat' in spam. values() checks whether there is a value 'cat' for one of the keys in spam ."
   ]
  },
  {
   "cell_type": "markdown",
   "id": "11571dc8",
   "metadata": {},
   "source": [
    "## 7)  What is a shortcut for the following code?\n",
    "### if &#39;color&#39; not in spam:\n",
    "### spam[&#39;color&#39;] = &#39;black&#39;\n",
    "#### --->spam.setdefault('color', 'black')"
   ]
  },
  {
   "cell_type": "markdown",
   "id": "3fb9f69c",
   "metadata": {},
   "source": [
    "## 8) How do you &quot;pretty print; dictionary values using which module and function?\n",
    "\n",
    "####  pprint()"
   ]
  },
  {
   "cell_type": "code",
   "execution_count": 24,
   "id": "0ec93584",
   "metadata": {},
   "outputs": [],
   "source": [
    "dct_arr = [\n",
    "  {'Name': 'John', 'Age': '23', 'Country': 'USA'},\n",
    "  {'Name': 'Jose', 'Age': '44', 'Country': 'Spain'},\n",
    "  {'Name': 'Anne', 'Age': '29', 'Country': 'UK'},\n",
    "  {'Name': 'Lee', 'Age': '35', 'Country': 'Japan'}\n",
    "]"
   ]
  },
  {
   "cell_type": "code",
   "execution_count": 26,
   "id": "23977026",
   "metadata": {},
   "outputs": [
    {
     "name": "stdout",
     "output_type": "stream",
     "text": [
      "[{'Age': '23', 'Country': 'USA', 'Name': 'John'},\n",
      " {'Age': '44', 'Country': 'Spain', 'Name': 'Jose'},\n",
      " {'Age': '29', 'Country': 'UK', 'Name': 'Anne'},\n",
      " {'Age': '35', 'Country': 'Japan', 'Name': 'Lee'}]\n"
     ]
    }
   ],
   "source": [
    "\n",
    "import pprint\n",
    "\n",
    "pprint.pprint(dct_arr)"
   ]
  },
  {
   "cell_type": "code",
   "execution_count": 27,
   "id": "0749061e",
   "metadata": {},
   "outputs": [
    {
     "name": "stdout",
     "output_type": "stream",
     "text": [
      "[{'Name': 'John', 'Age': '23', 'Country': 'USA'}, {'Name': 'Jose', 'Age': '44', 'Country': 'Spain'}, {'Name': 'Anne', 'Age': '29', 'Country': 'UK'}, {'Name': 'Lee', 'Age': '35', 'Country': 'Japan'}]\n"
     ]
    }
   ],
   "source": [
    "print(dct_arr)"
   ]
  },
  {
   "cell_type": "code",
   "execution_count": null,
   "id": "7898bb15",
   "metadata": {},
   "outputs": [],
   "source": []
  }
 ],
 "metadata": {
  "kernelspec": {
   "display_name": "Python 3",
   "language": "python",
   "name": "python3"
  },
  "language_info": {
   "codemirror_mode": {
    "name": "ipython",
    "version": 3
   },
   "file_extension": ".py",
   "mimetype": "text/x-python",
   "name": "python",
   "nbconvert_exporter": "python",
   "pygments_lexer": "ipython3",
   "version": "3.8.8"
  },
  "widgets": {
   "application/vnd.jupyter.widget-state+json": {
    "state": {},
    "version_major": 2,
    "version_minor": 0
   }
  }
 },
 "nbformat": 4,
 "nbformat_minor": 5
}
