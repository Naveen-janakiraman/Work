{
 "cells": [
  {
   "cell_type": "markdown",
   "id": "0ab1e7ce",
   "metadata": {},
   "source": [
    "##  1) In the below elements which of them are values or an expression? eg:- values can be\n",
    "## integer or string and expressions will be mathematical operators.\n",
    "\n",
    "#### ans -->  values=['hello',-87.8,6]\n",
    "####          expressions=[* , - , / , +]            "
   ]
  },
  {
   "cell_type": "markdown",
   "id": "cda4b82d",
   "metadata": {},
   "source": [
    "## 2)  What is the difference between string and variable?\n",
    "\n",
    "#### ans--> A variable is basically the name of the location in the primary memory. A variable can store everything from strings to numbers. \n",
    "#### A string is the values inside the quotes assigned to a string."
   ]
  },
  {
   "cell_type": "markdown",
   "id": "6dec52b5",
   "metadata": {},
   "source": [
    "## 3) Describe three different data types.\n",
    "\n",
    "#### \n",
    "\n",
    "#### A) Integer (int)\n",
    "\n",
    "####  It is the most common numeric data type used to store numbers without a fractional component (-707, 0, 707).\n",
    "\n",
    "#### # b) Floating Point (float)\n",
    "\n",
    "#### It is also a numeric data type used to store numbers that may have a fractional component like monetary values do (707.07, 0.7, 707.00).\n",
    "\n",
    "\n",
    "#### # C) String (str or text)\n",
    "\n",
    "####  It is a sequence of characters and the most commonly used data type to store text. Additionally, a string can also include digits and symbols, however, it is always treated as text.\n",
    "\n",
    "#### # D) Boolean (bool)\n",
    "\n",
    "#### It represents the values true and false. When working with the boolean data type, it is helpful to keep in mind that sometimes a boolean value is also represented as 0 (for false) and 1 (for true)."
   ]
  },
  {
   "cell_type": "markdown",
   "id": "82c40068",
   "metadata": {},
   "source": [
    "## 4) What is an expression made up of? What do all expressions do?\n",
    "\n",
    "####  An expression is a combination of operators, constants and variables. \n",
    "#### An expression may consist of one or more operands, and zero or more operators to produce a value"
   ]
  },
  {
   "cell_type": "markdown",
   "id": "664de4af",
   "metadata": {},
   "source": [
    "## 5) This assignment statements, like spam = 10. What is the difference between an\n",
    "## expression and a statement?\n",
    "\n",
    "#### Statements represent an action or command e.g print statements, assignment statements.\n",
    "\n",
    "##### print 'hello', x = 1\n",
    "\n",
    "#### Expression is a combination of variables, operations and values that yields a result value.\n",
    "\n",
    "##### 5 * 5 # yields 25\n"
   ]
  },
  {
   "cell_type": "markdown",
   "id": "bc8227a9",
   "metadata": {},
   "source": [
    "## 6) After running the following code, what does the variable bacon contain?\n",
    "\n",
    "####     bacon=22\n",
    "####     bacon+1\n",
    "    \n",
    "####    ans: --> bacon=23\n"
   ]
  },
  {
   "cell_type": "markdown",
   "id": "503c051c",
   "metadata": {},
   "source": [
    "## 7) What should the values of the following two terms be?\n",
    "\n",
    "####  'spam' + 'spamspam'\n",
    "\n",
    "#### 'spam' * 3\n",
    "\n",
    "#### ---> 'spamspamspam'"
   ]
  },
  {
   "cell_type": "markdown",
   "id": "9dcc62ca",
   "metadata": {},
   "source": [
    "## 8) Why is eggs a valid variable name while 100 is invalid? Variable names cannot begin with a number.\n",
    "\n",
    "#### Variable names cannot begin with a number."
   ]
  },
  {
   "cell_type": "markdown",
   "id": "adcd73dc",
   "metadata": {},
   "source": [
    "## 9) What three functions can be used to get the integer, floating-point number, or string\n",
    "##  version of a value?\n",
    "\n",
    "#### int() , float() , and str( )"
   ]
  },
  {
   "cell_type": "markdown",
   "id": "3f4e86e4",
   "metadata": {},
   "source": [
    "## 10) Why does this expression cause an error? How can you fix it?\n",
    "\n",
    "### 'I have eaten' '+ 99  'burritos'\n",
    "\n",
    "#### ' I have eaten ' + str(99) + ' burritos'"
   ]
  },
  {
   "cell_type": "code",
   "execution_count": null,
   "id": "8bf70d06",
   "metadata": {},
   "outputs": [],
   "source": []
  }
 ],
 "metadata": {
  "kernelspec": {
   "display_name": "Python 3",
   "language": "python",
   "name": "python3"
  },
  "language_info": {
   "codemirror_mode": {
    "name": "ipython",
    "version": 3
   },
   "file_extension": ".py",
   "mimetype": "text/x-python",
   "name": "python",
   "nbconvert_exporter": "python",
   "pygments_lexer": "ipython3",
   "version": "3.8.8"
  }
 },
 "nbformat": 4,
 "nbformat_minor": 5
}
