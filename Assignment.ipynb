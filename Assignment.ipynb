{
 "cells": [
  {
   "cell_type": "markdown",
   "id": "c69cb892",
   "metadata": {},
   "source": [
    "##  1) In the below elements which of them are values or an expression? eg:- values can be\n",
    "## integer or string and expressions will be mathematical operators.\n",
    "\n",
    "#### ans -->  values=['hello',-87.8,6]\n",
    "####          expressions=[* , - , / , +]            "
   ]
  },
  {
   "cell_type": "markdown",
   "id": "090d26eb",
   "metadata": {},
   "source": [
    "## 2)  What is the difference between string and variable?\n",
    "\n",
    "#### ans--> A variable is basically the name of the location in the primary memory. A variable can store everything from strings to numbers. \n",
    "#### A string is the values inside the quotes assigned to a string."
   ]
  },
  {
   "cell_type": "markdown",
   "id": "bf92ea0d",
   "metadata": {},
   "source": [
    "## 3) Describe three different data types.\n",
    "\n",
    "#### \n",
    "\n",
    "#### A) Integer (int)\n",
    "\n",
    "####  It is the most common numeric data type used to store numbers without a fractional component (-707, 0, 707).\n",
    "\n",
    "#### # b) Floating Point (float)\n",
    "\n",
    "#### It is also a numeric data type used to store numbers that may have a fractional component like monetary values do (707.07, 0.7, 707.00).\n",
    "\n",
    "\n",
    "#### # C) String (str or text)\n",
    "\n",
    "####  It is a sequence of characters and the most commonly used data type to store text. Additionally, a string can also include digits and symbols, however, it is always treated as text.\n",
    "\n",
    "#### # D) Boolean (bool)\n",
    "\n",
    "#### It represents the values true and false. When working with the boolean data type, it is helpful to keep in mind that sometimes a boolean value is also represented as 0 (for false) and 1 (for true)."
   ]
  },
  {
   "cell_type": "markdown",
   "id": "99c2fed6",
   "metadata": {},
   "source": [
    "## 4) What is an expression made up of? What do all expressions do?\n",
    "\n",
    "####  An expression is a combination of operators, constants and variables. \n",
    "#### An expression may consist of one or more operands, and zero or more operators to produce a value"
   ]
  },
  {
   "cell_type": "markdown",
   "id": "7d8ef2a1",
   "metadata": {},
   "source": [
    "## 5) This assignment statements, like spam = 10. What is the difference between an\n",
    "## expression and a statement?\n",
    "\n",
    "#### Statements represent an action or command e.g print statements, assignment statements.\n",
    "\n",
    "##### print 'hello', x = 1\n",
    "\n",
    "#### Expression is a combination of variables, operations and values that yields a result value.\n",
    "\n",
    "##### 5 * 5 # yields 25\n"
   ]
  },
  {
   "cell_type": "markdown",
   "id": "7efba51d",
   "metadata": {},
   "source": [
    "## 6) After running the following code, what does the variable bacon contain?\n",
    "\n",
    "####     bacon=22\n",
    "####     bacon+1\n",
    "    \n",
    "####    ans: --> bacon=23\n"
   ]
  },
  {
   "cell_type": "markdown",
   "id": "e287175b",
   "metadata": {},
   "source": [
    "## 7) What should the values of the following two terms be?\n",
    "\n",
    "####  'spam' + 'spamspam'\n",
    "\n",
    "#### 'spam' * 3\n",
    "\n",
    "#### ---> 'spamspamspam'"
   ]
  },
  {
   "cell_type": "markdown",
   "id": "919b5056",
   "metadata": {},
   "source": [
    "## 8) Why is eggs a valid variable name while 100 is invalid? Variable names cannot begin with a number.\n",
    "\n",
    "#### Variable names cannot begin with a number."
   ]
  },
  {
   "cell_type": "markdown",
   "id": "89e08d3b",
   "metadata": {},
   "source": [
    "## 9) What three functions can be used to get the integer, floating-point number, or string\n",
    "##  version of a value?\n",
    "\n",
    "#### int() , float() , and str( )"
   ]
  },
  {
   "cell_type": "markdown",
   "id": "a6248090",
   "metadata": {},
   "source": [
    "## 10) Why does this expression cause an error? How can you fix it?\n",
    "\n",
    "### 'I have eaten' '+ 99  'burritos'\n",
    "\n",
    "#### ' I have eaten ' + str(99) + ' burritos'"
   ]
  },
  {
   "cell_type": "markdown",
   "id": "60e9090a",
   "metadata": {},
   "source": [
    "# Part 2"
   ]
  },
  {
   "cell_type": "markdown",
   "id": "ed30e659",
   "metadata": {},
   "source": [
    "## 1)What are the two values of the Boolean data type? How do you write them?\n",
    "\n",
    "#### There are two Boolean (Links to an external site.) values: True and False. Values in Python can be compared using comparison operations, and \n",
    "####  Boolean logic can be formulated with the use of logic operations\n",
    "\n",
    "####    like > , < , <> , == ., etc"
   ]
  },
  {
   "cell_type": "markdown",
   "id": "43e034b4",
   "metadata": {},
   "source": [
    "##  2) What are the three different types of Boolean operators?\n",
    "\n",
    "#### AND, OR and NOT."
   ]
  },
  {
   "cell_type": "markdown",
   "id": "b47e4131",
   "metadata": {},
   "source": [
    "## 3) Make a list of each Boolean operator&#39;s truth tables (i.e. every possible combination of Boolean\n",
    "## values for the operator and what it evaluate )\n",
    "\n",
    "#### x=[False,False,True,True]\n",
    "#### y=[False,True,False,True]   \n",
    "\n",
    "#### x and y = [False,False,False,True]\n",
    "#### x or y = [False,True,True,True]"
   ]
  },
  {
   "cell_type": "markdown",
   "id": "5edae577",
   "metadata": {},
   "source": [
    "## 4) What are the values of the following expressions?\n",
    "\n",
    "#### (5 > 4) and (3 == 5) ---> False\n",
    "#### not (5 > 4) --- > False\n",
    "#### (5 > 4) or (3 == 5) ---> True\n",
    "#### not ((5 > 4) or (3 == 5)) ---> False\n",
    "#### (True and True) and (True == False) --->  False\n",
    "#### (not False) or (not True) ---> True"
   ]
  },
  {
   "cell_type": "markdown",
   "id": "00dfe1d9",
   "metadata": {},
   "source": [
    "## 5) What are the six comparison operators?\n",
    "\n",
    "#### = , <> , >= , <= , > , < "
   ]
  },
  {
   "cell_type": "markdown",
   "id": "dab49f17",
   "metadata": {},
   "source": [
    "## 6. How do you tell the difference between the equal to and assignment operators?Describe a condition and when you would use one.\n",
    "\n",
    "#### The “=” is an assignment operator is used to assign the value on the right to the variable on the left. The '==' operator checks whether the two given operands are equal or not. If so, it returns true. Otherwise it returns false"
   ]
  },
  {
   "cell_type": "markdown",
   "id": "b292e542",
   "metadata": {},
   "source": [
    "## 7) Identify the three blocks in this code:\n",
    "#### spam = 0\n",
    "#### if spam == 10:\n",
    "       print('eggs')\n",
    "#### elif spam > 5:\n",
    "       print('bacon')\n",
    "#### else:\n",
    "       print('ham')\n",
    "       print('spam')\n",
    "       print('spam')"
   ]
  },
  {
   "cell_type": "markdown",
   "id": "8093483c",
   "metadata": {},
   "source": [
    "## 8) Write code that prints Hello if 1 is stored in spam, prints Howdy if 2 is stored in spam, and prints Greetings! if anything else is stored in spam.\n",
    "\n",
    "#### spam = 0\n",
    "if spam == 1:\n",
    "\n",
    "    print('hello')\n",
    "\n",
    "elif spam == 2:\n",
    "\n",
    "    print('Howdy')\n",
    "\n",
    "else:\n",
    "\n",
    "    print('Greetings!')\n",
    "\n",
    "\n"
   ]
  },
  {
   "cell_type": "markdown",
   "id": "8ff4cc7a",
   "metadata": {},
   "source": [
    "## 9) If your programme is stuck in an endless loop, what keys you’ll press?\n",
    "\n",
    "#### Ctrl + C "
   ]
  },
  {
   "cell_type": "markdown",
   "id": "ea06a81f",
   "metadata": {},
   "source": [
    "## 10) How can you tell the difference between break and continue?\n",
    "\n",
    "#### The 'break 'stop the continuation of the loop.\t\n",
    "#### The 'continue' does not stop the continuation of loop and it stops the current."
   ]
  },
  {
   "cell_type": "markdown",
   "id": "ca26f4d9",
   "metadata": {},
   "source": [
    "## 11) In a for loop, what is the difference between range(10), range(0, 10), and range(0, 10, 1)?\n",
    "\n",
    "#### no difference with the output, only representation is different"
   ]
  },
  {
   "cell_type": "markdown",
   "id": "5a730b22",
   "metadata": {},
   "source": [
    "## 12) Write a short program that prints the numbers 1 to 10 using a for loop. Then write an equivalent program that prints the numbers 1 to 10 using a while loop.\n",
    "\n",
    "#### for i in range(1,11):\n",
    "        print(i)\n",
    "        \n",
    "    #### n=1\n",
    "    while n<11:\n",
    "        print(n)\n",
    "        n+=1"
   ]
  },
  {
   "cell_type": "code",
   "execution_count": 15,
   "id": "ed025f97",
   "metadata": {},
   "outputs": [
    {
     "name": "stdout",
     "output_type": "stream",
     "text": [
      "1\n",
      "2\n",
      "3\n",
      "4\n",
      "5\n",
      "6\n",
      "7\n",
      "8\n",
      "9\n",
      "10\n"
     ]
    }
   ],
   "source": [
    "for i in range(1,11):\n",
    "\n",
    "    print(i)"
   ]
  },
  {
   "cell_type": "code",
   "execution_count": 12,
   "id": "a1162bfc",
   "metadata": {},
   "outputs": [
    {
     "name": "stdout",
     "output_type": "stream",
     "text": [
      "1\n",
      "2\n",
      "3\n",
      "4\n",
      "5\n",
      "6\n",
      "7\n",
      "8\n",
      "9\n",
      "10\n"
     ]
    }
   ],
   "source": [
    "n=1\n",
    "while n<11:\n",
    "    print(n)\n",
    "    n+=1"
   ]
  },
  {
   "cell_type": "markdown",
   "id": "d91ef7d4",
   "metadata": {},
   "source": [
    "## 13) If you had a function named bacon() inside a module named spam, how would you call it after importing spam?\n",
    "\n",
    "####  spam. bacon()"
   ]
  },
  {
   "cell_type": "markdown",
   "id": "34cf2015",
   "metadata": {},
   "source": [
    "# part3"
   ]
  },
  {
   "cell_type": "markdown",
   "id": "158262e3",
   "metadata": {},
   "source": [
    "## 1) Why are functions advantageous to have in your programs?\n",
    "\n",
    "#### Functions reduce the need for duplicate code. This makes programs shorter, easier to read, and easier to update"
   ]
  },
  {
   "cell_type": "markdown",
   "id": "11b2ed57",
   "metadata": {},
   "source": [
    "## 2) When does the code in a function run: when it's specified or when it's called?\n",
    "\n",
    "#### when we call it"
   ]
  },
  {
   "cell_type": "markdown",
   "id": "b3bd4044",
   "metadata": {},
   "source": [
    "## 3) What statement creates a function?\n",
    "\n",
    "#### A function is created with the def keyword. The statements in the block of the function must be indented. The def keyword is followed by the function name with round brackets and a colon"
   ]
  },
  {
   "cell_type": "markdown",
   "id": "8af67578",
   "metadata": {},
   "source": [
    "## 4) What is the difference between a function and a function call?\n",
    "\n",
    "#### A function is procedure to achieve a particular result while function call is using this function to achive that task."
   ]
  },
  {
   "cell_type": "markdown",
   "id": "3ca6e037",
   "metadata": {},
   "source": [
    "## 5) How many global scopes are there in a Python program? How many local scopes?\n",
    "\n",
    "####  3 scopes --> global,local  and builtin"
   ]
  },
  {
   "cell_type": "markdown",
   "id": "8c980e10",
   "metadata": {},
   "source": [
    "## 6) What happens to variables in a local scope when the function call returns?\n",
    "\n",
    "#### When the execution of the function terminates (returns), the local variables are destroyed."
   ]
  },
  {
   "cell_type": "markdown",
   "id": "2ce179f6",
   "metadata": {},
   "source": [
    "## 7) What is the concept of a return value? Is it possible to have a return value in an expression?\n",
    "\n",
    "#### A return statement is used to end the execution of the function call and “returns” the result  (value of the expression following the return keyword) to the caller\n",
    "\n",
    "#### yes , it is  possible to have return expression"
   ]
  },
  {
   "cell_type": "markdown",
   "id": "e475f746",
   "metadata": {},
   "source": [
    "## 8) If a function does not have a return statement, what is the return value of a call to that function?\n",
    "\n",
    "#### --> NONE"
   ]
  },
  {
   "cell_type": "markdown",
   "id": "36a2f251",
   "metadata": {},
   "source": [
    "## 9) How do you make a function variable refer to the global variable?\n",
    "\n",
    "#### use the global keyword to declare which variables are global"
   ]
  },
  {
   "cell_type": "markdown",
   "id": "471e0faa",
   "metadata": {},
   "source": [
    "## 10) What is the data type of None?\n",
    "\n",
    "#### --> NoneType"
   ]
  },
  {
   "cell_type": "markdown",
   "id": "fe2f091c",
   "metadata": {},
   "source": [
    "## 11) What does the sentence import areallyourpetsnamederic do?\n",
    "\n",
    "##### imports a module named areallyourpetsnamederic"
   ]
  },
  {
   "cell_type": "markdown",
   "id": "043a591f",
   "metadata": {},
   "source": [
    "## 12) If you had a bacon() feature in a spam module, what would you call it after importing spam?\n",
    "\n",
    "#### spam.bacon()"
   ]
  },
  {
   "cell_type": "markdown",
   "id": "f57a9a20",
   "metadata": {},
   "source": [
    "## 13) What can you do to save a programme from crashing if it encounters an error?\n",
    "\n",
    "#### error handling can be used"
   ]
  },
  {
   "cell_type": "markdown",
   "id": "12ed71d4",
   "metadata": {},
   "source": [
    "## 14) What is the purpose of the try clause? What is the purpose of the except clause?\n",
    "\n",
    "#### The try block lets you test a block of code for errors. The except block lets you handle the error."
   ]
  },
  {
   "cell_type": "markdown",
   "id": "e0051df3",
   "metadata": {},
   "source": [
    "# part-4"
   ]
  },
  {
   "cell_type": "markdown",
   "id": "e9852810",
   "metadata": {},
   "source": [
    "## 1) What exactly is [ ]?\n",
    "\n",
    "#### It is also called as square brackets and referred to close intervals."
   ]
  },
  {
   "cell_type": "markdown",
   "id": "5039617a",
   "metadata": {},
   "source": [
    "## 3)In a list of values stored in a variable called spam, how would you assign the value 'hello'; as the third value? (Assume [2, 4, 6, 8, 10] are in spam.)\n",
    "\n",
    "#### spam[2]='hello"
   ]
  },
  {
   "cell_type": "code",
   "execution_count": 2,
   "id": "048ea44c",
   "metadata": {},
   "outputs": [
    {
     "data": {
      "text/plain": [
       "[2, 4, 'hello', 8, 10]"
      ]
     },
     "execution_count": 2,
     "metadata": {},
     "output_type": "execute_result"
    }
   ],
   "source": [
    "spam=[2, 4, 6, 8, 10]\n",
    "spam[2]='hello'\n",
    "spam"
   ]
  },
  {
   "cell_type": "code",
   "execution_count": 3,
   "id": "4c2fc774",
   "metadata": {},
   "outputs": [],
   "source": [
    "### Let's pretend the spam includes the list ['a', 'b', 'c', 'd'] for the next three queries."
   ]
  },
  {
   "cell_type": "markdown",
   "id": "57b37ea9",
   "metadata": {},
   "source": [
    "## 3) What is the value of spam[int(int('3' * 2) / 11)]?\n",
    "\n",
    "####  --> 'd'"
   ]
  },
  {
   "cell_type": "code",
   "execution_count": 5,
   "id": "b64eb0a7",
   "metadata": {},
   "outputs": [
    {
     "data": {
      "text/plain": [
       "'d'"
      ]
     },
     "execution_count": 5,
     "metadata": {},
     "output_type": "execute_result"
    }
   ],
   "source": [
    "spam=['a', 'b', 'c', 'd']\n",
    "spam[int(int('3' * 2) / 11)]\n"
   ]
  },
  {
   "cell_type": "markdown",
   "id": "b8e5b04a",
   "metadata": {},
   "source": [
    "## 4) What is the value of spam[-1]?\n",
    "\n",
    "#### 'd'"
   ]
  },
  {
   "cell_type": "code",
   "execution_count": 6,
   "id": "c7761246",
   "metadata": {},
   "outputs": [
    {
     "data": {
      "text/plain": [
       "'d'"
      ]
     },
     "execution_count": 6,
     "metadata": {},
     "output_type": "execute_result"
    }
   ],
   "source": [
    "spam=['a', 'b', 'c', 'd']\n",
    "spam[-1]"
   ]
  },
  {
   "cell_type": "markdown",
   "id": "9b6a266f",
   "metadata": {},
   "source": [
    "## 5) What is the value of spam[:2]?\n",
    "\n",
    "####  'c'"
   ]
  },
  {
   "cell_type": "code",
   "execution_count": 7,
   "id": "368be288",
   "metadata": {},
   "outputs": [
    {
     "data": {
      "text/plain": [
       "'c'"
      ]
     },
     "execution_count": 7,
     "metadata": {},
     "output_type": "execute_result"
    }
   ],
   "source": [
    "spam[-2]"
   ]
  },
  {
   "cell_type": "code",
   "execution_count": 8,
   "id": "730ce626",
   "metadata": {},
   "outputs": [],
   "source": [
    "## Let's pretend bacon has the list [3.14, 'cat,' 11, 'cat,' True] for the next three questions."
   ]
  },
  {
   "cell_type": "code",
   "execution_count": 15,
   "id": "e358f725",
   "metadata": {},
   "outputs": [],
   "source": [
    "bacon=[3.14, 'cat', 11, 'cat', True]"
   ]
  },
  {
   "cell_type": "markdown",
   "id": "b1570be4",
   "metadata": {},
   "source": [
    "## 6) What is the value of bacon.index('cat')?\n",
    "\n",
    "####  1"
   ]
  },
  {
   "cell_type": "code",
   "execution_count": 16,
   "id": "3f87e3d8",
   "metadata": {},
   "outputs": [
    {
     "data": {
      "text/plain": [
       "1"
      ]
     },
     "execution_count": 16,
     "metadata": {},
     "output_type": "execute_result"
    }
   ],
   "source": [
    "bacon.index('cat')"
   ]
  },
  {
   "cell_type": "markdown",
   "id": "d6acccb7",
   "metadata": {},
   "source": [
    "## 7) How does bacon.append(99) change the look of the list value in bacon?\n",
    "\n",
    "####  [3.14, 'cat', 11, 'cat', True, 99] --> adds 99 to the list and 6 items in the list"
   ]
  },
  {
   "cell_type": "code",
   "execution_count": 17,
   "id": "d02a21a3",
   "metadata": {},
   "outputs": [
    {
     "data": {
      "text/plain": [
       "[3.14, 'cat', 11, 'cat', True, 99]"
      ]
     },
     "execution_count": 17,
     "metadata": {},
     "output_type": "execute_result"
    }
   ],
   "source": [
    "bacon.append(99)\n",
    "bacon"
   ]
  },
  {
   "cell_type": "markdown",
   "id": "312cdffc",
   "metadata": {},
   "source": [
    "## 8) How does bacon.remove('cat') change the look of the list in bacon?\n",
    "\n",
    "####  [3.14, 11, 'cat', True, 99 --> removes the 'cat' string in the list"
   ]
  },
  {
   "cell_type": "code",
   "execution_count": 19,
   "id": "1808554e",
   "metadata": {},
   "outputs": [
    {
     "data": {
      "text/plain": [
       "[3.14, 11, 'cat', True, 99]"
      ]
     },
     "execution_count": 19,
     "metadata": {},
     "output_type": "execute_result"
    }
   ],
   "source": [
    "bacon.remove('cat')\n",
    "bacon"
   ]
  },
  {
   "cell_type": "markdown",
   "id": "8d434f0a",
   "metadata": {},
   "source": [
    "##  9) What are the list concatenation and list replication operators?\n",
    "\n",
    "#### The operator for list concatenation is +, while the operator for replication is *"
   ]
  },
  {
   "cell_type": "markdown",
   "id": "8657ea1e",
   "metadata": {},
   "source": [
    "## 10) What is difference between the list methods append() and insert()?\n",
    "\n",
    "#### insert function allows us to add a specific element at a specified index of the list unlike append() where we can add the element only at end of the list."
   ]
  },
  {
   "cell_type": "markdown",
   "id": "123986a7",
   "metadata": {},
   "source": [
    "## 11) What are the two methods for removing items from a list?\n",
    "\n",
    "#### remove(), pop()"
   ]
  },
  {
   "cell_type": "markdown",
   "id": "51150f78",
   "metadata": {},
   "source": [
    "## 12) Describe how list values and string values are identical.\n",
    "\n",
    "#### The similarity between Lists and Strings in Python is that both are sequences. "
   ]
  },
  {
   "cell_type": "markdown",
   "id": "ba49e939",
   "metadata": {},
   "source": [
    "## 13) What's the difference between tuples and lists?\n",
    "\n",
    "#### key difference between the tuples and lists is that while the tuples are immutable objects the lists are mutable"
   ]
  },
  {
   "cell_type": "markdown",
   "id": "68f98a52",
   "metadata": {},
   "source": [
    "## 14) How do you type a tuple value that only contains the integer 42?\n",
    "\n",
    "#### (42,)"
   ]
  },
  {
   "cell_type": "markdown",
   "id": "cb443636",
   "metadata": {},
   "source": [
    "## 15) How do you get a list value's tuple form? How do you get a tuple value's list form?\n",
    "\n",
    "#### tuple = tuple(list)\n",
    "####    list=list(tuple)\n"
   ]
  },
  {
   "cell_type": "markdown",
   "id": "e1a1d2bc",
   "metadata": {},
   "source": [
    "## 16) Variables that \"contain\" list values are not necessarily lists themselves. Instead, what do they contain?\n",
    "\n",
    "#### Variables will contain references to list values rather than list values themselves"
   ]
  },
  {
   "cell_type": "markdown",
   "id": "641653cd",
   "metadata": {},
   "source": [
    "## 17) How do you distinguish between copy.copy() and copy.deepcopy()?\n",
    "\n",
    "#### copy() create reference to original object and deepcopy() creates new object "
   ]
  },
  {
   "cell_type": "markdown",
   "id": "e0d6d8bf",
   "metadata": {},
   "source": [
    "# Part-5"
   ]
  },
  {
   "cell_type": "markdown",
   "id": "24f7003d",
   "metadata": {},
   "source": [
    "## 1) What does an empty dictionary's code look like?\n",
    "\n",
    "#### the dictionary should be set to {}"
   ]
  },
  {
   "cell_type": "markdown",
   "id": "2f624414",
   "metadata": {},
   "source": [
    "## 2) What is the value of a dictionary value with the key 'foo' and the value 42?\n",
    "\n",
    "#### {'foo':42}"
   ]
  },
  {
   "cell_type": "markdown",
   "id": "d20e6563",
   "metadata": {},
   "source": [
    "## 3) What is the most significant distinction between a dictionary and a list?\n",
    "\n",
    "#### A list is an ordered sequence of objects, whereas dictionaries are unordered sets"
   ]
  },
  {
   "cell_type": "markdown",
   "id": "8b4fd75d",
   "metadata": {},
   "source": [
    "## 4) What happens if you try to access spam['foo'] if spam is {'bar': 100}?\n",
    "\n",
    "#### we get an key error"
   ]
  },
  {
   "cell_type": "markdown",
   "id": "94ef590c",
   "metadata": {},
   "source": [
    "## 5) If a dictionary is stored in spam, what is the difference between the expressions 'cat' in spam and'cat' in spam.keys()?\n",
    "\n",
    "#### 'cat' in spam checks whether there is a 'cat' key in the dictionary"
   ]
  },
  {
   "cell_type": "markdown",
   "id": "18297941",
   "metadata": {},
   "source": [
    "## 6) If a dictionary is stored in spam, what is the difference between the expressions cat' in spam and #cat' in spam.values()?\n",
    "\n",
    "#### 'cat' in spam checks whether there is a 'cat' key in the dictionary, while 'cat' in spam. values() checks whether there is a value 'cat' for one of the keys in spam ."
   ]
  },
  {
   "cell_type": "markdown",
   "id": "73f3451b",
   "metadata": {},
   "source": [
    "## 7)  What is a shortcut for the following code?\n",
    "### if &#39;color&#39; not in spam:\n",
    "### spam[&#39;color&#39;] = &#39;black&#39;\n",
    "#### --->spam.setdefault('color', 'black')"
   ]
  },
  {
   "cell_type": "markdown",
   "id": "c9c7e1b8",
   "metadata": {},
   "source": [
    "## 8) How do you &quot;pretty print; dictionary values using which module and function?\n",
    "\n",
    "####  pprint()"
   ]
  },
  {
   "cell_type": "code",
   "execution_count": 24,
   "id": "a96c7a96",
   "metadata": {},
   "outputs": [],
   "source": [
    "dct_arr = [\n",
    "  {'Name': 'John', 'Age': '23', 'Country': 'USA'},\n",
    "  {'Name': 'Jose', 'Age': '44', 'Country': 'Spain'},\n",
    "  {'Name': 'Anne', 'Age': '29', 'Country': 'UK'},\n",
    "  {'Name': 'Lee', 'Age': '35', 'Country': 'Japan'}\n",
    "]"
   ]
  },
  {
   "cell_type": "code",
   "execution_count": 26,
   "id": "070b4126",
   "metadata": {},
   "outputs": [
    {
     "name": "stdout",
     "output_type": "stream",
     "text": [
      "[{'Age': '23', 'Country': 'USA', 'Name': 'John'},\n",
      " {'Age': '44', 'Country': 'Spain', 'Name': 'Jose'},\n",
      " {'Age': '29', 'Country': 'UK', 'Name': 'Anne'},\n",
      " {'Age': '35', 'Country': 'Japan', 'Name': 'Lee'}]\n"
     ]
    }
   ],
   "source": [
    "\n",
    "import pprint\n",
    "\n",
    "pprint.pprint(dct_arr)"
   ]
  },
  {
   "cell_type": "code",
   "execution_count": 27,
   "id": "49276a1c",
   "metadata": {},
   "outputs": [
    {
     "name": "stdout",
     "output_type": "stream",
     "text": [
      "[{'Name': 'John', 'Age': '23', 'Country': 'USA'}, {'Name': 'Jose', 'Age': '44', 'Country': 'Spain'}, {'Name': 'Anne', 'Age': '29', 'Country': 'UK'}, {'Name': 'Lee', 'Age': '35', 'Country': 'Japan'}]\n"
     ]
    }
   ],
   "source": [
    "print(dct_arr)"
   ]
  },
  {
   "cell_type": "markdown",
   "id": "bc790011",
   "metadata": {},
   "source": [
    "# Part-6"
   ]
  },
  {
   "cell_type": "markdown",
   "id": "17322aeb",
   "metadata": {},
   "source": [
    "## 1) What are escape characters, and how do you use them?\n",
    "\n",
    "#### To insert characters that are illegal in a string"
   ]
  },
  {
   "cell_type": "markdown",
   "id": "0b705f9b",
   "metadata": {},
   "source": [
    "## 2) What do the escape characters n and t stand for?\n",
    "\n",
    "#### \"\\n” is used to create a new line and \"\\t\" is used to create a Tab"
   ]
  },
  {
   "cell_type": "markdown",
   "id": "0cfe0ae5",
   "metadata": {},
   "source": [
    "## 3) What is the way to include backslash characters in a string?\n",
    "\n",
    "####  need to include two backslashes"
   ]
  },
  {
   "cell_type": "markdown",
   "id": "beeb537b",
   "metadata": {},
   "source": [
    "## 4) The string \"Howl's Moving Castle\" is a correct value. Why isn't the single quote character in the word Howl's not escaped a problem?\n",
    "\n",
    "#### used double quotes to mark the beginning and end of the string."
   ]
  },
  {
   "cell_type": "markdown",
   "id": "7edc4a9c",
   "metadata": {},
   "source": [
    "## 5) How do you write a string of newlines if you don't want to use the n character?\n",
    "\n",
    "#### \\n"
   ]
  },
  {
   "cell_type": "markdown",
   "id": "735d3efb",
   "metadata": {},
   "source": [
    "## 6) What are the values of the given expressions?\n",
    "#### 'Hello, world!'[1]      ---> 'H'\n",
    "#### 'Hello, world!'[0:5]    --->  'Hello'\n",
    "#### 'Hello, world!'[:5]      ---> 'world'\n",
    "#### 'Hello, world!'[3:]      ---> 'lo, world!'"
   ]
  },
  {
   "cell_type": "markdown",
   "id": "2ff3182a",
   "metadata": {},
   "source": [
    "## 7) What are the values of the following expressions?\n",
    "#### 'Hello'.upper()         --->  'HELLO'\n",
    "#### 'Hello'.upper().isupper()     ----> True\n",
    "#### 'Hello'.upper().lower() ----> 'hello'"
   ]
  },
  {
   "cell_type": "markdown",
   "id": "723526e6",
   "metadata": {},
   "source": [
    "# 8. What are the values of the following expressions?\n",
    "#### 'Remember, remember, the fifth of July.'.split()\n",
    "####    ---> ['Remember,', 'remember,', 'the', 'fifth', 'of', 'July.']\n",
    "\n",
    "#### '-'.join('There can only one.'.split())\n",
    "####  'There-can-only-one.'\n"
   ]
  },
  {
   "cell_type": "markdown",
   "id": "21284f51",
   "metadata": {},
   "source": [
    "## 9) What are the methods for right-justifying, left-justifying, and centering a string?\n",
    "\n",
    "#### ljust(), rjust(), center()"
   ]
  },
  {
   "cell_type": "markdown",
   "id": "d8f28194",
   "metadata": {},
   "source": [
    "## 10) What is the best way to remove whitespace characters from the start or end?\n",
    "\n",
    "#### Trim()"
   ]
  },
  {
   "cell_type": "markdown",
   "id": "98f58f49",
   "metadata": {},
   "source": [
    "# part-7"
   ]
  },
  {
   "cell_type": "markdown",
   "id": "3db3f499",
   "metadata": {},
   "source": [
    "## 1) What is the name of the feature responsible for generating Regex objects?\n",
    "\n",
    "#### re. compile() function returns Regex objects"
   ]
  },
  {
   "cell_type": "markdown",
   "id": "9ab19cb3",
   "metadata": {},
   "source": [
    "## 2) Why do raw strings often appear in Regex objects?\n",
    "\n",
    "#### Raw strings are used so that backslashes do not have to be escaped"
   ]
  },
  {
   "cell_type": "markdown",
   "id": "3a5afcf8",
   "metadata": {},
   "source": [
    "## 3) What is the return value of the search() method?\n",
    "\n",
    "#### If there is more than one match, only the first occurrence of the match will be returned. If no matches are found, the value None is returned"
   ]
  },
  {
   "cell_type": "markdown",
   "id": "a91b0fef",
   "metadata": {},
   "source": [
    "## 4) From a Match item, how do you get the actual strings that match the pattern?\n",
    "\n",
    "#### If the pattern is found, the search() method returns a Match object, which have a group() method that will return the actual matched text from the searched string."
   ]
  },
  {
   "cell_type": "markdown",
   "id": "f18dd1dd",
   "metadata": {},
   "source": [
    "## 5) In the regex which created from the r&#39;(\\d\\d\\d)-(\\d\\d\\d-\\d\\d\\d\\d)&#39;, what does group zero cover? Group 2? Group 1?\n",
    "\n",
    "#### group(0) ---> ddd-ddd-dddd\n",
    "#### group(1) ---> ddd\n",
    "#### group(2) ---> ddd-dddd"
   ]
  },
  {
   "cell_type": "markdown",
   "id": "79d29438",
   "metadata": {},
   "source": [
    "## 6) In standard expression syntax, parentheses and intervals have distinct meanings. How can you tell a regex that you want it to fit real parentheses and periods?\n",
    "\n",
    "#### Periods and parentheses can be escaped with a backslash: \\ , \\(, and \\ )"
   ]
  },
  {
   "cell_type": "markdown",
   "id": "9628329f",
   "metadata": {},
   "source": [
    "## 7)The findall() method returns a string list or a list of string tuples. What causes it to return one of the two options?\n",
    "\n",
    "#### If the regex has no groups, a list of strings is returned. If the regex has groups, a list of tuples of strings is returned."
   ]
  },
  {
   "cell_type": "markdown",
   "id": "90da9554",
   "metadata": {},
   "source": [
    "## 8. In standard expressions, what does the | character mean?\n",
    "\n",
    "#### The | character signifies matching \"either, or\" between two groups"
   ]
  },
  {
   "cell_type": "markdown",
   "id": "9481167b",
   "metadata": {},
   "source": [
    "## 9) In regular expressions, what does the character stand for?\n",
    "\n",
    "#### A word character is a letter, a number, or an underscore"
   ]
  },
  {
   "cell_type": "markdown",
   "id": "8b1b8655",
   "metadata": {},
   "source": [
    "## 10) In regular expressions, what is the difference between the + and * characters?\n",
    "\n",
    "#### The + matches one or more. The * matches zero or more"
   ]
  },
  {
   "cell_type": "markdown",
   "id": "55d3c349",
   "metadata": {},
   "source": [
    "## 11) What is the difference between {4} and {4,5} in regular expression?\n",
    "\n",
    "#### {4} ---> matches oly 4 char\n",
    "#### {4,5}----> matches 4 char and 5 char"
   ]
  },
  {
   "cell_type": "markdown",
   "id": "6251fade",
   "metadata": {},
   "source": [
    "## 12) What do you mean by the \\d, \\w, and \\s shorthand character classes signify in regular expressions?\n",
    "\n",
    "#### \\d, \\w, and \\s shorthand character classes match a single digit, word, or space character, respectively."
   ]
  },
  {
   "cell_type": "markdown",
   "id": "038777c5",
   "metadata": {},
   "source": [
    "## 14) What is the difference between .*? and .*?\n",
    "\n",
    "#### (.*?) matches any character ( . ) any number of times ( * ), as few times as possible to make the regex match"
   ]
  },
  {
   "cell_type": "markdown",
   "id": "103bdb04",
   "metadata": {},
   "source": [
    "## 15) What is the syntax for matching both numbers and lowercase letters with a character class?\n",
    "\n",
    "#### [0-9a-z] "
   ]
  },
  {
   "cell_type": "markdown",
   "id": "3c1f92c3",
   "metadata": {},
   "source": [
    "## 16) What is the procedure for making a normal expression in regax case insensitive?\n",
    "\n",
    "####  re.IGNORECASE"
   ]
  },
  {
   "cell_type": "markdown",
   "id": "80fb8f2b",
   "metadata": {},
   "source": [
    "## 17) What does the . character normally match? What does it match if re.DOTALL is passed as 2nd argument in re.compile()?\n",
    "\n",
    "#### character normally matches any character except the newline character. If re. DOTALL is passed as the second argument to re. compile(), then the dot will also match newline characters."
   ]
  },
  {
   "cell_type": "markdown",
   "id": "350c480c",
   "metadata": {},
   "source": [
    "## 18) If numReg = re.compile(r&#39;\\d+&#39;), what will numRegex.sub(&#39;X&#39;, &#39;11 drummers, 10 pipers, five rings, 4 hen&#39;) return?\n",
    "\n",
    "#### ('X', 4 hen)"
   ]
  },
  {
   "cell_type": "markdown",
   "id": "4e90ddd3",
   "metadata": {},
   "source": [
    "## 19) What does passing re.VERBOSE as the 2nd argument to re.compile() allow to do?\n",
    "\n",
    "#### allows to add whitespace and comments to the string passed to re"
   ]
  },
  {
   "cell_type": "markdown",
   "id": "1095ceda",
   "metadata": {},
   "source": [
    "## 20) How would you write a regex that match a number with comma for every three digits? It must match the given following:\n",
    "### &#39;42&#39;\n",
    "### &#39;1,234&#39;\n",
    "### &#39;6,368,745&#39;\n",
    "\n",
    "### but not the following:\n",
    "### &#39;12,34,567&#39; (which has only two digits between the commas)\n",
    "### &#39;1234&#39; (which lacks commas)\n",
    "\n",
    "#### ---> (^\\d+(,\\d{3})*$)"
   ]
  },
  {
   "cell_type": "raw",
   "id": "fd609841",
   "metadata": {},
   "source": [
    "\n",
    "21. How would you write a regex that matches the full name of someone whose last name is\n",
    "Watanabe? You can assume that the first name that comes before it will always be one word that\n",
    "begins with a capital letter. The regex must match the following:\n",
    "&#39;Haruto Watanabe&#39;\n",
    "&#39;Alice Watanabe&#39;\n",
    "&#39;RoboCop Watanabe&#39;\n",
    "but not the following:\n",
    "&#39;haruto Watanabe&#39; (where the first name is not capitalized)\n",
    "&#39;Mr. Watanabe&#39; (where the preceding word has a nonletter character)\n",
    "&#39;Watanabe&#39; (which has no first name)\n",
    "&#39;Haruto watanabe&#39; (where Watanabe is not capitalized)\n",
    "\n",
    "-----> (r'\\b[A-Z][a-zA-Z]+\\sNakamoto')"
   ]
  },
  {
   "cell_type": "raw",
   "id": "4c789448",
   "metadata": {},
   "source": [
    "22. How would you write a regex that matches a sentence where the first word is either Alice, Bob,\n",
    "or Carol; the second word is either eats, pets, or throws; the third word is apples, cats, or baseballs;\n",
    "and the sentence ends with a period? This regex should be case-insensitive. It must match the\n",
    "following:\n",
    "&#39;Alice eats apples.&#39;\n",
    "&#39;Bob pets cats.&#39;\n",
    "&#39;Carol throws baseballs.&#39;\n",
    "&#39;Alice throws Apples.&#39;\n",
    "&#39;BOB EATS CATS.&#39;\n",
    "but not the following:\n",
    "&#39;RoboCop eats apples.&#39;\n",
    "&#39;ALICE THROWS FOOTBALLS.&#39;\n",
    "&#39;Carol eats 7 cats.&#39;\n",
    "\n",
    "\n",
    "----> "
   ]
  },
  {
   "cell_type": "markdown",
   "id": "2940276e",
   "metadata": {},
   "source": [
    "# PART-8"
   ]
  },
  {
   "cell_type": "code",
   "execution_count": null,
   "id": "5a9d1d47",
   "metadata": {},
   "outputs": [],
   "source": []
  },
  {
   "cell_type": "raw",
   "id": "3be4b61c",
   "metadata": {},
   "source": [
    "1. Is the Python Standard Library included with PyInputPlus?\n",
    "\n",
    "-->PyInputPlus is not a part of the Python Standard Library, so you must install it separately using Pip"
   ]
  },
  {
   "cell_type": "raw",
   "id": "a260290a",
   "metadata": {},
   "source": [
    "2. Why is PyInputPlus commonly imported with import pyinputplus as pypi?\n",
    "\n",
    "---> we can use the shorter pyip name."
   ]
  },
  {
   "cell_type": "raw",
   "id": "3db9313a",
   "metadata": {},
   "source": [
    "3. How do you distinguish between inputInt() and inputFloat()?\n",
    "\n",
    "---> inputInt() : Accepts an integer value Returns an int. \n",
    "    inputFloat() : Accepts a floating-point numeric value."
   ]
  },
  {
   "cell_type": "raw",
   "id": "09994bdb",
   "metadata": {},
   "source": [
    "4. Using PyInputPlus, how do you ensure that the user enters a whole number between 0 and 99?\n",
    "\n",
    "---> pyip.inputNum('>', min=0, lessThan=100)"
   ]
  },
  {
   "cell_type": "raw",
   "id": "f6c3aee4",
   "metadata": {},
   "source": [
    "5. What is transferred to the keyword arguments allowRegexes and blockRegexes?\n",
    "\n",
    "---> can also use regular expressions to specify whether an input is allowed or not. The allowRegexes and blockRegexes keyword arguments take a list of regular expression strings to determine what the PyInputPlus function will accept or reject as valid input"
   ]
  },
  {
   "cell_type": "raw",
   "id": "08806998",
   "metadata": {},
   "source": [
    "6. If a blank input is entered three times, what does inputStr(limit=3) do?\n",
    "---> function to stop asking the user for input after a certain number of tries or a certain amount of time"
   ]
  },
  {
   "cell_type": "raw",
   "id": "f14eed97",
   "metadata": {},
   "source": [
    "7. If blank input is entered three times, what does inputStr(limit=3, default=&#39;hello&#39;) do?\n",
    "                                                             \n",
    "---> will print hello"
   ]
  },
  {
   "cell_type": "markdown",
   "id": "87d715c0",
   "metadata": {},
   "source": [
    "# Part - 9"
   ]
  },
  {
   "cell_type": "raw",
   "id": "9664d44c",
   "metadata": {},
   "source": [
    "1) To what does a relative path refer?\n",
    "\n",
    "--> Alternatively referred to as a partial path or non-absolute path, a relative path is a URL that only contains a portion of the full path. Its complete location is based on its relation to the directory where it is linking"
   ]
  },
  {
   "cell_type": "raw",
   "id": "78b62373",
   "metadata": {},
   "source": [
    "2) What does an absolute path start with your operating system?\n",
    "\n",
    "--> An absolute path refers to the complete details needed to locate a file or folder, starting from the root element and ending with the other subdirectories"
   ]
  },
  {
   "cell_type": "raw",
   "id": "01ba27b2",
   "metadata": {},
   "source": [
    "3) What do the functions os.getcwd() and os.chdir() do?\n",
    "\n",
    "--> a) getcwd() : CWD stands for Current Working Directory. This function allows you to see what your current working directory is. \n",
    "    b) chdir(\"path-to-dir\") : Short for Change Directory, this function allows you to set the current working directory to a path of choice."
   ]
  },
  {
   "cell_type": "raw",
   "id": "2849650d",
   "metadata": {},
   "source": [
    "4) What are the . and .. folders?\n",
    "\n",
    "--> The .. shortcut allows to refer to the parent of a directory with directory/.., its grandparent using directory/../.. and so on.\n",
    "\n",
    "--> The . shortcut allows  to explicitly refer to the current directory, in cases where an application requires to specify a directory (or directories) to search in and want to search in the current directory."
   ]
  },
  {
   "cell_type": "raw",
   "id": "b216c492",
   "metadata": {},
   "source": [
    "5) In C:\\bacon\\eggs\\spam.txt, which part is the dir name, and which part is the base name?\n",
    "\n",
    "--> C:\\bacon\\eggs is the dir name, while spam.txt is the base name."
   ]
  },
  {
   "cell_type": "raw",
   "id": "eac333a4",
   "metadata": {},
   "source": [
    "6) What are the three “mode” arguments that can be passed to the open() function?\n",
    "\n",
    "--> The string 'r' for read mode, 'w' for write mode, and 'a' for append mode"
   ]
  },
  {
   "cell_type": "raw",
   "id": "b617c4af",
   "metadata": {},
   "source": [
    "7) What happens if an existing file is opened in write mode?\n",
    "\n",
    "--> An existing file opened in write mode is erased and completely overwritten."
   ]
  },
  {
   "cell_type": "raw",
   "id": "919843d9",
   "metadata": {},
   "source": [
    "8) How do you tell the difference between read() and readlines()?\n",
    "\n",
    "--> The read() method returns the file's entire contents as a single string value. The readlines() method returns a list of strings, where each string is a line from the file's contents."
   ]
  },
  {
   "cell_type": "raw",
   "id": "9d3bd690",
   "metadata": {},
   "source": [
    "9. What data structure does a shelf value resemble?\n",
    "\n",
    "--> A shelf value resembles a dictionary value; it has keys and values, along with keys() and values() methods that work similarly to the dictionary methods of the same names"
   ]
  },
  {
   "cell_type": "code",
   "execution_count": null,
   "id": "079b30dc",
   "metadata": {},
   "outputs": [],
   "source": []
  },
  {
   "cell_type": "code",
   "execution_count": null,
   "id": "4420288b",
   "metadata": {},
   "outputs": [],
   "source": []
  }
 ],
 "metadata": {
  "kernelspec": {
   "display_name": "Python 3",
   "language": "python",
   "name": "python3"
  },
  "language_info": {
   "codemirror_mode": {
    "name": "ipython",
    "version": 3
   },
   "file_extension": ".py",
   "mimetype": "text/x-python",
   "name": "python",
   "nbconvert_exporter": "python",
   "pygments_lexer": "ipython3",
   "version": "3.8.8"
  },
  "widgets": {
   "application/vnd.jupyter.widget-state+json": {
    "state": {},
    "version_major": 2,
    "version_minor": 0
   }
  }
 },
 "nbformat": 4,
 "nbformat_minor": 5
}
