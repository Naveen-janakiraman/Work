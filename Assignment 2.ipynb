{
 "cells": [
  {
   "cell_type": "markdown",
   "id": "26f9584e",
   "metadata": {},
   "source": [
    "# Part-17"
   ]
  },
  {
   "cell_type": "raw",
   "id": "65d4d953",
   "metadata": {},
   "source": [
    "1) Assign the value 7 to the variable guess_me. Then, write the conditional tests (if, else, and elif) to\n",
    "print the string 'too low'; if guess_me is less than 7, 'too high'; if greater than 7, and 'just right'; if equal\n",
    "to 7.\n",
    "\n",
    "---> guess_me = 7\n",
    "    if guess_me>7:\n",
    "        'too high'\n",
    "    elif guess_me<7:\n",
    "        'too low'\n",
    "    elif guess_me=7:\n",
    "        'just right'"
   ]
  },
  {
   "cell_type": "raw",
   "id": "ec94c076",
   "metadata": {},
   "source": [
    "2) Assign the value 7 to the variable guess_me and the value 1 to the variable start. Write a while\n",
    "loop that compares start with guess_me. Print 'too low' if start is less than guess me. If start equals\n",
    "guess_me, print 'found it' and exit the loop. If start is greater than guess_me, print 'oops' and exit\n",
    "the loop. Increment start at the end of the loop.\n",
    "\n",
    "--->  \n",
    "guess_me = 7\n",
    "start=9\n",
    "while start!=guess_me: \n",
    "    if start<guess_me:\n",
    "        print('Too Low')\n",
    "        break\n",
    "    elif start>guess_me:\n",
    "        print('OOPS')\n",
    "        break\n",
    "else:    \n",
    "    print('found it')        "
   ]
  },
  {
   "cell_type": "raw",
   "id": "9f96a6b8",
   "metadata": {},
   "source": [
    "3) Print the following values of the list [3, 2, 1, 0] using a for loop.\n",
    "\n",
    "---> \n",
    "list=[3, 2, 1, 0]\n",
    "for i in list:\n",
    "    print(i)"
   ]
  },
  {
   "cell_type": "raw",
   "id": "5aa4ca91",
   "metadata": {},
   "source": [
    "4) Use a list comprehension to make a list of the even numbers in range(10)\n",
    "\n",
    "--> \n",
    "[i for i in range(1,10) if i%2==0]\n",
    "\n",
    "[2, 4, 6, 8]"
   ]
  },
  {
   "cell_type": "raw",
   "id": "3d619d27",
   "metadata": {},
   "source": [
    "5) Use a dictionary comprehension to create the dictionary squares. Use range(10) to return the\n",
    "keys, and use the square of each key as its value.\n",
    "\n",
    "--->\n",
    "\n",
    "{i:i*i for i in range(10)}\n",
    "\n",
    "{0: 0, 1: 1, 2: 4, 3: 9, 4: 16, 5: 25, 6: 36, 7: 49, 8: 64, 9: 81}"
   ]
  },
  {
   "cell_type": "raw",
   "id": "ca0d5f74",
   "metadata": {},
   "source": [
    "6) Construct the set odd from the odd numbers in the range using a set comprehension (10).\n",
    "\n",
    "---> \n",
    "{i for i in range(1,10) if i%2!=0}\n",
    "\n",
    "{1, 3, 5, 7, 9}"
   ]
  },
  {
   "cell_type": "raw",
   "id": "b858e8bd",
   "metadata": {},
   "source": [
    "7) Use a generator comprehension to return the string 'Got' and a number for the numbers in\n",
    "range(10). Iterate through this by using a for loop.\n",
    "\n",
    "---> \n",
    "str_gen=['Got '+str(num) for num in range(10)]\n",
    "for i in str_gen:\n",
    "    print(i)\n"
   ]
  },
  {
   "cell_type": "raw",
   "id": "2223a5c1",
   "metadata": {},
   "source": [
    "8) Define a function called good that returns the list ['Harry', 'Ron', 'Hermione'].\n",
    "\n",
    "---> \n",
    "list=['Harry', 'Ron', 'Hermione']\n",
    "def good():\n",
    "    return list"
   ]
  },
  {
   "cell_type": "raw",
   "id": "bdaf855e",
   "metadata": {},
   "source": [
    "9) Define a generator function called get_odds that returns the odd numbers from range(10). Use a\n",
    "for loop to find and print the third value returned.\n",
    "\n",
    "---> \n",
    "\n",
    "def get_odds():\n",
    "    odds=[i for i in range(10) if i%2!=0]\n",
    "    return odds\n",
    "\n",
    "for i in get_odds():\n",
    "    print(i)"
   ]
  },
  {
   "cell_type": "raw",
   "id": "339967c3",
   "metadata": {},
   "source": [
    "10) Define an exception called OopsException. Raise this exception to see what happens. Then write\n",
    "the code to catch this exception and print 'Caught an oops'.\n",
    "\n",
    "---> \n",
    "\n",
    "class OopsException():\n",
    "    pass\n",
    "\n",
    "def with_exception(a):\n",
    "    if a < 0:\n",
    "        raise OopsException(a)\n",
    "        \n",
    "try:\n",
    "    with_exception(-1)\n",
    "except OopsException as err:\n",
    "    print('Caught an oops')\n",
    "\n"
   ]
  },
  {
   "cell_type": "code",
   "execution_count": 39,
   "id": "8f5fac05",
   "metadata": {},
   "outputs": [
    {
     "name": "stdout",
     "output_type": "stream",
     "text": [
      "start\n",
      "16\n",
      "end\n"
     ]
    }
   ],
   "source": [
    "def test(func):\n",
    "    def nested_function(*args, **kwargs):\n",
    "        print('start')\n",
    "        result = func(*args, **kwargs)\n",
    "        print('end')\n",
    "        return result\n",
    "    return nested_function\n",
    "\n",
    "@test\n",
    "def add(a, b):\n",
    "    print(a + b)\n",
    "\n",
    "add(12,4)"
   ]
  },
  {
   "cell_type": "code",
   "execution_count": 52,
   "id": "90139a8b",
   "metadata": {},
   "outputs": [],
   "source": [
    "class OopsException(Exception):\n",
    "    pass\n",
    "\n",
    "def with_exception(a):\n",
    "    if a < 0:\n",
    "        raise OopsException(a)\n",
    "        \n"
   ]
  },
  {
   "cell_type": "code",
   "execution_count": 53,
   "id": "ea804fbb",
   "metadata": {},
   "outputs": [
    {
     "name": "stdout",
     "output_type": "stream",
     "text": [
      "Caught an oops\n"
     ]
    }
   ],
   "source": [
    "try:\n",
    "    with_exception(-1)\n",
    "except OopsException as err:\n",
    "    print('Caught an oops')"
   ]
  },
  {
   "cell_type": "raw",
   "id": "34151baa",
   "metadata": {},
   "source": [
    "11) Use zip() to make a dictionary called movies that pairs these lists: titles = ['Creature of Habit',\n",
    "'Crewel Fate'] and plots = ['A nun turns into a monster', 'A haunted yarn shop'].\n",
    "    \n",
    "--- > \n",
    "titles = ['Creature of Habit','Crewel Fate']\n",
    "plots = ['A nun turns into a monster', 'A haunted yarn shop']\n",
    "\n",
    "movies={}\n",
    "for title,plots in zip(titles,plots):\n",
    "    movies['title']=plots\n",
    "            \n"
   ]
  },
  {
   "cell_type": "code",
   "execution_count": 55,
   "id": "2ff00010",
   "metadata": {},
   "outputs": [],
   "source": []
  },
  {
   "cell_type": "code",
   "execution_count": null,
   "id": "2d81b2f8",
   "metadata": {},
   "outputs": [],
   "source": []
  },
  {
   "cell_type": "code",
   "execution_count": null,
   "id": "5c9f5f54",
   "metadata": {},
   "outputs": [],
   "source": []
  }
 ],
 "metadata": {
  "kernelspec": {
   "display_name": "Python 3",
   "language": "python",
   "name": "python3"
  },
  "language_info": {
   "codemirror_mode": {
    "name": "ipython",
    "version": 3
   },
   "file_extension": ".py",
   "mimetype": "text/x-python",
   "name": "python",
   "nbconvert_exporter": "python",
   "pygments_lexer": "ipython3",
   "version": "3.8.8"
  }
 },
 "nbformat": 4,
 "nbformat_minor": 5
}
