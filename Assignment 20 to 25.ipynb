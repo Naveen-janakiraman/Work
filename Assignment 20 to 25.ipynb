{
 "cells": [
  {
   "cell_type": "markdown",
   "id": "311abc76",
   "metadata": {},
   "source": [
    "# Part-20"
   ]
  },
  {
   "cell_type": "raw",
   "id": "3f8415d5",
   "metadata": {},
   "source": [
    "1) Set the variable test1 to the string 'This is a test of the emergency text system,' and save test1 to a file named test.txt.\n",
    "\n",
    "---> \n",
    "test1 = 'This is a test of the emergency text system'\n",
    "len(test1)\n",
    "\n",
    "with open('test.txt', 'wt') as outfile:\n",
    "    outfile.write(test1)\n",
    "\n",
    "outfile.close()\n",
    "\n"
   ]
  },
  {
   "cell_type": "raw",
   "id": "5bac3953",
   "metadata": {},
   "source": [
    "2) Read the contents of the file test.txt into the variable test2. Is there a difference between test 1 and test 2?\n",
    "\n",
    "-->\n",
    "\n",
    "with open('test.txt', 'rt') as infile:\n",
    "    test2 = infile.read()\n",
    "len(test2)\n",
    "\n",
    "test1 == test2"
   ]
  },
  {
   "cell_type": "raw",
   "id": "06490499",
   "metadata": {},
   "source": [
    "3) Create a CSV file called books.csv by using these lines:\n",
    "\n",
    "title,author,year\n",
    "\n",
    "The Weirdstone of Brisingamen,Alan Garner,1960\n",
    "\n",
    "Perdido Street Station,China Miéville,2000\n",
    "\n",
    "Thud!,Terry Pratchett,2005\n",
    "\n",
    "The Spellman Files,Lisa Lutz,2007\n",
    "\n",
    "Small Gods,Terry Pratchett,1992\n",
    "\n",
    "---> \n",
    "text = '''title,author,year\n",
    "The Weirdstone of Brisingamen,Alan Garner,1960\n",
    "Perdido Street Station,China Miéville,2000\n",
    "Thud!,Terry Pratchett,2005\n",
    "The Spellman Files,Lisa Lutz,2007\n",
    "Small Gods,Terry Pratchett,1992\n",
    "'''\n",
    "with open('books.csv', 'wt') as outfile:\n",
    "    outfile.write(text)"
   ]
  },
  {
   "cell_type": "raw",
   "id": "19c34f93",
   "metadata": {},
   "source": [
    "4) Use the sqlite3 module to create a SQLite database called books.db, and a table called books with these fields: title (text), author (text), and year (integer).\n",
    "\n",
    "--> \n",
    "\n",
    "\n",
    "import sqlite3\n",
    "db = sqlite3.connect('books.db')\n",
    "curs = db.cursor()\n",
    "curs.execute('''create table book (title text, author text, year int)''')\n",
    "\n",
    "\n",
    "db.commit()"
   ]
  },
  {
   "cell_type": "raw",
   "id": "7d35523e",
   "metadata": {},
   "source": [
    "5) Read books.csv and insert its data into the book table.\n",
    "\n",
    "---> \n",
    "import csv\n",
    "import sqlite3\n",
    "ins_str = 'insert into book values(?, ?, ?)'\n",
    "with open('books.csv', 'rt') as infile:\n",
    "    books = csv.DictReader(infile)\n",
    "    for book in books:\n",
    "        curs.execute(ins_str, (book['title'], book['author'], book['year']))\n"
   ]
  },
  {
   "cell_type": "raw",
   "id": "14adb904",
   "metadata": {},
   "source": [
    "6) Select and print the title column from the book table in alphabetical order.\n",
    "\n",
    "--> \n",
    "\n",
    "\n",
    "\n",
    "sql = 'select title from book order by title asc'\n",
    "for row in db.execute(sql):\n",
    "    print(row)\n",
    "\n",
    "for row in db.execute(sql):\n",
    "    print(row[0])\n",
    "\n"
   ]
  },
  {
   "cell_type": "raw",
   "id": "6c63eaf6",
   "metadata": {},
   "source": [
    "7) From the book table, select and print all columns in the order of publication.\n",
    "\n",
    "--> \n",
    "for row in db.execute('select * from book order by year'):\n",
    "    print(row)\n",
    "\n",
    "for row in db.execute('select * from book order by year'):\n",
    "    print(*row, sep=', ')\n",
    "\n"
   ]
  },
  {
   "cell_type": "raw",
   "id": "5e3b7e9c",
   "metadata": {},
   "source": [
    "8)Use the sqlalchemy module to connect to the sqlite3 database books.db that you just made in exercise 6.\n",
    "\n",
    "--> \n",
    "import sqlalchemy\n",
    "conn = sqlalchemy.create_engine('sqlite:///books.db')\n",
    "sql = 'select title from book order by title asc'\n",
    "rows = conn.execute(sql)\n",
    "for row in rows:\n",
    "    print(row)"
   ]
  },
  {
   "cell_type": "raw",
   "id": "5d9062bd",
   "metadata": {},
   "source": [
    "9) Install the Redis server and the Python redis library (pip install redis) on your computer. Create a Redis hash called test with the fields count (1) and name ('Fester Bestertester'). Print all the fields for test.\n",
    "\n",
    "---> \n",
    "\n",
    "import redis\n",
    "conn = redis.Redis()\n",
    "conn.delete('test')\n",
    "\n",
    "conn.hmset('test', {'count': 1, 'name': 'Fester Bestertester'})\n",
    "\n",
    "conn.hgetall('test')\n",
    "\n"
   ]
  },
  {
   "cell_type": "raw",
   "id": "cfab5296",
   "metadata": {},
   "source": [
    "10)Increment the count field of test and print it.\n",
    "\n",
    "--> \n",
    "conn.hincrby('test', 'count', 3)\n",
    "\n",
    "conn.hget('test', 'count')\n"
   ]
  },
  {
   "cell_type": "raw",
   "id": "906d6ebf",
   "metadata": {},
   "source": []
  },
  {
   "cell_type": "raw",
   "id": "60e3a3ea",
   "metadata": {},
   "source": []
  },
  {
   "cell_type": "raw",
   "id": "d5831ed4",
   "metadata": {},
   "source": []
  },
  {
   "cell_type": "raw",
   "id": "3b2dc9ee",
   "metadata": {},
   "source": []
  },
  {
   "cell_type": "raw",
   "id": "f3288e87",
   "metadata": {},
   "source": []
  },
  {
   "cell_type": "raw",
   "id": "8d26d658",
   "metadata": {},
   "source": []
  },
  {
   "cell_type": "raw",
   "id": "bae93316",
   "metadata": {},
   "source": []
  },
  {
   "cell_type": "raw",
   "id": "0cbf9a0f",
   "metadata": {},
   "source": []
  },
  {
   "cell_type": "raw",
   "id": "fc27abe1",
   "metadata": {},
   "source": []
  },
  {
   "cell_type": "raw",
   "id": "cd68e306",
   "metadata": {},
   "source": []
  }
 ],
 "metadata": {
  "kernelspec": {
   "display_name": "Python 3",
   "language": "python",
   "name": "python3"
  },
  "language_info": {
   "codemirror_mode": {
    "name": "ipython",
    "version": 3
   },
   "file_extension": ".py",
   "mimetype": "text/x-python",
   "name": "python",
   "nbconvert_exporter": "python",
   "pygments_lexer": "ipython3",
   "version": "3.8.8"
  }
 },
 "nbformat": 4,
 "nbformat_minor": 5
}
