{
 "cells": [
  {
   "cell_type": "markdown",
   "id": "a102f66f",
   "metadata": {},
   "source": [
    "# Part-20"
   ]
  },
  {
   "cell_type": "markdown",
   "id": "bc24946d",
   "metadata": {},
   "source": [
    "1) Set the variable test1 to the string 'This is a test of the emergency text system,' and save test1 to a file named test.txt.\n",
    "\n",
    "---> \n",
    "test1 = 'This is a test of the emergency text system'\n",
    "len(test1)\n",
    "\n",
    "with open('test.txt', 'wt') as outfile:\n",
    "    outfile.write(test1)\n",
    "\n",
    "outfile.close()\n",
    "\n"
   ]
  },
  {
   "cell_type": "markdown",
   "id": "7f1b7b22",
   "metadata": {},
   "source": [
    "2) Read the contents of the file test.txt into the variable test2. Is there a difference between test 1 and test 2?\n",
    "\n",
    "-->\n",
    "\n",
    "with open('test.txt', 'rt') as infile:\n",
    "    test2 = infile.read()\n",
    "len(test2)\n",
    "\n",
    "test1 == test2"
   ]
  },
  {
   "cell_type": "markdown",
   "id": "64ebbb80",
   "metadata": {},
   "source": [
    "3) Create a CSV file called books.csv by using these lines:\n",
    "\n",
    "title,author,year\n",
    "\n",
    "The Weirdstone of Brisingamen,Alan Garner,1960\n",
    "\n",
    "Perdido Street Station,China Miéville,2000\n",
    "\n",
    "Thud!,Terry Pratchett,2005\n",
    "\n",
    "The Spellman Files,Lisa Lutz,2007\n",
    "\n",
    "Small Gods,Terry Pratchett,1992\n",
    "\n",
    "---> \n",
    "text = '''title,author,year\n",
    "The Weirdstone of Brisingamen,Alan Garner,1960\n",
    "Perdido Street Station,China Miéville,2000\n",
    "Thud!,Terry Pratchett,2005\n",
    "The Spellman Files,Lisa Lutz,2007\n",
    "Small Gods,Terry Pratchett,1992\n",
    "'''\n",
    "with open('books.csv', 'wt') as outfile:\n",
    "    outfile.write(text)"
   ]
  },
  {
   "cell_type": "markdown",
   "id": "16049b65",
   "metadata": {},
   "source": [
    "4) Use the sqlite3 module to create a SQLite database called books.db, and a table called books with these fields: title (text), author (text), and year (integer).\n",
    "\n",
    "--> \n",
    "\n",
    "\n",
    "import sqlite3\n",
    "db = sqlite3.connect('books.db')\n",
    "curs = db.cursor()\n",
    "curs.execute('''create table book (title text, author text, year int)''')\n",
    "\n",
    "\n",
    "db.commit()"
   ]
  },
  {
   "cell_type": "markdown",
   "id": "0470b28a",
   "metadata": {},
   "source": [
    "5) Read books.csv and insert its data into the book table.\n",
    "\n",
    "---> \n",
    "import csv\n",
    "import sqlite3\n",
    "ins_str = 'insert into book values(?, ?, ?)'\n",
    "with open('books.csv', 'rt') as infile:\n",
    "    books = csv.DictReader(infile)\n",
    "    for book in books:\n",
    "        curs.execute(ins_str, (book['title'], book['author'], book['year']))\n"
   ]
  },
  {
   "cell_type": "markdown",
   "id": "209adb5b",
   "metadata": {},
   "source": [
    "6) Select and print the title column from the book table in alphabetical order.\n",
    "\n",
    "--> \n",
    "\n",
    "\n",
    "\n",
    "sql = 'select title from book order by title asc'\n",
    "for row in db.execute(sql):\n",
    "    print(row)\n",
    "\n",
    "for row in db.execute(sql):\n",
    "    print(row[0])\n",
    "\n"
   ]
  },
  {
   "cell_type": "markdown",
   "id": "7a62ccbf",
   "metadata": {},
   "source": [
    "7) From the book table, select and print all columns in the order of publication.\n",
    "\n",
    "--> \n",
    "for row in db.execute('select * from book order by year'):\n",
    "    print(row)\n",
    "\n",
    "for row in db.execute('select * from book order by year'):\n",
    "    print(*row, sep=', ')\n",
    "\n"
   ]
  },
  {
   "cell_type": "markdown",
   "id": "1237afaf",
   "metadata": {},
   "source": [
    "8)Use the sqlalchemy module to connect to the sqlite3 database books.db that you just made in exercise 6.\n",
    "\n",
    "--> \n",
    "import sqlalchemy\n",
    "conn = sqlalchemy.create_engine('sqlite:///books.db')\n",
    "sql = 'select title from book order by title asc'\n",
    "rows = conn.execute(sql)\n",
    "for row in rows:\n",
    "    print(row)"
   ]
  },
  {
   "cell_type": "markdown",
   "id": "baee6678",
   "metadata": {},
   "source": [
    "9) Install the Redis server and the Python redis library (pip install redis) on your computer. Create a Redis hash called test with the fields count (1) and name ('Fester Bestertester'). Print all the fields for test.\n",
    "\n",
    "---> \n",
    "\n",
    "import redis\n",
    "conn = redis.Redis()\n",
    "conn.delete('test')\n",
    "\n",
    "conn.hmset('test', {'count': 1, 'name': 'Fester Bestertester'})\n",
    "\n",
    "conn.hgetall('test')\n",
    "\n"
   ]
  },
  {
   "cell_type": "markdown",
   "id": "1ec14e12",
   "metadata": {},
   "source": [
    "10)Increment the count field of test and print it.\n",
    "\n",
    "--> \n",
    "conn.hincrby('test', 'count', 3)\n",
    "\n",
    "conn.hget('test', 'count')\n"
   ]
  },
  {
   "cell_type": "markdown",
   "id": "92883f97",
   "metadata": {},
   "source": []
  },
  {
   "cell_type": "markdown",
   "id": "a03d6d73",
   "metadata": {},
   "source": [
    "# Part-21"
   ]
  },
  {
   "cell_type": "markdown",
   "id": "88f50d46",
   "metadata": {},
   "source": [
    "1) Add the current date to the text file today.txt as a string.\n",
    "\n",
    "--> \n",
    "from datetime import date\n",
    "now = date.today()\n",
    "now_str = now.isoformat()\n",
    "with open('today.txt', 'wt') as output:\n",
    "    print(now_str, file=output)"
   ]
  },
  {
   "cell_type": "markdown",
   "id": "3f3ba43c",
   "metadata": {},
   "source": [
    "2) Read the text file today.txt into the string today_string\n",
    "\n",
    "--> \n",
    "\n",
    "with open('today.txt', 'rt') as input:\n",
    "    today_string = input.read()\n",
    "    \n",
    "today_string"
   ]
  },
  {
   "cell_type": "markdown",
   "id": "b78cdb19",
   "metadata": {},
   "source": [
    "3) Parse the date from today_string.\n",
    "\n",
    "--> \n",
    "from datetime import datetime\n",
    "fmt = '%Y-%m-%d\\n'\n",
    "datetime.strptime(today_string, fmt)\n"
   ]
  },
  {
   "cell_type": "markdown",
   "id": "a5606f02",
   "metadata": {},
   "source": [
    "4) List the files in your current directory\n",
    "\n",
    "-->\n",
    "\n",
    "import os\n",
    "os.listdir('.')\n"
   ]
  },
  {
   "cell_type": "markdown",
   "id": "72b58755",
   "metadata": {},
   "source": [
    "5) Create a list of all of the files in your parent directory (minimum five files should be available).\n",
    "\n",
    "--> \n",
    "\n",
    "os.listdir('..')\n"
   ]
  },
  {
   "cell_type": "markdown",
   "id": "638d3868",
   "metadata": {},
   "source": [
    "6) Use multiprocessing to create three separate processes. Make each one wait a random number of seconds between one and five, print the current time, and then exit.\n",
    "\n",
    "--->\n",
    "!python multi_process.py"
   ]
  },
  {
   "cell_type": "markdown",
   "id": "7609a913",
   "metadata": {},
   "source": [
    "7)Create a date object of your day of birth.\n",
    "\n",
    "---> \n",
    "my_day = date(1996, 8, 10)\n",
    "my_day"
   ]
  },
  {
   "cell_type": "markdown",
   "id": "318c9325",
   "metadata": {},
   "source": [
    "8)What day of the week was your day of birth?\n",
    "\n",
    "---> \n",
    "With weekday(), Monday is 0 and Sunday is 6. With isoweekday(), Monday is 1 and Sunday is 7. Therefore, this date is a Saturday."
   ]
  },
  {
   "cell_type": "markdown",
   "id": "f257c6af",
   "metadata": {},
   "source": [
    "9)When will you be (or when were you) 10,000 days old\n",
    "\n",
    "--->\n",
    "from datetime import timedelta\n",
    "ten_thousand = my_day + timedelta(days=10000)\n",
    "ten_thousand\n"
   ]
  },
  {
   "cell_type": "markdown",
   "id": "f81dcb33",
   "metadata": {},
   "source": []
  },
  {
   "cell_type": "markdown",
   "id": "f355b40e",
   "metadata": {},
   "source": [
    "# Part- 22"
   ]
  },
  {
   "cell_type": "markdown",
   "id": "1dd1069d",
   "metadata": {},
   "source": [
    "1) What is the result of the code, and explain?\n",
    "\n",
    "X = 'iNeuron'\n",
    "\n",
    "def func():\n",
    "\n",
    "print(X)\n",
    "\n",
    "func()\n",
    "\n",
    "--->\n",
    "The line, func() Call the function we defined which prints the value of X.\n"
   ]
  },
  {
   "cell_type": "markdown",
   "id": "b3337316",
   "metadata": {},
   "source": [
    "2) What is the result of the code, and explain?\n",
    "\n",
    "X = 'iNeuron'\n",
    "\n",
    "def func():\n",
    "\n",
    "X = 'NI!'\n",
    "\n",
    "func()\n",
    "\n",
    "print(X)\n",
    "\n",
    "\n",
    "--->\n",
    "    The line, func() Call the function we defined, with \"NI\" as the value of X inside the funtion, but doesn't prints it, as there is no print statement inside the function.\n",
    "\n",
    "    The line, print(X), prints the value of X, which is \"iNeuron\", which is outside func().\n",
    "\n"
   ]
  },
  {
   "cell_type": "markdown",
   "id": "bb4d64d5",
   "metadata": {},
   "source": [
    "3)What does this code print, and why?\n",
    "\n",
    "X = 'iNeuron'\n",
    "\n",
    "def func():\n",
    "\n",
    "X = 'NI'\n",
    "\n",
    "print(X)\n",
    "\n",
    "func()\n",
    "\n",
    "print(X)\n",
    "\n",
    "--->\n",
    "    The line, func() Call the function we defined which prints the value of X, which is \"NI\" inside the funtion.\n",
    "\n",
    "    The line, print(X), prints the value of X, which is \"iNeuron\", which is outside func()."
   ]
  },
  {
   "cell_type": "markdown",
   "id": "cefd9113",
   "metadata": {},
   "source": [
    "4)What output does this code produce? Why?\n",
    "\n",
    "X = 'iNeuron'\n",
    "\n",
    "def func():\n",
    "\n",
    "global X\n",
    "\n",
    "X = 'NI'\n",
    "\n",
    "func()\n",
    "\n",
    "print(X)\n",
    "\n",
    "-->\n",
    "    The line, func() Call the function we defined, with \"NI\" as the value of X inside the funtion, but doesn't prints it, as there is no print statement inside the function, and we have used global keyword, which means, global keyword allows us to modify the variable, that is \"X\", outside of the current function.\n",
    "\n",
    "    The line, print(X), prints the value of X, which is now \"NI\", as we used global keyword inside the function.\n",
    "\n"
   ]
  },
  {
   "cell_type": "markdown",
   "id": "1f36dc78",
   "metadata": {},
   "source": [
    "5)X = 'iNeuron'\n",
    "\n",
    "def func():\n",
    "\n",
    "X = 'NI'\n",
    "\n",
    "def nested():\n",
    "\n",
    "print(X)\n",
    "\n",
    "nested()\n",
    "\n",
    "func()\n",
    "\n",
    "X\n",
    "-->\n",
    "\n",
    "X = 'iNeuron'\n",
    "def func():\n",
    "    X = \"NI\"\n",
    "def nested():\n",
    "    print(X)\n",
    "nested()\n",
    "\n",
    "func()\n",
    "\n",
    "X\n"
   ]
  },
  {
   "cell_type": "markdown",
   "id": "75115b69",
   "metadata": {},
   "source": [
    "6)def func():\n",
    "\n",
    "X = 'NI'\n",
    "\n",
    "def nested():\n",
    "\n",
    "nonlocal X\n",
    "\n",
    "X = 'Spam'\n",
    "\n",
    "nested()\n",
    "\n",
    "print(X)\n",
    "\n",
    "func()\n",
    "--->\n",
    "The nonlocal keyword is used to work with variables inside nested functions, where the variable should not belong to the inner function.Use the keyword nonlocal to declare that the variable is not local"
   ]
  },
  {
   "cell_type": "markdown",
   "id": "3372c154",
   "metadata": {},
   "source": []
  },
  {
   "cell_type": "markdown",
   "id": "15cab263",
   "metadata": {},
   "source": [
    "# Part- 23"
   ]
  },
  {
   "cell_type": "markdown",
   "id": "f2f59f46",
   "metadata": {},
   "source": [
    "1)What is the result of the code, and why?\n",
    "\n",
    "def func(a, b=6, c=8):print(a, b, c)\n",
    "\n",
    "func(1, 2)\n",
    "--->\n",
    "The line func() takes two values, that is 1 and 2 respectively, but the func() is defined to take 3 values, as in func() we pass only two values, the third value comes from the default value, that is c = 8."
   ]
  },
  {
   "cell_type": "markdown",
   "id": "bafe68dd",
   "metadata": {},
   "source": [
    "2)What is the result of this code, and why?\n",
    "def func(a, b, c=5):print(a, b, c)\n",
    "func(1, c=3, b=2)\n",
    "-->\n",
    "The line func() takes three values, that is 1 , c= 3 snd b = 2 respectively,the func() is defined to take 3 values, as in func() we pass othree values, the default values gets overwritten, and we get the newly passed values."
   ]
  },
  {
   "cell_type": "markdown",
   "id": "f64882b1",
   "metadata": {},
   "source": [
    "3)How about this code: what is its result, and why?\n",
    "def func(a, *pargs):print(a, pargs)\n",
    "func(1, 2, 3)\n",
    "-->\n",
    "def func(a, *pargs):\n",
    "    print(a, pargs)\n",
    "func(1, 2, 3)"
   ]
  },
  {
   "cell_type": "markdown",
   "id": "7d72976d",
   "metadata": {},
   "source": [
    "4)What does this code print, and why?\n",
    "def func(a, **kargs):print(a, kargs)\n",
    "func(a=1, c=3, b=2)\n",
    "-->\n",
    "The special syntax **kargs in function definitions in python is used to pass a keyworded, variable-length argument list. We use the name kwargs with the double star. The reason is because the double star allows us to pass through keyword arguments (and any number of them)."
   ]
  },
  {
   "cell_type": "markdown",
   "id": "573eab62",
   "metadata": {},
   "source": [
    "5)What gets printed by this, and explain?\n",
    "def func(a, b, c=8, d=5): print(a, b, c, d)\n",
    "func(1, *(5, 6))\n",
    "--->\n",
    "\n",
    "\n",
    "def func(a, b, c=8, d=5): \n",
    "    print(a, b, c, d)\n",
    "func(1, *(5, 6))\n"
   ]
  },
  {
   "cell_type": "markdown",
   "id": "56944f78",
   "metadata": {},
   "source": [
    "6)what is the result of this, and explain?\n",
    "def func(a, b, c): a = 2; b[0] = 'x'; c['a'] = 'y'\n",
    "l=1; m=[1]; n={'a':0}\n",
    "func(l, m, n)\n",
    "-->\n",
    "\n",
    "def func(a, b, c): \n",
    "    a = 2; b[0] = 'x'; c['a'] = 'y'\n",
    "l=1; m=[1]; n={'a':0}\n",
    "func(l, m, n)\n"
   ]
  },
  {
   "cell_type": "markdown",
   "id": "9d500535",
   "metadata": {},
   "source": []
  },
  {
   "cell_type": "markdown",
   "id": "96978b5a",
   "metadata": {},
   "source": [
    "# Part- 24"
   ]
  },
  {
   "cell_type": "markdown",
   "id": "2f0d29db",
   "metadata": {},
   "source": [
    "1)What is the relationship between def statements and lambda expressions ?\n",
    "\n",
    "--> \n",
    "As an expression, lambda returns a value that can optionally be assigned a name. In contrast, the def statement always assigns the new function to the name in the header, instead of returning is as a result. lambda's body is a single expression, not a block of statements"
   ]
  },
  {
   "cell_type": "markdown",
   "id": "82ae1c04",
   "metadata": {},
   "source": [
    "2)What is the benefit of lambda?\n",
    "\n",
    "-->\n",
    "The lambda keyword in Python provides a shortcut for declaring small anonymous functions. Lambda functions behave just like regular functions declared with the def keyword. They can be used whenever function objects are required."
   ]
  },
  {
   "cell_type": "markdown",
   "id": "d6b03bbe",
   "metadata": {},
   "source": [
    "3)Compare and contrast map, filter, and reduce.\n",
    "\n",
    "--->\n",
    "    Map operation takes a mapping function and a vector of data as arguments and returns a new vector, which is the result of applying the mapping function on each element of the vector independently. The returned value from map() (map object) then can be passed to functions like list() (to create a list), set() (to create a set) and so on.\n",
    "\n",
    "    The filter function operates on a list and returns a subset of that list after applying the filtering rule.\n",
    "\n",
    "    The reduce function will transform a given list into a single value by applying a given function continuously to all the elements. It basically keeps operating on pairs of elements until there are no more elements left.\n"
   ]
  },
  {
   "cell_type": "markdown",
   "id": "8f25fb30",
   "metadata": {},
   "source": [
    "4)What are function annotations, and how are they used?\n",
    "\n",
    "--->\n",
    "Function annotations are completely optional both for parameters and return value. Function annotations provide a way of associating various parts of a function with arbitrary python expressions at compile time.\n",
    "\n",
    "Syntax of function annotations for simple parameters and for excess parameters respectively:\n",
    "\n",
    "def foobar(a: expression, b: expression = 5):\n",
    "\n",
    "def foobar(args: expression, kwargs: expression):\n"
   ]
  },
  {
   "cell_type": "markdown",
   "id": "a4f08495",
   "metadata": {},
   "source": [
    "5)What are recursive functions, and how are they used?\n",
    "\n",
    "-->\n",
    "    A recursive function is a function defined in terms of itself via self-referential expressions. This means that the function will continue to call itself and repeat its behavior until some condition is met to return a result.\n",
    "\n",
    "    In this example, tri_recursion() is a function that we have defined to call itself (\"recurse\"). We use the k variable as the data, which decrements (-1) every time we recurse. The recursion ends when the condition is not greater than 0 (i.e. when it is 0).\n"
   ]
  },
  {
   "cell_type": "markdown",
   "id": "0d92eaee",
   "metadata": {},
   "source": [
    "6)What are some general design guidelines for coding functions?\n",
    "\n",
    "---> \n",
    "Use 4-space indentation and no tabs.\n",
    "Use docstrings\n",
    "Wrap lines so that they don’t exceed 79 characters\n",
    "Use of regular and updated comments are valuable to both the coders and users\n"
   ]
  },
  {
   "cell_type": "markdown",
   "id": "10453773",
   "metadata": {},
   "source": [
    "7)Name three or more ways that functions can communicate results to a caller.\n",
    "--->\n",
    "To call a function, we specify the function name with the round brackets.\n",
    "Use of return keyword inside function which returns the results to the caller.\n",
    "Use of print statement inside function which prints the results to the caller.\n"
   ]
  },
  {
   "cell_type": "markdown",
   "id": "fd0eff99",
   "metadata": {},
   "source": []
  },
  {
   "cell_type": "markdown",
   "id": "db88014e",
   "metadata": {},
   "source": [
    "# Part- 25"
   ]
  },
  {
   "cell_type": "markdown",
   "id": "80f9607d",
   "metadata": {},
   "source": [
    "1)What is the difference between enclosing a list comprehension in square brackets and parentheses?\n",
    "\n",
    "---> \n",
    "The difference between the two kinds of expressions is that the List comprehension is enclosed in square brackets [] while the Generator expression is enclosed in plain parentheses ()"
   ]
  },
  {
   "cell_type": "markdown",
   "id": "b7aeef31",
   "metadata": {},
   "source": [
    "2)What is the relationship between generators and iterators?\n",
    "\n",
    "--->\n",
    "    Generators : It is another way of creating iterators in a simple way where it uses the keyword “yield” instead of returning it in a defined function. Generators are implemented using a function. Just as iterators, generators also follow lazy evaluation. Here, the yield function returns the data without affecting or exiting the function. It will return a sequence of data in an iterable format where we need to iterate over the sequence to use the data as they won’t store the entire sequence in the memory.\n",
    "\n",
    "    Iterators : An iterator is an object which contains a countable number of values and it is used to iterate over iterable objects like list, tuples, sets, etc. Iterators are implemented using a class and a local variable for iterating is not required here, It follows lazy evaluation where the evaluation of the expression will be on hold and stored in the memory until the item is called specifically which helps us to avoid repeated evaluation. As lazy evaluation is implemented, it requires only 1 memory location to process the value and when we are using a large dataset then, wastage of RAM space will be reduced the need to load the entire dataset at the same time will not be there.\n"
   ]
  },
  {
   "cell_type": "markdown",
   "id": "e2f189c2",
   "metadata": {},
   "source": [
    "3)What are the signs that a function is a generator function?\n",
    "-->\n",
    "In a generator function, a yield statement is used rather than a return statement."
   ]
  },
  {
   "cell_type": "markdown",
   "id": "7a7b58f9",
   "metadata": {},
   "source": [
    "4)What is the purpose of a yield statement?\n",
    "\n",
    "-->\n",
    "Yield is a keyword in Python that is used to return from a function without destroying the states of its local variable and when the function is called, the execution starts from the last yield statement. Any function that contains a yield keyword is termed as generator. Hence, yield is what makes a generator. yield keyword in Python is less known off but has a greater utility which one can think of."
   ]
  },
  {
   "cell_type": "markdown",
   "id": "961cfbe4",
   "metadata": {},
   "source": [
    "5)What is the relationship between map calls and list comprehensions? Make a comparison and contrast between the two.\n",
    "-->\n",
    "List comprehension is more concise and easier to read as compared to map.\n",
    "\n",
    "List comprehension allows filtering. In map, we have no such facility. For example, to print all even numbers in range of 100, we can write [n for n in range(100) if n%2 == 0]. There is no alternate for it in map.\n",
    "\n",
    "List comprehension are used when a list of results is required as map only returns a map object and does not return any list.\n",
    "\n",
    "List comprehension is faster than map when we need to evaluate expressions that are too long or complicated to express.\n",
    "\n",
    "Map is faster in case of calling an already defined function (as no lambda is required).\n"
   ]
  },
  {
   "cell_type": "code",
   "execution_count": null,
   "id": "4e9438a0",
   "metadata": {},
   "outputs": [],
   "source": []
  },
  {
   "cell_type": "code",
   "execution_count": null,
   "id": "0a02545d",
   "metadata": {},
   "outputs": [],
   "source": []
  },
  {
   "cell_type": "code",
   "execution_count": null,
   "id": "a6a95745",
   "metadata": {},
   "outputs": [],
   "source": []
  },
  {
   "cell_type": "raw",
   "id": "0809c3e9",
   "metadata": {},
   "source": []
  },
  {
   "cell_type": "raw",
   "id": "5f3051bb",
   "metadata": {},
   "source": []
  },
  {
   "cell_type": "raw",
   "id": "c3f56089",
   "metadata": {},
   "source": []
  },
  {
   "cell_type": "raw",
   "id": "929b1c2c",
   "metadata": {},
   "source": []
  },
  {
   "cell_type": "raw",
   "id": "5b0b81be",
   "metadata": {},
   "source": []
  },
  {
   "cell_type": "raw",
   "id": "d1de1bd9",
   "metadata": {},
   "source": []
  },
  {
   "cell_type": "raw",
   "id": "2b71f362",
   "metadata": {},
   "source": []
  },
  {
   "cell_type": "raw",
   "id": "03fbe9e9",
   "metadata": {},
   "source": []
  },
  {
   "cell_type": "raw",
   "id": "2b9a09ec",
   "metadata": {},
   "source": []
  },
  {
   "cell_type": "raw",
   "id": "b659fab4",
   "metadata": {},
   "source": []
  },
  {
   "cell_type": "raw",
   "id": "d45fb4de",
   "metadata": {},
   "source": []
  },
  {
   "cell_type": "raw",
   "id": "1cdd67aa",
   "metadata": {},
   "source": []
  },
  {
   "cell_type": "raw",
   "id": "ed45b317",
   "metadata": {},
   "source": []
  },
  {
   "cell_type": "raw",
   "id": "d5ce5e02",
   "metadata": {},
   "source": []
  },
  {
   "cell_type": "raw",
   "id": "81b40d64",
   "metadata": {},
   "source": []
  }
 ],
 "metadata": {
  "kernelspec": {
   "display_name": "Python 3",
   "language": "python",
   "name": "python3"
  },
  "language_info": {
   "codemirror_mode": {
    "name": "ipython",
    "version": 3
   },
   "file_extension": ".py",
   "mimetype": "text/x-python",
   "name": "python",
   "nbconvert_exporter": "python",
   "pygments_lexer": "ipython3",
   "version": "3.8.8"
  }
 },
 "nbformat": 4,
 "nbformat_minor": 5
}
