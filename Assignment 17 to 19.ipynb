{
 "cells": [
  {
   "cell_type": "markdown",
   "id": "f39005d1",
   "metadata": {},
   "source": [
    "# Part-17"
   ]
  },
  {
   "cell_type": "markdown",
   "id": "54301468",
   "metadata": {},
   "source": [
    "1) Assign the value 7 to the variable guess_me. Then, write the conditional tests (if, else, and elif) to\n",
    "print the string 'too low'; if guess_me is less than 7, 'too high'; if greater than 7, and 'just right'; if equal\n",
    "to 7.\n",
    "\n",
    "---> guess_me = 7\n",
    "    if guess_me>7:\n",
    "        'too high'\n",
    "    elif guess_me<7:\n",
    "        'too low'\n",
    "    elif guess_me=7:\n",
    "        'just right'"
   ]
  },
  {
   "cell_type": "markdown",
   "id": "3b31968f",
   "metadata": {},
   "source": [
    "2) Assign the value 7 to the variable guess_me and the value 1 to the variable start. Write a while\n",
    "loop that compares start with guess_me. Print 'too low' if start is less than guess me. If start equals\n",
    "guess_me, print 'found it' and exit the loop. If start is greater than guess_me, print 'oops' and exit\n",
    "the loop. Increment start at the end of the loop.\n",
    "\n",
    "--->  \n",
    "guess_me = 7\n",
    "start=9\n",
    "while start!=guess_me: \n",
    "    if start<guess_me:\n",
    "        print('Too Low')\n",
    "        break\n",
    "    elif start>guess_me:\n",
    "        print('OOPS')\n",
    "        break\n",
    "else:    \n",
    "    print('found it')        "
   ]
  },
  {
   "cell_type": "markdown",
   "id": "69e42cfd",
   "metadata": {},
   "source": [
    "3) Print the following values of the list [3, 2, 1, 0] using a for loop.\n",
    "\n",
    "---> \n",
    "list=[3, 2, 1, 0]\n",
    "for i in list:\n",
    "    print(i)"
   ]
  },
  {
   "cell_type": "markdown",
   "id": "a804e718",
   "metadata": {},
   "source": [
    "4) Use a list comprehension to make a list of the even numbers in range(10)\n",
    "\n",
    "--> \n",
    "[i for i in range(1,10) if i%2==0]\n",
    "\n",
    "[2, 4, 6, 8]"
   ]
  },
  {
   "cell_type": "markdown",
   "id": "c6f84575",
   "metadata": {},
   "source": [
    "5) Use a dictionary comprehension to create the dictionary squares. Use range(10) to return the\n",
    "keys, and use the square of each key as its value.\n",
    "\n",
    "--->\n",
    "\n",
    "{i:i*i for i in range(10)}\n",
    "\n",
    "{0: 0, 1: 1, 2: 4, 3: 9, 4: 16, 5: 25, 6: 36, 7: 49, 8: 64, 9: 81}"
   ]
  },
  {
   "cell_type": "markdown",
   "id": "02f5e6f4",
   "metadata": {},
   "source": [
    "6) Construct the set odd from the odd numbers in the range using a set comprehension (10).\n",
    "\n",
    "---> \n",
    "{i for i in range(1,10) if i%2!=0}\n",
    "\n",
    "{1, 3, 5, 7, 9}"
   ]
  },
  {
   "cell_type": "markdown",
   "id": "d5d55aa9",
   "metadata": {},
   "source": [
    "7) Use a generator comprehension to return the string 'Got' and a number for the numbers in\n",
    "range(10). Iterate through this by using a for loop.\n",
    "\n",
    "---> \n",
    "str_gen=['Got '+str(num) for num in range(10)]\n",
    "for i in str_gen:\n",
    "    print(i)\n"
   ]
  },
  {
   "cell_type": "markdown",
   "id": "8487353b",
   "metadata": {},
   "source": [
    "8) Define a function called good that returns the list ['Harry', 'Ron', 'Hermione'].\n",
    "\n",
    "---> \n",
    "list=['Harry', 'Ron', 'Hermione']\n",
    "def good():\n",
    "    return list"
   ]
  },
  {
   "cell_type": "markdown",
   "id": "df3c5664",
   "metadata": {},
   "source": [
    "9) Define a generator function called get_odds that returns the odd numbers from range(10). Use a\n",
    "for loop to find and print the third value returned.\n",
    "\n",
    "---> \n",
    "\n",
    "def get_odds():\n",
    "    odds=[i for i in range(10) if i%2!=0]\n",
    "    return odds\n",
    "\n",
    "for i in get_odds():\n",
    "    print(i)"
   ]
  },
  {
   "cell_type": "markdown",
   "id": "953bc8a2",
   "metadata": {},
   "source": [
    "10) Define an exception called OopsException. Raise this exception to see what happens. Then write\n",
    "the code to catch this exception and print 'Caught an oops'.\n",
    "\n",
    "---> \n",
    "\n",
    "class OopsException():\n",
    "    pass\n",
    "\n",
    "def with_exception(a):\n",
    "    if a < 0:\n",
    "        raise OopsException(a)\n",
    "        \n",
    "try:\n",
    "    with_exception(-1)\n",
    "except OopsException as err:\n",
    "    print('Caught an oops')\n",
    "\n"
   ]
  },
  {
   "cell_type": "markdown",
   "id": "2ab72b4e",
   "metadata": {},
   "source": [
    "def test(func):\n",
    "    def nested_function(*args, **kwargs):\n",
    "        print('start')\n",
    "        result = func(*args, **kwargs)\n",
    "        print('end')\n",
    "        return result\n",
    "    return nested_function\n",
    "\n",
    "@test\n",
    "def add(a, b):\n",
    "    print(a + b)\n",
    "\n",
    "add(12,4)"
   ]
  },
  {
   "cell_type": "markdown",
   "id": "138735ad",
   "metadata": {},
   "source": [
    "class OopsException(Exception):\n",
    "    pass\n",
    "\n",
    "def with_exception(a):\n",
    "    if a < 0:\n",
    "        raise OopsException(a)\n",
    "        \n"
   ]
  },
  {
   "cell_type": "markdown",
   "id": "c7061dbf",
   "metadata": {},
   "source": [
    "try:\n",
    "    with_exception(-1)\n",
    "except OopsException as err:\n",
    "    print('Caught an oops')"
   ]
  },
  {
   "cell_type": "markdown",
   "id": "85531dbd",
   "metadata": {},
   "source": [
    "11) Use zip() to make a dictionary called movies that pairs these lists: titles = ['Creature of Habit',\n",
    "'Crewel Fate'] and plots = ['A nun turns into a monster', 'A haunted yarn shop'].\n",
    "    \n",
    "--- > \n",
    "titles = ['Creature of Habit','Crewel Fate']\n",
    "plots = ['A nun turns into a monster', 'A haunted yarn shop']\n",
    "\n",
    "movies={}\n",
    "for title,plots in zip(titles,plots):\n",
    "    movies['title']=plots\n",
    "            \n"
   ]
  },
  {
   "cell_type": "markdown",
   "id": "4302a4c8",
   "metadata": {},
   "source": []
  },
  {
   "cell_type": "markdown",
   "id": "77e4d72d",
   "metadata": {},
   "source": [
    "# Part - 18"
   ]
  },
  {
   "cell_type": "markdown",
   "id": "83481523",
   "metadata": {},
   "source": [
    "1) Create a zoo.py file first. Define the hours() function, which prints the string 'Open 9-5 daily'.\n",
    "Then, use the interactive interpreter to import the zoo module and call its hours() function.\n",
    "\n",
    "---> \n",
    "def hours():\n",
    "    print('open 9-5 daily')\n",
    "\n",
    "import zoo\n",
    "\n",
    "hours()"
   ]
  },
  {
   "cell_type": "markdown",
   "id": "49d33669",
   "metadata": {},
   "source": [
    "2) In the interactive interpreter, import the zoo module as menagerie and call its hours() function.\n",
    "\n",
    "--> \n",
    "import zoo as menagerie\n",
    "\n",
    "hours()"
   ]
  },
  {
   "cell_type": "markdown",
   "id": "f998a4aa",
   "metadata": {},
   "source": [
    "3) Using the interpreter, explicitly import and call the hours() function from zoo.\n",
    "\n",
    "--> \n",
    "import zoo\n",
    "\n",
    "hours()"
   ]
  },
  {
   "cell_type": "markdown",
   "id": "0197f876",
   "metadata": {},
   "source": [
    "4) Import the hours() function as info and call it.\n",
    "\n",
    "--> \n",
    "from zoo import hours as info\n",
    "info()"
   ]
  },
  {
   "cell_type": "markdown",
   "id": "539de7f5",
   "metadata": {},
   "source": [
    "5) Create a plain dictionary with the key-value pairs 'a': 1,'b': 2, and 'c': 3, and print it out.\n",
    "            \n",
    "--> plain= {'a': 1,'b': 2,'c': 3}\n",
    "\n",
    "for i in plain:\n",
    "    print(i)"
   ]
  },
  {
   "cell_type": "markdown",
   "id": "2089a740",
   "metadata": {},
   "source": [
    "6) Make an OrderedDict called fancy from the same pairs listed in 5 and print it. Did it print in the\n",
    "same order as plain?\n",
    "\n",
    "-->\n",
    "fancy= {'a': 1,'b': 2,'c': 3}\n"
   ]
  },
  {
   "cell_type": "markdown",
   "id": "d19bf4cf",
   "metadata": {},
   "source": [
    "7) Make a default dictionary called dict_of_lists and pass it the argument list. Make the list\n",
    "dict_of_lists['a'] and append the value 'something for a' to it in one assignment. Print\n",
    "dict_of_lists[a'].\n",
    "              \n",
    "---> \n",
    "from collections import defaultdict\n",
    "dict_of_lists=defaultdict(list)\n",
    "dict_of_lists['a']='something for a'\n",
    "dict_of_lists"
   ]
  },
  {
   "cell_type": "markdown",
   "id": "cca9511d",
   "metadata": {},
   "source": []
  },
  {
   "cell_type": "markdown",
   "id": "bb557a99",
   "metadata": {},
   "source": [
    "# Part-19"
   ]
  },
  {
   "cell_type": "markdown",
   "id": "aa82d746",
   "metadata": {},
   "source": [
    "1) Make a class called Thing with no contents and print it. Then, create an object called example\n",
    "from this class and also print it. Are the printed values the same or different?\n",
    "\n",
    "--> --> \n",
    "class Thing:\n",
    "     pass\n",
    "print(Thing)\n",
    "\n",
    "\n",
    "example = Thing()\n",
    "print(example)"
   ]
  },
  {
   "cell_type": "markdown",
   "id": "363338c7",
   "metadata": {},
   "source": [
    "2) Create a new class called Thing2 and add the value 'abc' to the letters class attribute. Letters\n",
    "should be printed.\n",
    "\n",
    "--> \n",
    "class Thing2:\n",
    "    letters = 'abc'\n",
    "print(Thing2.letters)"
   ]
  },
  {
   "cell_type": "markdown",
   "id": "214fe384",
   "metadata": {},
   "source": [
    "3)Make yet another class called, of course, Thing3. This time, assign the value ''xyz' to an instance\n",
    "(object) attribute called letters. Print letters. Do you need to make an object from the class to do\n",
    "this?\n",
    "\n",
    "--> \n",
    "class Thing3:\n",
    "    def __init__(self):\n",
    "        self.letters = 'xyz'\n"
   ]
  },
  {
   "cell_type": "markdown",
   "id": "937bbf16",
   "metadata": {},
   "source": [
    "4) Create an Element class with the instance attributes name, symbol, and number. Create a class object with the values 'Hydrogen,' 'H,' and 1\n",
    "\n",
    "--> \n",
    "class Element:\n",
    "    def __init__(self, name, symbol, number):\n",
    "        self.name = name\n",
    "        self.symbol = symbol\n",
    "        self.number = number\n",
    "hydrogen = Element('Hydrogen', 'H', 1)"
   ]
  },
  {
   "cell_type": "markdown",
   "id": "83db56df",
   "metadata": {},
   "source": [
    "\n",
    "5)Make a dictionary with these keys and values: 'name': 'Hydrogen', 'symbol': 'H', 'number': 1. Then, create an object called hydrogen from class Element using this dictionary.\n",
    "                \n",
    "---> \n",
    "el_dict = {'name': 'Hydrogen', 'symbol': 'H', 'number': 1}\n",
    "hydrogen = Element(el_dict['name'], el_dict['symbol'], el_dict['number'])\n"
   ]
  },
  {
   "cell_type": "markdown",
   "id": "877fc627",
   "metadata": {},
   "source": [
    "6) For the Element class, define a method called dump() that prints the values of the object’s attributes (name, symbol, and number). Create the hydrogen object from this new definition and use dump() to print its attributes.\n",
    "\n",
    "--> \n",
    "class Element:\n",
    "    def __init__(self, name, symbol, number):\n",
    "        self.name = name\n",
    "        self.symbol = symbol\n",
    "        self.number = number\n",
    "    def dump(self):\n",
    "        print('name=%s, symbol=%s, number=%s' %(self.name, self.symbol, self.number))\n",
    "hydrogen = Element(**el_dict)\n",
    "hydrogen.dump()"
   ]
  },
  {
   "cell_type": "markdown",
   "id": "96f9f22a",
   "metadata": {},
   "source": [
    "7) Call print(hydrogen). In the definition of Element, change the name of method dump to str, create a new hydrogen object, and call print(hydrogen) again.\n",
    "\n",
    "--> \n",
    "class Element:\n",
    "    def __init__(self, name, symbol, number):\n",
    "        self.name = name\n",
    "        self.symbol = symbol\n",
    "        self.number = number\n",
    "    def __str__(self):\n",
    "        return ('name=%s, symbol=%s, number=%s' %(self.name, self.symbol, self.number))\n",
    "\n",
    "hydrogen = Element(**el_dict)\n",
    "print(hydrogen)"
   ]
  },
  {
   "cell_type": "markdown",
   "id": "3a7016eb",
   "metadata": {},
   "source": [
    "8) Modify Element to make the attributes name, symbol, and number private. Define a getter property for each to return its value.\n",
    "\n",
    "---> \n",
    "class Element:\n",
    "    def __init__(self, name, symbol, number):\n",
    "        self.__name = name\n",
    "        self.__symbol = symbol\n",
    "        self.__number = number\n",
    "    @property    \n",
    "    def name(self):\n",
    "        return self.__name\n",
    "    @property\n",
    "    def symbol(self):\n",
    "        return self.__symbol\n",
    "    @property\n",
    "    def number(self):\n",
    "        return self.__number\n",
    "hydrogen = Element('Hydrogen', 'H', 1)"
   ]
  },
  {
   "cell_type": "markdown",
   "id": "1b944d59",
   "metadata": {},
   "source": [
    "\n",
    "9) Define three classes: Bear, Rabbit, and Octothorpe. For each, define only one method: eats(). This should return 'berries' (Bear), 'clover' (Rabbit), or 'campers' (Octothorpe). Create one object from each and print what it eats.\n",
    "    \n",
    "---> \n",
    "class Bear:\n",
    "    def eats(self):\n",
    "        return 'berries'\n",
    "    \n",
    "class Rabbit:\n",
    "    def eats(self):\n",
    "        return 'clover'\n",
    "\n",
    "class Octothorpe:\n",
    "    def eats(self):\n",
    "        return 'campers'\n",
    "    \n",
    "b = Bear()\n",
    "r = Rabbit()\n",
    "o = Octothorpe()\n"
   ]
  },
  {
   "cell_type": "markdown",
   "id": "a73951dd",
   "metadata": {},
   "source": [
    "10) Define these classes: Laser, Claw, and SmartPhone. Each has only one method: does(). This returns 'disintegrate' (Laser), 'crush' (Claw), or 'ring' (SmartPhone). Then, define the class Robot that has one instance (object) of each of these. Define a does() method for the Robot that prints what its component objects do.\n",
    "\n",
    "---> \n",
    "class Laser:\n",
    "    def does(self):\n",
    "        return 'disintegrate'\n",
    "\n",
    "class Claw:\n",
    "    def does(self):\n",
    "        return 'crush'\n",
    "    \n",
    "class SmartPhone:\n",
    "    def does(self):\n",
    "        return 'ring'\n",
    "    \n",
    "class Robot:\n",
    "    def __init__(self):\n",
    "        self.laser = Laser()\n",
    "        self.claw = Claw()\n",
    "        self.smartphone = SmartPhone()\n",
    "        \n",
    "    def does(self):\n",
    "        return '''I have many attachments:\n",
    "        My laser, to %s.\n",
    "        My claw, to %s.\n",
    "        My smartphone, to %s.''' % (self.laser.does(),self.claw.does(),self.smartphone.does())\n",
    "robbie = Robot()\n"
   ]
  },
  {
   "cell_type": "markdown",
   "id": "cc713e93",
   "metadata": {},
   "source": []
  },
  {
   "cell_type": "markdown",
   "id": "4a2fddd6",
   "metadata": {},
   "source": []
  },
  {
   "cell_type": "markdown",
   "id": "9d1a3f7e",
   "metadata": {},
   "source": []
  }
 ],
 "metadata": {
  "kernelspec": {
   "display_name": "Python 3",
   "language": "python",
   "name": "python3"
  },
  "language_info": {
   "codemirror_mode": {
    "name": "ipython",
    "version": 3
   },
   "file_extension": ".py",
   "mimetype": "text/x-python",
   "name": "python",
   "nbconvert_exporter": "python",
   "pygments_lexer": "ipython3",
   "version": "3.8.8"
  }
 },
 "nbformat": 4,
 "nbformat_minor": 5
}
